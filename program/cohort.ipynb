{
 "cells": [
  {
   "cell_type": "markdown",
   "id": "00b7ba7b-433c-463c-8e5e-8b975a5be463",
   "metadata": {
    "tags": []
   },
   "source": [
    "## Desarrollo de sistemas de aprendizaje automático para producción\n"
   ]
  },
  {
   "cell_type": "markdown",
   "id": "bd7bb73f",
   "metadata": {},
   "source": [
    "Este notebook crea un [SageMaker Pipeline](https://sagemaker.readthedocs.io/en/stable/amazon_sagemaker_model_building_pipeline.html) para construir un sistema de aprendizaje automático de un extremo a otro para resolver el problema de clasificar especies de pingüinos. Con SageMaker Pipeline, puede crear, automatizar y administrar flujos de trabajo de aprendizaje automático de un extremo a otro a escala.\n",
    "\n",
    "Puede encontrar más información sobre Amazon SageMaker en la [Guía para desarrolladores de Amazon SageMaker](https://docs.aws.amazon.com/sagemaker/latest/dg/whatis.html). El [Blog de AWS Machine Learning](https://aws.amazon.com/blogs/machine-learning/) es una excelente fuente para mantenerse actualizado con SageMaker.\n",
    "\n",
    "Este ejemplo utiliza el [conjunto de datos de Penguins](https://www.kaggle.com/parulpandey/palmer-archipelago-antarctica-penguin-data), el [boto3](https://boto3.amazonaws.com/v1/documentation/api/latest/reference/services/sagemaker.html) y la biblioteca [SageMaker Python SDK](https://sagemaker.readthedocs.io/en/stable/).\n",
    "\n",
    "<img src='images/penguins.png' alt='Pingüinos' width=\"800\">\n",
    "\n",
    "Este cuaderno es parte del seminario  [Desarrollo de sistemas de aprendizaje automático para producción](https://www.****.******).\n"
   ]
  },
  {
   "cell_type": "markdown",
   "id": "5ec22ac1",
   "metadata": {},
   "source": [
    "## Configuración inicial\n",
    "\n",
    ":::{.callout-note}\n",
    "Antes de ejecutar este cuaderno, siga las [Instrucciones de configuración](https://**.**.***/***setup.html) para el seminario.\n",
    ":::\n",
    "\n",
    "Comencemos configurando el entorno y preparándonos para ejecutar el notebook."
   ]
  },
  {
   "cell_type": "code",
   "execution_count": 349,
   "id": "4b2265b0",
   "metadata": {},
   "outputs": [
    {
     "name": "stdout",
     "output_type": "stream",
     "text": [
      "The autoreload extension is already loaded. To reload it, use:\n",
      "  %reload_ext autoreload\n",
      "The dotenv extension is already loaded. To reload it, use:\n",
      "  %reload_ext dotenv\n"
     ]
    }
   ],
   "source": [
    "#| hide\n",
    "\n",
    "%load_ext autoreload\n",
    "%autoreload 2\n",
    "%load_ext dotenv\n",
    "%dotenv\n",
    "\n",
    "import sys\n",
    "import logging\n",
    "import ipytest\n",
    "import json\n",
    "from pathlib import Path\n",
    "\n",
    "\n",
    "CODE_FOLDER = Path(\"code\")\n",
    "CODE_FOLDER.mkdir(parents=True, exist_ok=True)\n",
    "INFERENCE_CODE_FOLDER = CODE_FOLDER / \"inference\"\n",
    "INFERENCE_CODE_FOLDER.mkdir(parents=True, exist_ok=True)\n",
    "\n",
    "sys.path.extend([f\"./{CODE_FOLDER}\", f\"./{INFERENCE_CODE_FOLDER}\"])\n",
    "\n",
    "DATA_FILEPATH = \"penguins.csv\"\n",
    "\n",
    "ipytest.autoconfig(raise_on_error=True)\n",
    "\n",
    "# De forma predeterminada, SageMaker SDK registra eventos relacionados con la configuración predeterminada \n",
    "# utilizando el nivel INFO. Para evitar que esto arruine el resultado de las celdas de este notebook,\n",
    "# podemos cambiar el nivel de registro a ERROR.\n",
    "logging.getLogger(\"sagemaker.config\").setLevel(logging.ERROR)"
   ]
  },
  {
   "cell_type": "markdown",
   "id": "588d34c9",
   "metadata": {},
   "source": [
    "Podemos ejecutar este cuaderno en [Modo local](https://docs.aws.amazon.com/sagemaker/latest/dg/pipelines-local-mode.html) para probar el pipeline en tu entorno local antes de usar SageMaker.\n",
    "Puedes ejecutar el código en modo local configurando la constante `LOCAL_MODE` en `True`.\n"
   ]
  },
  {
   "cell_type": "code",
   "execution_count": 350,
   "id": "32c4d764",
   "metadata": {},
   "outputs": [],
   "source": [
    "LOCAL_MODE = False"
   ]
  },
  {
   "cell_type": "markdown",
   "id": "d6be4f8d",
   "metadata": {},
   "source": [
    "Carguemos el nombre del bucket de S3 y el rol de AWS desde las variables de entorno:"
   ]
  },
  {
   "cell_type": "code",
   "execution_count": 351,
   "id": "3164a3af",
   "metadata": {},
   "outputs": [],
   "source": [
    "import os\n",
    "\n",
    "bucket = os.environ[\"BUCKET\"]\n",
    "role = os.environ[\"ROLE\"]\n",
    "\n",
    "S3_LOCATION = f\"s3://{bucket}/penguins\""
   ]
  },
  {
   "cell_type": "markdown",
   "id": "daa700f4",
   "metadata": {},
   "source": [
    "Si ejecuta la canalización en modo local en una máquina ARM64, necesitará utilizar una imagen de Docker personalizada para entrenar y evaluar el modelo. Esto se debe a que SageMaker no proporciona una imagen de TensorFlow que sea compatible con los chips M de Apple."
   ]
  },
  {
   "cell_type": "code",
   "execution_count": 352,
   "id": "7bc40d28",
   "metadata": {},
   "outputs": [],
   "source": [
    "architecture = !(uname -m)\n",
    "IS_APPLE_M_CHIP = architecture[0] == \"arm64\""
   ]
  },
  {
   "cell_type": "markdown",
   "id": "7d906ada",
   "metadata": {},
   "source": [
    "Creemos un diccionario de configuración con diferentes configuraciones dependiendo de si estamos ejecutando el pipeline en Modo Local o no:"
   ]
  },
  {
   "cell_type": "code",
   "execution_count": 353,
   "id": "3b3f17e5",
   "metadata": {},
   "outputs": [],
   "source": [
    "import sagemaker\n",
    "from sagemaker.workflow.pipeline_context import PipelineSession, LocalPipelineSession\n",
    "\n",
    "pipeline_session = PipelineSession(default_bucket=bucket) if not LOCAL_MODE else None\n",
    "\n",
    "if LOCAL_MODE:\n",
    "    config = {\n",
    "        \"session\": LocalPipelineSession(default_bucket=bucket),\n",
    "        \"instance_type\": \"local\",\n",
    "        # Necesitamos usar una imagen de Docker personalizada cuando ejecutamos la canalización\n",
    "        # en modelo local en una máquina ARM64.\n",
    "        \"image\": \"sagemaker-tensorflow-toolkit-local\" if IS_APPLE_M_CHIP else None,\n",
    "    }\n",
    "else:\n",
    "    config = {\n",
    "        \"session\": pipeline_session,\n",
    "        \"instance_type\": \"ml.m5.xlarge\",\n",
    "        \"image\": None,\n",
    "    }\n",
    "\n",
    "config[\"framework_version\"] = \"2.11\"\n",
    "config[\"py_version\"] = \"py39\""
   ]
  },
  {
   "cell_type": "markdown",
   "id": "9089696b",
   "metadata": {},
   "source": [
    "Ahora inicialicemos algunas variables que necesitaremos en todo el cuaderno:"
   ]
  },
  {
   "cell_type": "code",
   "execution_count": 354,
   "id": "942a01b5",
   "metadata": {},
   "outputs": [],
   "source": [
    "import boto3\n",
    "\n",
    "sagemaker_session = sagemaker.session.Session()\n",
    "sagemaker_client = boto3.client(\"sagemaker\")\n",
    "iam_client = boto3.client(\"iam\")\n",
    "region = boto3.Session().region_name"
   ]
  },
  {
   "cell_type": "markdown",
   "id": "11137928-6b4e-465c-8ad7-2297afbaa33c",
   "metadata": {},
   "source": [
    "## Clase 1 - El Machine Learning en producción es diferente\n",
    "\n",
    "En esta sesión, ejecutaremos un análisis de datos exploratorio en el [Penguins dataset](https://www.kaggle.com/parulpandey/palmer-archipelago-antarctica-penguin-data) y construiremos un  [SageMaker Pipeline](https://docs.aws.amazon.com/sagemaker/latest/dg/pipelines-sdk.html) con un paso para dividir y transformar los datos.\n",
    "\n",
    "<a href=\"images/training.png\" target=\"_blank\"> <img src=\"images/training.png\" alt=\"Training\" style=\"max-width: 750px;\" /></a>\n",
    "\n",
    "Usaremos un [Scikit-Learn Pipeline](https://scikit-learn.org/stable/modules/generated/sklearn.pipeline.Pipeline.html) para las transformaciones y un [Processing Step](https://docs.aws.amazon.com/sagemaker/latest/dg/build-and-manage-steps.html#step-type-processing) con un [SKLearnProcessor](https://sagemaker.readthedocs.io/en/stable/frameworks/sklearn/sagemaker.sklearn.html#scikit-learn-processor) para ejecutar un script de preprocesamiento. Consulte la SageMaker Pipelines Overview](https://docs.aws.amazon.com/sagemaker/latest/dg/pipelines-sdk.html) para obtener una introducción a los componentes fundamentales de SageMaker Pipeline.\n"
   ]
  },
  {
   "cell_type": "markdown",
   "id": "3a835695-557b-46d8-a901-a29bc57df5fe",
   "metadata": {},
   "source": [
    "### Paso 1 - Exploratory Data Analysis\n",
    "\n",
    "Ejecutemos un análisis de datos exploratorio en el conjunto de datos. El objetivo de esta sección es comprender los datos y el problema que intentamos resolver.\n",
    "\n",
    "Carguemos el conjunto de datos de Penguins:\n"
   ]
  },
  {
   "cell_type": "code",
   "execution_count": 355,
   "id": "f1cd2f0e-446d-48a9-a008-b4f1cc593bfc",
   "metadata": {
    "tags": []
   },
   "outputs": [
    {
     "data": {
      "text/html": [
       "<div>\n",
       "<style scoped>\n",
       "    .dataframe tbody tr th:only-of-type {\n",
       "        vertical-align: middle;\n",
       "    }\n",
       "\n",
       "    .dataframe tbody tr th {\n",
       "        vertical-align: top;\n",
       "    }\n",
       "\n",
       "    .dataframe thead th {\n",
       "        text-align: right;\n",
       "    }\n",
       "</style>\n",
       "<table border=\"1\" class=\"dataframe\">\n",
       "  <thead>\n",
       "    <tr style=\"text-align: right;\">\n",
       "      <th></th>\n",
       "      <th>species</th>\n",
       "      <th>island</th>\n",
       "      <th>culmen_length_mm</th>\n",
       "      <th>culmen_depth_mm</th>\n",
       "      <th>flipper_length_mm</th>\n",
       "      <th>body_mass_g</th>\n",
       "      <th>sex</th>\n",
       "    </tr>\n",
       "  </thead>\n",
       "  <tbody>\n",
       "    <tr>\n",
       "      <th>0</th>\n",
       "      <td>Adelie</td>\n",
       "      <td>Torgersen</td>\n",
       "      <td>39.1</td>\n",
       "      <td>18.7</td>\n",
       "      <td>181.0</td>\n",
       "      <td>3750.0</td>\n",
       "      <td>MALE</td>\n",
       "    </tr>\n",
       "    <tr>\n",
       "      <th>1</th>\n",
       "      <td>Adelie</td>\n",
       "      <td>Torgersen</td>\n",
       "      <td>39.5</td>\n",
       "      <td>17.4</td>\n",
       "      <td>186.0</td>\n",
       "      <td>3800.0</td>\n",
       "      <td>FEMALE</td>\n",
       "    </tr>\n",
       "    <tr>\n",
       "      <th>2</th>\n",
       "      <td>Adelie</td>\n",
       "      <td>Torgersen</td>\n",
       "      <td>40.3</td>\n",
       "      <td>18.0</td>\n",
       "      <td>195.0</td>\n",
       "      <td>3250.0</td>\n",
       "      <td>FEMALE</td>\n",
       "    </tr>\n",
       "    <tr>\n",
       "      <th>3</th>\n",
       "      <td>Adelie</td>\n",
       "      <td>Torgersen</td>\n",
       "      <td>NaN</td>\n",
       "      <td>NaN</td>\n",
       "      <td>NaN</td>\n",
       "      <td>NaN</td>\n",
       "      <td>NaN</td>\n",
       "    </tr>\n",
       "    <tr>\n",
       "      <th>4</th>\n",
       "      <td>Adelie</td>\n",
       "      <td>Torgersen</td>\n",
       "      <td>36.7</td>\n",
       "      <td>19.3</td>\n",
       "      <td>193.0</td>\n",
       "      <td>3450.0</td>\n",
       "      <td>FEMALE</td>\n",
       "    </tr>\n",
       "  </tbody>\n",
       "</table>\n",
       "</div>"
      ],
      "text/plain": [
       "  species     island  culmen_length_mm  culmen_depth_mm  flipper_length_mm  \\\n",
       "0  Adelie  Torgersen              39.1             18.7              181.0   \n",
       "1  Adelie  Torgersen              39.5             17.4              186.0   \n",
       "2  Adelie  Torgersen              40.3             18.0              195.0   \n",
       "3  Adelie  Torgersen               NaN              NaN                NaN   \n",
       "4  Adelie  Torgersen              36.7             19.3              193.0   \n",
       "\n",
       "   body_mass_g     sex  \n",
       "0       3750.0    MALE  \n",
       "1       3800.0  FEMALE  \n",
       "2       3250.0  FEMALE  \n",
       "3          NaN     NaN  \n",
       "4       3450.0  FEMALE  "
      ]
     },
     "execution_count": 355,
     "metadata": {},
     "output_type": "execute_result"
    }
   ],
   "source": [
    "import pandas as pd\n",
    "import numpy as np\n",
    "\n",
    "penguins = pd.read_csv(DATA_FILEPATH)\n",
    "penguins.head()"
   ]
  },
  {
   "cell_type": "markdown",
   "id": "c9eae10e-20c4-477e-b6b8-965c3a53566e",
   "metadata": {},
   "source": [
    "Podemos ver que el conjunto de datos contiene las siguientes columnas:\n",
    "\n",
    "1. `species`: La especie de un pingüino. Esta es la columna que queremos predecir.\n",
    "2. `island`: La isla donde se encontró el pingüino\n",
    "3. `culmen_length_mm`: La longitud del culmen (pico) del pingüino en milímetros\n",
    "4. `culmen_depth_mm`: La profundidad del culmen del pingüino en milímetros\n",
    "5. `flipper_length_mm`: La longitud de la aleta del pingüino en milímetros\n",
    "6. `body_mass_g`: La masa corporal del pingüino en gramos.\n",
    "7. `sex`: El sexo del pingüino\n",
    "\n",
    "Si tienes curiosidad, aquí tienes la descripción del culmen de un pingüino:\n",
    "\n",
    "<img src='images/culmen.jpeg' alt='Culmen' width=\"600\">\n",
    "\n",
    "Ahora, obtengamos las estadísticas resumidas de las características de nuestro conjunto de datos.\n"
   ]
  },
  {
   "cell_type": "code",
   "execution_count": 356,
   "id": "f2107c25-e730-4e22-a1b8-5bda53e61124",
   "metadata": {
    "tags": []
   },
   "outputs": [
    {
     "data": {
      "text/html": [
       "<div>\n",
       "<style scoped>\n",
       "    .dataframe tbody tr th:only-of-type {\n",
       "        vertical-align: middle;\n",
       "    }\n",
       "\n",
       "    .dataframe tbody tr th {\n",
       "        vertical-align: top;\n",
       "    }\n",
       "\n",
       "    .dataframe thead th {\n",
       "        text-align: right;\n",
       "    }\n",
       "</style>\n",
       "<table border=\"1\" class=\"dataframe\">\n",
       "  <thead>\n",
       "    <tr style=\"text-align: right;\">\n",
       "      <th></th>\n",
       "      <th>species</th>\n",
       "      <th>island</th>\n",
       "      <th>culmen_length_mm</th>\n",
       "      <th>culmen_depth_mm</th>\n",
       "      <th>flipper_length_mm</th>\n",
       "      <th>body_mass_g</th>\n",
       "      <th>sex</th>\n",
       "    </tr>\n",
       "  </thead>\n",
       "  <tbody>\n",
       "    <tr>\n",
       "      <th>count</th>\n",
       "      <td>344</td>\n",
       "      <td>344</td>\n",
       "      <td>342.000000</td>\n",
       "      <td>342.000000</td>\n",
       "      <td>342.000000</td>\n",
       "      <td>342.000000</td>\n",
       "      <td>334</td>\n",
       "    </tr>\n",
       "    <tr>\n",
       "      <th>unique</th>\n",
       "      <td>3</td>\n",
       "      <td>3</td>\n",
       "      <td>NaN</td>\n",
       "      <td>NaN</td>\n",
       "      <td>NaN</td>\n",
       "      <td>NaN</td>\n",
       "      <td>3</td>\n",
       "    </tr>\n",
       "    <tr>\n",
       "      <th>top</th>\n",
       "      <td>Adelie</td>\n",
       "      <td>Biscoe</td>\n",
       "      <td>NaN</td>\n",
       "      <td>NaN</td>\n",
       "      <td>NaN</td>\n",
       "      <td>NaN</td>\n",
       "      <td>MALE</td>\n",
       "    </tr>\n",
       "    <tr>\n",
       "      <th>freq</th>\n",
       "      <td>152</td>\n",
       "      <td>168</td>\n",
       "      <td>NaN</td>\n",
       "      <td>NaN</td>\n",
       "      <td>NaN</td>\n",
       "      <td>NaN</td>\n",
       "      <td>168</td>\n",
       "    </tr>\n",
       "    <tr>\n",
       "      <th>mean</th>\n",
       "      <td>NaN</td>\n",
       "      <td>NaN</td>\n",
       "      <td>43.921930</td>\n",
       "      <td>17.151170</td>\n",
       "      <td>200.915205</td>\n",
       "      <td>4201.754386</td>\n",
       "      <td>NaN</td>\n",
       "    </tr>\n",
       "    <tr>\n",
       "      <th>std</th>\n",
       "      <td>NaN</td>\n",
       "      <td>NaN</td>\n",
       "      <td>5.459584</td>\n",
       "      <td>1.974793</td>\n",
       "      <td>14.061714</td>\n",
       "      <td>801.954536</td>\n",
       "      <td>NaN</td>\n",
       "    </tr>\n",
       "    <tr>\n",
       "      <th>min</th>\n",
       "      <td>NaN</td>\n",
       "      <td>NaN</td>\n",
       "      <td>32.100000</td>\n",
       "      <td>13.100000</td>\n",
       "      <td>172.000000</td>\n",
       "      <td>2700.000000</td>\n",
       "      <td>NaN</td>\n",
       "    </tr>\n",
       "    <tr>\n",
       "      <th>25%</th>\n",
       "      <td>NaN</td>\n",
       "      <td>NaN</td>\n",
       "      <td>39.225000</td>\n",
       "      <td>15.600000</td>\n",
       "      <td>190.000000</td>\n",
       "      <td>3550.000000</td>\n",
       "      <td>NaN</td>\n",
       "    </tr>\n",
       "    <tr>\n",
       "      <th>50%</th>\n",
       "      <td>NaN</td>\n",
       "      <td>NaN</td>\n",
       "      <td>44.450000</td>\n",
       "      <td>17.300000</td>\n",
       "      <td>197.000000</td>\n",
       "      <td>4050.000000</td>\n",
       "      <td>NaN</td>\n",
       "    </tr>\n",
       "    <tr>\n",
       "      <th>75%</th>\n",
       "      <td>NaN</td>\n",
       "      <td>NaN</td>\n",
       "      <td>48.500000</td>\n",
       "      <td>18.700000</td>\n",
       "      <td>213.000000</td>\n",
       "      <td>4750.000000</td>\n",
       "      <td>NaN</td>\n",
       "    </tr>\n",
       "    <tr>\n",
       "      <th>max</th>\n",
       "      <td>NaN</td>\n",
       "      <td>NaN</td>\n",
       "      <td>59.600000</td>\n",
       "      <td>21.500000</td>\n",
       "      <td>231.000000</td>\n",
       "      <td>6300.000000</td>\n",
       "      <td>NaN</td>\n",
       "    </tr>\n",
       "  </tbody>\n",
       "</table>\n",
       "</div>"
      ],
      "text/plain": [
       "       species  island  culmen_length_mm  culmen_depth_mm  flipper_length_mm  \\\n",
       "count      344     344        342.000000       342.000000         342.000000   \n",
       "unique       3       3               NaN              NaN                NaN   \n",
       "top     Adelie  Biscoe               NaN              NaN                NaN   \n",
       "freq       152     168               NaN              NaN                NaN   \n",
       "mean       NaN     NaN         43.921930        17.151170         200.915205   \n",
       "std        NaN     NaN          5.459584         1.974793          14.061714   \n",
       "min        NaN     NaN         32.100000        13.100000         172.000000   \n",
       "25%        NaN     NaN         39.225000        15.600000         190.000000   \n",
       "50%        NaN     NaN         44.450000        17.300000         197.000000   \n",
       "75%        NaN     NaN         48.500000        18.700000         213.000000   \n",
       "max        NaN     NaN         59.600000        21.500000         231.000000   \n",
       "\n",
       "        body_mass_g   sex  \n",
       "count    342.000000   334  \n",
       "unique          NaN     3  \n",
       "top             NaN  MALE  \n",
       "freq            NaN   168  \n",
       "mean    4201.754386   NaN  \n",
       "std      801.954536   NaN  \n",
       "min     2700.000000   NaN  \n",
       "25%     3550.000000   NaN  \n",
       "50%     4050.000000   NaN  \n",
       "75%     4750.000000   NaN  \n",
       "max     6300.000000   NaN  "
      ]
     },
     "execution_count": 356,
     "metadata": {},
     "output_type": "execute_result"
    }
   ],
   "source": [
    "penguins.describe(include=\"all\")"
   ]
  },
  {
   "cell_type": "markdown",
   "id": "b2e19af7-9f0f-45fe-b7d3-f19721c02a2b",
   "metadata": {},
   "source": [
    "Ahora mostremos la distribución de valores para las tres columnas categóricas de nuestros datos:"
   ]
  },
  {
   "cell_type": "code",
   "execution_count": 357,
   "id": "1242122a-726e-4c37-a718-dd8e873d1612",
   "metadata": {
    "tags": []
   },
   "outputs": [
    {
     "name": "stdout",
     "output_type": "stream",
     "text": [
      "species\n",
      "Adelie       152\n",
      "Gentoo       124\n",
      "Chinstrap     68\n",
      "Name: count, dtype: int64\n",
      "\n",
      "island\n",
      "Biscoe       168\n",
      "Dream        124\n",
      "Torgersen     52\n",
      "Name: count, dtype: int64\n",
      "\n",
      "sex\n",
      "MALE      168\n",
      "FEMALE    165\n",
      ".           1\n",
      "Name: count, dtype: int64\n"
     ]
    }
   ],
   "source": [
    "species_distribution = penguins[\"species\"].value_counts()\n",
    "island_distribution = penguins[\"island\"].value_counts()\n",
    "sex_distribution = penguins[\"sex\"].value_counts()\n",
    "\n",
    "print(species_distribution)\n",
    "print()\n",
    "print(island_distribution)\n",
    "print()\n",
    "print(sex_distribution)"
   ]
  },
  {
   "cell_type": "markdown",
   "id": "e9d98fdd-3b8c-40a2-b8dc-15162b4049e2",
   "metadata": {},
   "source": [
    "\n",
    "La distribución de las categorías en nuestros datos es:\n",
    "\n",
    "- `species`: Hay 3 especies de pingüinos en el conjunto de datos: Adelia (152), Gentoo (124) y Chinstrap (68).\n",
    "- `island`: Los pingüinos son de 3 islas: Biscoe (168), Dream (124) y Torgersen (52).\n",
    "- `sex`: Tenemos 168 pingüinos machos, 165 pingüinos hembras y 1 pingüino de género ambiguo (`.`).\n",
    "\n",
    "Reemplacemos el valor ambiguo en la columna \"sexo\" con un valor nulo:\n"
   ]
  },
  {
   "cell_type": "code",
   "execution_count": 358,
   "id": "cf1cf582-8831-4f83-bb17-2175afb193e8",
   "metadata": {
    "tags": []
   },
   "outputs": [
    {
     "data": {
      "text/plain": [
       "sex\n",
       "MALE      168\n",
       "FEMALE    165\n",
       "Name: count, dtype: int64"
      ]
     },
     "execution_count": 358,
     "metadata": {},
     "output_type": "execute_result"
    }
   ],
   "source": [
    "penguins[\"sex\"] = penguins[\"sex\"].replace(\".\", np.nan)\n",
    "sex_distribution = penguins[\"sex\"].value_counts()\n",
    "sex_distribution"
   ]
  },
  {
   "cell_type": "markdown",
   "id": "6e8425ce-ce4e-43e6-9ed8-0398b780cc66",
   "metadata": {},
   "source": [
    "A continuación, verifiquemos si faltan valores en el conjunto de datos."
   ]
  },
  {
   "cell_type": "code",
   "execution_count": 359,
   "id": "cc42cb08-275c-4b05-9d2b-77052da2f336",
   "metadata": {
    "tags": []
   },
   "outputs": [
    {
     "data": {
      "text/plain": [
       "species               0\n",
       "island                0\n",
       "culmen_length_mm      2\n",
       "culmen_depth_mm       2\n",
       "flipper_length_mm     2\n",
       "body_mass_g           2\n",
       "sex                  11\n",
       "dtype: int64"
      ]
     },
     "execution_count": 359,
     "metadata": {},
     "output_type": "execute_result"
    }
   ],
   "source": [
    "penguins.isnull().sum()"
   ]
  },
  {
   "cell_type": "markdown",
   "id": "1b65207c-3e66-453a-87a1-751636c979ee",
   "metadata": {},
   "source": [
    "Deshagámonos de los valores faltantes. Por ahora, reemplazaremos los valores que faltan con el valor más frecuente en la columna. Más adelante, usaremos una estrategia diferente para reemplazar los valores numéricos faltantes."
   ]
  },
  {
   "cell_type": "code",
   "execution_count": 360,
   "id": "3c57d55d-afd6-467a-a7a8-ff04132770ed",
   "metadata": {
    "tags": []
   },
   "outputs": [
    {
     "data": {
      "text/plain": [
       "species              0\n",
       "island               0\n",
       "culmen_length_mm     0\n",
       "culmen_depth_mm      0\n",
       "flipper_length_mm    0\n",
       "body_mass_g          0\n",
       "sex                  0\n",
       "dtype: int64"
      ]
     },
     "execution_count": 360,
     "metadata": {},
     "output_type": "execute_result"
    }
   ],
   "source": [
    "from sklearn.impute import SimpleImputer\n",
    "\n",
    "imputer = SimpleImputer(strategy=\"most_frequent\")\n",
    "penguins.iloc[:, :] = imputer.fit_transform(penguins)\n",
    "penguins.isnull().sum()"
   ]
  },
  {
   "cell_type": "markdown",
   "id": "5758214f-a4ab-4980-8892-91ec8d218ef3",
   "metadata": {},
   "source": [
    "Visualicemos la distribución de características categóricas."
   ]
  },
  {
   "cell_type": "code",
   "execution_count": 361,
   "id": "2852c740",
   "metadata": {},
   "outputs": [
    {
     "data": {
      "image/png": "[encoded data removed]",
      "text/plain": [
       "<Figure size 600x1000 with 3 Axes>"
      ]
     },
     "metadata": {},
     "output_type": "display_data"
    }
   ],
   "source": [
    "import matplotlib.pyplot as plt\n",
    "\n",
    "fig, axs = plt.subplots(3, 1, figsize=(6, 10))\n",
    "\n",
    "axs[0].bar(species_distribution.index, species_distribution.values)\n",
    "axs[0].set_ylabel(\"Recuento\")\n",
    "axs[0].set_title(\"Distribución de especies\")\n",
    "\n",
    "axs[1].bar(island_distribution.index, island_distribution.values)\n",
    "axs[1].set_ylabel(\"Recuento\")\n",
    "axs[1].set_title(\"Distribución de la isla\")\n",
    "\n",
    "axs[2].bar(sex_distribution.index, sex_distribution.values)\n",
    "axs[2].set_ylabel(\"Recuento\")\n",
    "axs[2].set_title(\"Distribución del sexo\")\n",
    "\n",
    "plt.tight_layout()\n",
    "plt.show()"
   ]
  },
  {
   "cell_type": "markdown",
   "id": "b04c8fae-35b4-4d8e-8fff-decee050af3a",
   "metadata": {},
   "source": [
    "Visualicemos la distribución de columnas numéricas.\n"
   ]
  },
  {
   "cell_type": "code",
   "execution_count": 362,
   "id": "707cc972",
   "metadata": {},
   "outputs": [
    {
     "data": {
      "image/png": "[encoded data removed]",
      "text/plain": [
       "<Figure size 800x600 with 4 Axes>"
      ]
     },
     "metadata": {},
     "output_type": "display_data"
    }
   ],
   "source": [
    "fig, axs = plt.subplots(2, 2, figsize=(8, 6))\n",
    "\n",
    "axs[0, 0].hist(penguins[\"culmen_length_mm\"], bins=20)\n",
    "axs[0, 0].set_ylabel(\"Recuento\")\n",
    "axs[0, 0].set_title(\"Distribución de culmen_length_mm\")\n",
    "\n",
    "axs[0, 1].hist(penguins[\"culmen_depth_mm\"], bins=20)\n",
    "axs[0, 1].set_ylabel(\"Recuento\")\n",
    "axs[0, 1].set_title(\"Distribución de  culmen_depth_mm\")\n",
    "\n",
    "axs[1, 0].hist(penguins[\"flipper_length_mm\"], bins=20)\n",
    "axs[1, 0].set_ylabel(\"Recuento\")\n",
    "axs[1, 0].set_title(\"Distribución de flipper_length_mm\")\n",
    "\n",
    "axs[1, 1].hist(penguins[\"body_mass_g\"], bins=20)\n",
    "axs[1, 1].set_ylabel(\"Recuento\")\n",
    "axs[1, 1].set_title(\"Distribución de  body_mass_g\")\n",
    "\n",
    "plt.tight_layout()\n",
    "plt.show()"
   ]
  },
  {
   "cell_type": "markdown",
   "id": "ef241df0-3acd-4401-a2c6-b70723d7595b",
   "metadata": {},
   "source": [
    "Mostremos la matriz de covarianza del conjunto de datos. La \"covarianza\" mide cómo los cambios en una variable se asocian con los cambios en una segunda variable. En otras palabras, la covarianza mide el grado en que dos variables están asociadas linealmente."
   ]
  },
  {
   "cell_type": "code",
   "execution_count": 363,
   "id": "3daf3ba1-d218-4ad4-b862-af679b91273f",
   "metadata": {
    "tags": []
   },
   "outputs": [
    {
     "data": {
      "text/html": [
       "<div>\n",
       "<style scoped>\n",
       "    .dataframe tbody tr th:only-of-type {\n",
       "        vertical-align: middle;\n",
       "    }\n",
       "\n",
       "    .dataframe tbody tr th {\n",
       "        vertical-align: top;\n",
       "    }\n",
       "\n",
       "    .dataframe thead th {\n",
       "        text-align: right;\n",
       "    }\n",
       "</style>\n",
       "<table border=\"1\" class=\"dataframe\">\n",
       "  <thead>\n",
       "    <tr style=\"text-align: right;\">\n",
       "      <th></th>\n",
       "      <th>culmen_length_mm</th>\n",
       "      <th>culmen_depth_mm</th>\n",
       "      <th>flipper_length_mm</th>\n",
       "      <th>body_mass_g</th>\n",
       "    </tr>\n",
       "  </thead>\n",
       "  <tbody>\n",
       "    <tr>\n",
       "      <th>culmen_length_mm</th>\n",
       "      <td>29.679415</td>\n",
       "      <td>-2.516984</td>\n",
       "      <td>50.260588</td>\n",
       "      <td>2596.971151</td>\n",
       "    </tr>\n",
       "    <tr>\n",
       "      <th>culmen_depth_mm</th>\n",
       "      <td>-2.516984</td>\n",
       "      <td>3.877201</td>\n",
       "      <td>-16.108849</td>\n",
       "      <td>-742.660180</td>\n",
       "    </tr>\n",
       "    <tr>\n",
       "      <th>flipper_length_mm</th>\n",
       "      <td>50.260588</td>\n",
       "      <td>-16.108849</td>\n",
       "      <td>197.269501</td>\n",
       "      <td>9792.552037</td>\n",
       "    </tr>\n",
       "    <tr>\n",
       "      <th>body_mass_g</th>\n",
       "      <td>2596.971151</td>\n",
       "      <td>-742.660180</td>\n",
       "      <td>9792.552037</td>\n",
       "      <td>640316.716388</td>\n",
       "    </tr>\n",
       "  </tbody>\n",
       "</table>\n",
       "</div>"
      ],
      "text/plain": [
       "                   culmen_length_mm  culmen_depth_mm  flipper_length_mm  \\\n",
       "culmen_length_mm          29.679415        -2.516984          50.260588   \n",
       "culmen_depth_mm           -2.516984         3.877201         -16.108849   \n",
       "flipper_length_mm         50.260588       -16.108849         197.269501   \n",
       "body_mass_g             2596.971151      -742.660180        9792.552037   \n",
       "\n",
       "                     body_mass_g  \n",
       "culmen_length_mm     2596.971151  \n",
       "culmen_depth_mm      -742.660180  \n",
       "flipper_length_mm    9792.552037  \n",
       "body_mass_g        640316.716388  "
      ]
     },
     "execution_count": 363,
     "metadata": {},
     "output_type": "execute_result"
    }
   ],
   "source": [
    "penguins.cov(numeric_only=True)"
   ]
  },
  {
   "cell_type": "markdown",
   "id": "9fbbe6bc-0104-4663-8c30-8f9566755739",
   "metadata": {},
   "source": [
    "Aquí hay tres ejemplos de lo que obtenemos al interpretar la siguiente matriz de covarianza:\n",
    "\n",
    "1. Los pingüinos que pesan más tienden a tener un culmen más grande.\n",
    "2. Cuanto más pesa un pingüino, menos profundo tiende a ser su culmen.\n",
    "3. Existe una pequeña variación entre la profundidad del culmen de los pingüinos.\n",
    "\n",
    "Ahora mostremos la matriz de correlación. La \"correlación\" mide tanto la fuerza como la dirección de la relación lineal entre dos variables."
   ]
  },
  {
   "cell_type": "code",
   "execution_count": 364,
   "id": "1d793e09-2cb9-47ff-a0e6-199a0f4fc1b3",
   "metadata": {
    "tags": []
   },
   "outputs": [
    {
     "data": {
      "text/html": [
       "<div>\n",
       "<style scoped>\n",
       "    .dataframe tbody tr th:only-of-type {\n",
       "        vertical-align: middle;\n",
       "    }\n",
       "\n",
       "    .dataframe tbody tr th {\n",
       "        vertical-align: top;\n",
       "    }\n",
       "\n",
       "    .dataframe thead th {\n",
       "        text-align: right;\n",
       "    }\n",
       "</style>\n",
       "<table border=\"1\" class=\"dataframe\">\n",
       "  <thead>\n",
       "    <tr style=\"text-align: right;\">\n",
       "      <th></th>\n",
       "      <th>culmen_length_mm</th>\n",
       "      <th>culmen_depth_mm</th>\n",
       "      <th>flipper_length_mm</th>\n",
       "      <th>body_mass_g</th>\n",
       "    </tr>\n",
       "  </thead>\n",
       "  <tbody>\n",
       "    <tr>\n",
       "      <th>culmen_length_mm</th>\n",
       "      <td>1.000000</td>\n",
       "      <td>-0.234635</td>\n",
       "      <td>0.656856</td>\n",
       "      <td>0.595720</td>\n",
       "    </tr>\n",
       "    <tr>\n",
       "      <th>culmen_depth_mm</th>\n",
       "      <td>-0.234635</td>\n",
       "      <td>1.000000</td>\n",
       "      <td>-0.582472</td>\n",
       "      <td>-0.471339</td>\n",
       "    </tr>\n",
       "    <tr>\n",
       "      <th>flipper_length_mm</th>\n",
       "      <td>0.656856</td>\n",
       "      <td>-0.582472</td>\n",
       "      <td>1.000000</td>\n",
       "      <td>0.871302</td>\n",
       "    </tr>\n",
       "    <tr>\n",
       "      <th>body_mass_g</th>\n",
       "      <td>0.595720</td>\n",
       "      <td>-0.471339</td>\n",
       "      <td>0.871302</td>\n",
       "      <td>1.000000</td>\n",
       "    </tr>\n",
       "  </tbody>\n",
       "</table>\n",
       "</div>"
      ],
      "text/plain": [
       "                   culmen_length_mm  culmen_depth_mm  flipper_length_mm  \\\n",
       "culmen_length_mm           1.000000        -0.234635           0.656856   \n",
       "culmen_depth_mm           -0.234635         1.000000          -0.582472   \n",
       "flipper_length_mm          0.656856        -0.582472           1.000000   \n",
       "body_mass_g                0.595720        -0.471339           0.871302   \n",
       "\n",
       "                   body_mass_g  \n",
       "culmen_length_mm      0.595720  \n",
       "culmen_depth_mm      -0.471339  \n",
       "flipper_length_mm     0.871302  \n",
       "body_mass_g           1.000000  "
      ]
     },
     "execution_count": 364,
     "metadata": {},
     "output_type": "execute_result"
    }
   ],
   "source": [
    "penguins.corr(numeric_only=True)"
   ]
  },
  {
   "cell_type": "markdown",
   "id": "8aec4c08-767c-4740-959c-2d76268c3513",
   "metadata": {},
   "source": [
    "Aquí hay tres ejemplos de lo que obtenemos al interpretar la matriz de correlación a continuación:\n",
    "\n",
    "1. Los pingüinos que pesan más tienden a tener aletas más grandes.\n",
    "2. Los pingüinos con un culmen menos profundo tienden a tener aletas más grandes.\n",
    "3. La longitud y profundidad del culmen tienen una ligera correlación negativa.\n",
    "\n",
    "Mostremos la distribución de especies por isla."
   ]
  },
  {
   "cell_type": "code",
   "execution_count": 365,
   "id": "1258c99d",
   "metadata": {},
   "outputs": [
    {
     "data": {
      "image/png": "[encoded data removed]",
      "text/plain": [
       "<Figure size 600x600 with 1 Axes>"
      ]
     },
     "metadata": {},
     "output_type": "display_data"
    }
   ],
   "source": [
    "unique_species = penguins[\"species\"].unique()\n",
    "\n",
    "fig, ax = plt.subplots(figsize=(6, 6))\n",
    "for species in unique_species:\n",
    "    data = penguins[penguins[\"species\"] == species]\n",
    "    ax.hist(data[\"island\"], bins=5, alpha=0.5, label=species)\n",
    "\n",
    "ax.set_xlabel(\"Isla\")\n",
    "ax.set_ylabel(\"Recuento\")\n",
    "ax.set_title(\"Distribución de especies por isla\")\n",
    "ax.legend()\n",
    "plt.show()"
   ]
  },
  {
   "cell_type": "markdown",
   "id": "d74ae740-3590-4dce-ac5a-6205975c83da",
   "metadata": {},
   "source": [
    "Let's display the distribution of species by sex.\n"
   ]
  },
  {
   "cell_type": "code",
   "execution_count": 366,
   "id": "45b0a87f-028d-477f-9b65-199728c0b7ee",
   "metadata": {
    "tags": []
   },
   "outputs": [
    {
     "data": {
      "image/png": "[encoded data removed]",
      "text/plain": [
       "<Figure size 600x600 with 1 Axes>"
      ]
     },
     "metadata": {},
     "output_type": "display_data"
    }
   ],
   "source": [
    "fig, ax = plt.subplots(figsize=(6, 6))\n",
    "\n",
    "for species in unique_species:\n",
    "    data = penguins[penguins[\"species\"] == species]\n",
    "    ax.hist(data[\"sex\"], bins=3, alpha=0.5, label=species)\n",
    "\n",
    "ax.set_xlabel(\"Sexo\")\n",
    "ax.set_ylabel(\"Recuento\")\n",
    "ax.set_title(\"Distribución de especies por sexo\")\n",
    "\n",
    "ax.legend()\n",
    "plt.show()"
   ]
  },
  {
   "cell_type": "markdown",
   "id": "587d06e0-b711-4e3d-b424-6fa611a51f94",
   "metadata": {
    "tags": []
   },
   "source": [
    "### Paso 2 - Creating the Preprocessing Script\n",
    "\n",
    "Aquí hay una descripción general de alto nivel del paso de preprocesamiento y el trabajo de procesamiento que SageMaker crea detrás de escena:\n",
    "\n",
    "<a href=\"images/preprocess-data.png\" target=\"_blank\"> <img src=\"images/preprocess-data.png\" alt=\"High-level overview of the Preprocessing Data Step and SageMaker’s Processing Jobs\" style=\"max-width: 750px;\" /></a>\n",
    "\n",
    "El primer paso que necesitamos en el proceso es un  [Processing Step](https://docs.aws.amazon.com/sagemaker/latest/dg/build-and-manage-steps.html#step-type-processing) para que ejecute un script que dividirá y transformará los datos.  Este paso de procesamiento creará un Processing Step de SageMaker en segundo plano, ejecutará el script y cargará el resultado en S3. Puede utilizar Processing Jobs para realizar preprocesamiento de datos, posprocesamiento, ingeniería de características, validación de datos y evaluación de modelos. Consulte la documentación del SDK de [ProcessingStep](https://sagemaker.readthedocs.io/en/stable/workflows/pipelines/sagemaker.workflow.pipelines.html#sagemaker.workflow.steps.ProcessingStep)  de SageMaker para obtener más información.\n"
   ]
  },
  {
   "cell_type": "markdown",
   "id": "7d656af1",
   "metadata": {},
   "source": [
    "El primer paso es crear el script que dividirá y transformará los datos de entrada."
   ]
  },
  {
   "cell_type": "code",
   "execution_count": 367,
   "id": "fb6ba7c0-1bd6-4fe5-8b7f-f6cbdfd3846c",
   "metadata": {
    "tags": []
   },
   "outputs": [
    {
     "name": "stdout",
     "output_type": "stream",
     "text": [
      "Overwriting code/preprocessor.py\n"
     ]
    }
   ],
   "source": [
    "%%writefile {CODE_FOLDER}/preprocessor.py\n",
    "#| label: preprocessing-script\n",
    "#| echo: true\n",
    "#| output: false\n",
    "#| filename: preprocessor.py\n",
    "#| code-line-numbers: true\n",
    "\n",
    "import os\n",
    "import tarfile\n",
    "import tempfile\n",
    "import joblib\n",
    "import numpy as np\n",
    "import pandas as pd\n",
    "\n",
    "from pathlib import Path\n",
    "from sklearn.compose import ColumnTransformer, make_column_selector\n",
    "from sklearn.impute import SimpleImputer\n",
    "from sklearn.pipeline import make_pipeline\n",
    "from sklearn.model_selection import train_test_split\n",
    "from sklearn.preprocessing import OneHotEncoder, StandardScaler, OrdinalEncoder\n",
    "\n",
    "\n",
    "def preprocess(base_directory):\n",
    "    \"\"\"\n",
    "    Esta función carga los datos proporcionados, los divide y los transforma.\n",
    "    \"\"\"\n",
    "\n",
    "    df = _read_data_from_input_csv_files(base_directory)\n",
    "    \n",
    "    target_transformer = ColumnTransformer(\n",
    "        transformers=[(\"species\", OrdinalEncoder(), [0])]\n",
    "    )\n",
    "    \n",
    "    numeric_transformer = make_pipeline(\n",
    "        SimpleImputer(strategy=\"mean\"),\n",
    "        StandardScaler()\n",
    "    )\n",
    "\n",
    "    categorical_transformer = make_pipeline(\n",
    "        SimpleImputer(strategy=\"most_frequent\"),\n",
    "        OneHotEncoder()\n",
    "    )\n",
    "    \n",
    "    features_transformer = ColumnTransformer(\n",
    "        transformers=[\n",
    "            (\"numeric\", numeric_transformer, make_column_selector(dtype_exclude=\"object\")),\n",
    "            (\"categorical\", categorical_transformer, [\"island\"]),\n",
    "        ]\n",
    "    )\n",
    "\n",
    "    df_train, df_validation, df_test = _split_data(df)\n",
    "\n",
    "    _save_baselines(base_directory, df_train, df_test)\n",
    "\n",
    "    y_train = target_transformer.fit_transform(np.array(df_train.species.values).reshape(-1, 1))\n",
    "    y_validation = target_transformer.transform(np.array(df_validation.species.values).reshape(-1, 1))\n",
    "    y_test = target_transformer.transform(np.array(df_test.species.values).reshape(-1, 1))\n",
    "    \n",
    "    df_train = df_train.drop(\"species\", axis=1)\n",
    "    df_validation = df_validation.drop(\"species\", axis=1)\n",
    "    df_test = df_test.drop(\"species\", axis=1)\n",
    "\n",
    "    X_train = features_transformer.fit_transform(df_train)\n",
    "    X_validation = features_transformer.transform(df_validation)\n",
    "    X_test = features_transformer.transform(df_test)\n",
    "\n",
    "    _save_splits(base_directory, X_train, y_train, X_validation, y_validation, X_test, y_test)\n",
    "    _save_model(base_directory, target_transformer, features_transformer)\n",
    "    \n",
    "\n",
    "def _read_data_from_input_csv_files(base_directory):\n",
    "    \"\"\"\n",
    "    Esta función lee todos los archivos CSV disponibles y los concatena\n",
    "     en un solo dataframe.\n",
    "    \"\"\"\n",
    "\n",
    "    input_directory = Path(base_directory) / \"input\"\n",
    "    files = [file for file in input_directory.glob(\"*.csv\")]\n",
    "    \n",
    "    if len(files) == 0:\n",
    "        raise ValueError(f\"The are no CSV files in {str(input_directory)}/\")\n",
    "        \n",
    "    raw_data = [pd.read_csv(file) for file in files]\n",
    "    df = pd.concat(raw_data)\n",
    "    \n",
    "    # Mezcla los datos\n",
    "    return df.sample(frac=1, random_state=42)\n",
    "\n",
    "\n",
    "def _split_data(df):\n",
    "    \"\"\"\n",
    "    Divide los datos en tres conjuntos: entrenamiento, validación y prueba.\n",
    "    \"\"\"\n",
    "\n",
    "    df_train, temp = train_test_split(df, test_size=0.3)\n",
    "    df_validation, df_test = train_test_split(temp, test_size=0.5)\n",
    "\n",
    "    return df_train, df_validation, df_test\n",
    "\n",
    "\n",
    "def _save_baselines(base_directory, df_train, df_test):\n",
    "    \"\"\"\n",
    "    Durante los pasos de monitoreo de calidad y datos, necesitaremos líneas de base  \n",
    "    para calcular restricciones y estadísticas. Esta función guarda los datos\n",
    "    no transformados en el disco para que podamos usarlos como líneas de base más adelante.\n",
    "    \"\"\"\n",
    "\n",
    "    for split, data in [(\"train\", df_train), (\"test\", df_test)]:\n",
    "        baseline_path = Path(base_directory) / f\"{split}-baseline\"\n",
    "        baseline_path.mkdir(parents=True, exist_ok=True)\n",
    "\n",
    "        df = data.copy().dropna()\n",
    "\n",
    "        # Queremos guardar el encabezado solo para la train baseline pero no para la test baseline.\n",
    "        # Usaremos la test baseline para generar predicciones más adelante \n",
    "        # no podemos tener una  header line porque el modelo no podrá hacer una predicción para ella.\n",
    "        header = split == \"train\"\n",
    "        df.to_csv(baseline_path / f\"{split}-baseline.csv\", header=header, index=False)\n",
    "\n",
    "\n",
    "def _save_splits(base_directory, X_train, y_train, X_validation, y_validation, X_test, y_test):\n",
    "    \"\"\"\n",
    "    Esta función concatena las características transformadas y la variable de destino, y\n",
    "    guarda cada uno de los conjuntos divididos en el disco.\n",
    "    \"\"\"\n",
    "\n",
    "    train = np.concatenate((X_train, y_train), axis=1)\n",
    "    validation = np.concatenate((X_validation, y_validation), axis=1)\n",
    "    test = np.concatenate((X_test, y_test), axis=1)\n",
    "\n",
    "    train_path = Path(base_directory) / \"train\"\n",
    "    validation_path = Path(base_directory) / \"validation\"\n",
    "    test_path = Path(base_directory) / \"test\"\n",
    "\n",
    "    train_path.mkdir(parents=True, exist_ok=True)\n",
    "    validation_path.mkdir(parents=True, exist_ok=True)\n",
    "    test_path.mkdir(parents=True, exist_ok=True)\n",
    "\n",
    "    pd.DataFrame(train).to_csv(train_path / \"train.csv\", header=False, index=False)\n",
    "    pd.DataFrame(validation).to_csv(validation_path / \"validation.csv\", header=False, index=False)\n",
    "    pd.DataFrame(test).to_csv(test_path / \"test.csv\", header=False, index=False)\n",
    "\n",
    "\n",
    "def _save_model(base_directory, target_transformer, features_transformer):\n",
    "    \"\"\"\n",
    "    Esta función crea un archivo model.tar.gz que contiene los dos pipelines.\n",
    "    de transformacionesque construimos para transformar los datos.\n",
    "    \"\"\"\n",
    "\n",
    "    with tempfile.TemporaryDirectory() as directory:\n",
    "        joblib.dump(target_transformer, os.path.join(directory, \"target.joblib\"))\n",
    "        joblib.dump(features_transformer, os.path.join(directory, \"features.joblib\"))\n",
    "    \n",
    "        model_path = Path(base_directory) / \"model\"\n",
    "        model_path.mkdir(parents=True, exist_ok=True)\n",
    "    \n",
    "        with tarfile.open(f\"{str(model_path / 'model.tar.gz')}\", \"w:gz\") as tar:\n",
    "            tar.add(os.path.join(directory, \"target.joblib\"), arcname=\"target.joblib\")\n",
    "            tar.add(os.path.join(directory, \"features.joblib\"), arcname=\"features.joblib\")\n",
    "\n",
    "    \n",
    "if __name__ == \"__main__\":\n",
    "    preprocess(base_directory=\"/opt/ml/processing\")"
   ]
  },
  {
   "cell_type": "markdown",
   "id": "39301f9f",
   "metadata": {},
   "source": [
    "Probemos el script para asegurarnos de que todo funcione como se esperaba:"
   ]
  },
  {
   "cell_type": "code",
   "execution_count": 368,
   "id": "d1f122a4-acff-4687-91b9-bfef13567d88",
   "metadata": {
    "tags": []
   },
   "outputs": [
    {
     "name": "stdout",
     "output_type": "stream",
     "text": [
      "\u001b[32m.\u001b[0m\u001b[32m.\u001b[0m\u001b[32m.\u001b[0m\u001b[32m.\u001b[0m\u001b[32m.\u001b[0m\u001b[32m.\u001b[0m\u001b[32m.\u001b[0m\u001b[32m.\u001b[0m\n",
      "\u001b[32m\u001b[32m\u001b[1m8 passed\u001b[0m\u001b[32m in 0.16s\u001b[0m\u001b[0m\n"
     ]
    }
   ],
   "source": [
    "%%ipytest -s\n",
    "#| code-fold: true\n",
    "#| output: false\n",
    "\n",
    "import os\n",
    "import shutil\n",
    "import tarfile\n",
    "import pytest\n",
    "import tempfile\n",
    "import joblib\n",
    "from preprocessor import preprocess\n",
    "\n",
    "\n",
    "@pytest.fixture(scope=\"function\", autouse=False)\n",
    "def directory():\n",
    "    directory = tempfile.mkdtemp()\n",
    "    input_directory = Path(directory) / \"input\"\n",
    "    input_directory.mkdir(parents=True, exist_ok=True)\n",
    "    shutil.copy2(DATA_FILEPATH, input_directory / \"data.csv\")\n",
    "    \n",
    "    directory = Path(directory)\n",
    "    preprocess(base_directory=directory)\n",
    "    \n",
    "    yield directory\n",
    "    \n",
    "    shutil.rmtree(directory)\n",
    "\n",
    "\n",
    "def test_preprocess_generates_data_splits(directory):\n",
    "    output_directories = os.listdir(directory)\n",
    "    \n",
    "    assert \"train\" in output_directories\n",
    "    assert \"validation\" in output_directories\n",
    "    assert \"test\" in output_directories\n",
    "\n",
    "\n",
    "def test_preprocess_generates_baselines(directory):\n",
    "    output_directories = os.listdir(directory)\n",
    "\n",
    "    assert \"train-baseline\" in output_directories\n",
    "    assert \"test-baseline\" in output_directories\n",
    "\n",
    "\n",
    "def test_preprocess_creates_two_models(directory):\n",
    "    model_path = directory / \"model\"\n",
    "    tar = tarfile.open(model_path / \"model.tar.gz\", \"r:gz\")\n",
    "\n",
    "    assert \"features.joblib\" in tar.getnames()\n",
    "    assert \"target.joblib\" in tar.getnames()\n",
    "\n",
    "\n",
    "def test_splits_are_transformed(directory):\n",
    "    train = pd.read_csv(directory / \"train\" / \"train.csv\", header=None)\n",
    "    validation = pd.read_csv(directory / \"validation\" / \"validation.csv\", header=None)\n",
    "    test = pd.read_csv(directory / \"test\" / \"test.csv\", header=None)\n",
    "\n",
    "    # Después de transformar los datos, la cantidad de características debe ser 7:\n",
    "    # * 3 - island (one-hot encoded)\n",
    "    # * 1 - culmen_length_mm = 1\n",
    "    # * 1 - culmen_depth_mm\n",
    "    # * 1 - flipper_length_mm\n",
    "    # * 1 - body_mass_g\n",
    "    number_of_features = 7\n",
    "\n",
    "    # Las divisiones transformadas deben tener una columna\n",
    "    # adicional para las variables objetivo.\n",
    "    assert train.shape[1] == number_of_features + 1\n",
    "    assert validation.shape[1] == number_of_features + 1\n",
    "    assert test.shape[1] == number_of_features + 1\n",
    "\n",
    "\n",
    "def test_train_baseline_is_not_transformed(directory):\n",
    "    baseline = pd.read_csv(directory / \"train-baseline\" / \"train-baseline.csv\", header=None)\n",
    "\n",
    "    island = baseline.iloc[:, 1].unique()\n",
    "\n",
    "    assert \"Biscoe\" in island\n",
    "    assert \"Torgersen\" in island\n",
    "    assert \"Dream\" in island\n",
    "\n",
    "\n",
    "def test_test_baseline_is_not_transformed(directory):\n",
    "    baseline = pd.read_csv(directory / \"test-baseline\" / \"test-baseline.csv\", header=None)\n",
    "\n",
    "    island = baseline.iloc[:, 1].unique()\n",
    "\n",
    "    assert \"Biscoe\" in island\n",
    "    assert \"Torgersen\" in island\n",
    "    assert \"Dream\" in island\n",
    "\n",
    "\n",
    "def test_train_baseline_includes_header(directory):\n",
    "    baseline = pd.read_csv(directory / \"train-baseline\" / \"train-baseline.csv\")\n",
    "    assert baseline.columns[0] == \"species\"\n",
    "\n",
    "\n",
    "def test_test_baseline_does_not_include_header(directory):\n",
    "    baseline = pd.read_csv(directory / \"test-baseline\" / \"test-baseline.csv\")\n",
    "    assert baseline.columns[0] != \"species\""
   ]
  },
  {
   "cell_type": "markdown",
   "id": "dbff9c36",
   "metadata": {},
   "source": [
    "### Paso 3 - Setting up the Processing Step\n",
    "\n",
    "Vamos a definir ahora el [ProcessingStep](https://sagemaker.readthedocs.io/en/stable/workflows/pipelines/sagemaker.workflow.pipelines.html#sagemaker.workflow.steps.ProcessingStep) que usaremos en el proceso para ejecutar el script que dividirá y transformará los datos."
   ]
  },
  {
   "cell_type": "markdown",
   "id": "ff061663",
   "metadata": {},
   "source": [
    "Varios pasos de SageMaker Pipeline admiten el almacenamiento en caché. Cuando se ejecuta un paso, y dependiendo de la política de almacenamiento en caché configurada, SageMaker intentará reutilizar el resultado de una ejecución anterior exitosa del mismo paso. Puede encontrar más información sobre este tema en  [Caching Pipeline Steps](https://docs.aws.amazon.com/sagemaker/latest/dg/pipelines-caching.html).  Definamos una política de almacenamiento en caché que reutilizaremos en cada paso:\n"
   ]
  },
  {
   "cell_type": "code",
   "execution_count": 369,
   "id": "d88e9ccf",
   "metadata": {},
   "outputs": [],
   "source": [
    "from sagemaker.workflow.steps import CacheConfig\n",
    "\n",
    "cache_config = CacheConfig(enable_caching=True, expire_after=\"15d\")"
   ]
  },
  {
   "cell_type": "markdown",
   "id": "f3b1d96a",
   "metadata": {},
   "source": [
    "Podemos parametrizar un SageMaker Pipeline para hacerlo más flexible. En este caso, usaremos un parámetro para pasar la ubicación del conjunto de datos que queremos procesar. Podemos ejecutar el pipeline con los diferentes conjuntos de datos cambiando el valor de este parámetro. Para leer más sobre estos parámetros, consulte [Pipeline Parameters](https://docs.aws.amazon.com/sagemaker/latest/dg/build-and-manage-parameters.html).\n"
   ]
  },
  {
   "cell_type": "code",
   "execution_count": 370,
   "id": "331fe373",
   "metadata": {},
   "outputs": [],
   "source": [
    "from sagemaker.workflow.parameters import ParameterString\n",
    "\n",
    "dataset_location = ParameterString(\n",
    "    name=\"dataset_location\",\n",
    "    default_value=f\"{S3_LOCATION}/data\",\n",
    ")"
   ]
  },
  {
   "cell_type": "markdown",
   "id": "cfb9a589",
   "metadata": {},
   "source": [
    "Un procesador proporciona al paso de procesamiento información sobre el hardware y el software que SageMaker debe utilizar para iniciar el trabajo de procesamiento. Para ejecutar el script que creamos, necesitamos acceso a Scikit-Learn, para poder usar el  [SKLearnProcessor](https://sagemaker.readthedocs.io/en/stable/frameworks/sklearn/sagemaker.sklearn.html#scikit-learn-processor) procesador que viene listo para usar con el SDK de Python de SageMaker.\n",
    "\n",
    "SageMaker gestiona la infraestructura de un Processing Job. Aprovisiona recursos durante la duración del trabajo y limpia cuando se completa. La imagen del contenedor de procesamiento que SageMaker utiliza para ejecutar un trabajo de procesamiento puede ser una imagen integrada de SageMaker o una imagen personalizada.\n",
    "\n",
    "La página [Data Processing with Framework Processors](https://docs.aws.amazon.com/sagemaker/latest/dg/processing-job-frameworks.html) analiza otros procesadores integrados que puede utilizar. La página  [Docker Registry Paths and Example Code](https://docs.aws.amazon.com/sagemaker/latest/dg/sagemaker-algo-docker-registry-paths.html) contiene información sobre las versiones de framework disponibles para cada región."
   ]
  },
  {
   "cell_type": "code",
   "execution_count": 371,
   "id": "3aa4471a",
   "metadata": {},
   "outputs": [
    {
     "name": "stderr",
     "output_type": "stream",
     "text": [
      "INFO:sagemaker.image_uris:Defaulting to only available Python version: py3\n"
     ]
    }
   ],
   "source": [
    "#| code: true\n",
    "#| output: false\n",
    "from sagemaker.sklearn.processing import SKLearnProcessor\n",
    "\n",
    "processor = SKLearnProcessor(\n",
    "    base_job_name=\"preprocess-data\",\n",
    "    framework_version=\"1.2-1\",\n",
    "    # De forma predeterminada, una cuenta nueva no tiene acceso a las instancias `ml.m5.xlarge`.\n",
    "    # Si aún no has solicitado un aumento de cuota, puedes utilizar otra\n",
    "    # sn su lugar, escribe el tipo de instancia `ml.t3.medium`. Esto funcionará de inmediato, pero\n",
    "    # el Processing Job tardará mucho más de lo que debería.\n",
    "    #  Para obtener acceso a las instancias `ml.m5.xlarge` puede solicitar una cuota\n",
    "    # de aumento en la sección Cuotas de servicio de su cuenta de AWS.\n",
    "    instance_type=config[\"instance_type\"],\n",
    "    instance_count=1,\n",
    "    role=role,\n",
    "    sagemaker_session=config[\"session\"],\n",
    ")"
   ]
  },
  {
   "cell_type": "markdown",
   "id": "6cf2cc58",
   "metadata": {},
   "source": [
    "Ahora definamos el paso de procesamiento que usaremos en el pipeline. Este paso requiere una lista de entradas que necesitamos en el script de preprocesamiento. En este caso, la entrada es el conjunto de datos que almacenamos en S3. También tenemos algunos resultados que queremos que SageMaker capture cuando finalice el trabajo de procesamiento."
   ]
  },
  {
   "cell_type": "code",
   "execution_count": 372,
   "id": "cdbd9303",
   "metadata": {
    "tags": []
   },
   "outputs": [
    {
     "name": "stderr",
     "output_type": "stream",
     "text": [
      "/Users/svpino/dev/ml.school/.venv/lib/python3.9/site-packages/sagemaker/workflow/pipeline_context.py:297: UserWarning: Running within a PipelineSession, there will be No Wait, No Logs, and No Job being started.\n",
      "  warnings.warn(\n"
     ]
    }
   ],
   "source": [
    "# | code: true\n",
    "# | output: false\n",
    "\n",
    "from sagemaker.workflow.steps import ProcessingStep\n",
    "from sagemaker.processing import ProcessingInput, ProcessingOutput\n",
    "\n",
    "\n",
    "preprocessing_step = ProcessingStep(\n",
    "    name=\"preprocess-data\",\n",
    "    step_args=processor.run(\n",
    "        code=f\"{CODE_FOLDER}/preprocessor.py\",\n",
    "        inputs=[\n",
    "            ProcessingInput(\n",
    "                source=dataset_location, destination=\"/opt/ml/processing/input\"\n",
    "            ),\n",
    "        ],\n",
    "        outputs=[\n",
    "            ProcessingOutput(\n",
    "                output_name=\"train\",\n",
    "                source=\"/opt/ml/processing/train\",\n",
    "                destination=f\"{S3_LOCATION}/preprocessing/train\",\n",
    "            ),\n",
    "            ProcessingOutput(\n",
    "                output_name=\"validation\",\n",
    "                source=\"/opt/ml/processing/validation\",\n",
    "                destination=f\"{S3_LOCATION}/preprocessing/validation\",\n",
    "            ),\n",
    "            ProcessingOutput(\n",
    "                output_name=\"test\",\n",
    "                source=\"/opt/ml/processing/test\",\n",
    "                destination=f\"{S3_LOCATION}/preprocessing/test\",\n",
    "            ),\n",
    "            ProcessingOutput(\n",
    "                output_name=\"model\",\n",
    "                source=\"/opt/ml/processing/model\",\n",
    "                destination=f\"{S3_LOCATION}/preprocessing/model\",\n",
    "            ),\n",
    "            ProcessingOutput(\n",
    "                output_name=\"train-baseline\",\n",
    "                source=\"/opt/ml/processing/train-baseline\",\n",
    "                destination=f\"{S3_LOCATION}/preprocessing/train-baseline\",\n",
    "            ),\n",
    "            ProcessingOutput(\n",
    "                output_name=\"test-baseline\",\n",
    "                source=\"/opt/ml/processing/test-baseline\",\n",
    "                destination=f\"{S3_LOCATION}/preprocessing/test-baseline\",\n",
    "            ),\n",
    "        ],\n",
    "    ),\n",
    "    cache_config=cache_config,\n",
    ")"
   ]
  },
  {
   "cell_type": "markdown",
   "id": "fad062cb",
   "metadata": {},
   "source": [
    "### Paso 4 - Creating the Pipeline\n",
    "\n",
    "Ahora podemos crear el SageMaker Pipeline y enviar su definición al servicio de SageMaker Pipelines para crear el pipeline si no existe o actualizarla si existe."
   ]
  },
  {
   "cell_type": "code",
   "execution_count": 373,
   "id": "e140642a",
   "metadata": {
    "tags": []
   },
   "outputs": [
    {
     "data": {
      "text/plain": [
       "{'PipelineArn': 'arn:aws:sagemaker:us-east-1:325223348818:pipeline/session1-pipeline',\n",
       " 'ResponseMetadata': {'RequestId': 'a15cc31f-a02b-413d-a68e-0354da62a899',\n",
       "  'HTTPStatusCode': 200,\n",
       "  'HTTPHeaders': {'x-amzn-requestid': 'a15cc31f-a02b-413d-a68e-0354da62a899',\n",
       "   'content-type': 'application/x-amz-json-1.1',\n",
       "   'content-length': '85',\n",
       "   'date': 'Thu, 09 Nov 2023 20:32:21 GMT'},\n",
       "  'RetryAttempts': 0}}"
      ]
     },
     "execution_count": 373,
     "metadata": {},
     "output_type": "execute_result"
    }
   ],
   "source": [
    "# | code: true\n",
    "# | output: false\n",
    "\n",
    "from sagemaker.workflow.pipeline import Pipeline\n",
    "from sagemaker.workflow.pipeline_definition_config import PipelineDefinitionConfig\n",
    "\n",
    "pipeline_definition_config = PipelineDefinitionConfig(use_custom_job_prefix=True)\n",
    "\n",
    "session1_pipeline = Pipeline(\n",
    "    name=\"session1-pipeline\",\n",
    "    parameters=[dataset_location],\n",
    "    steps=[\n",
    "        preprocessing_step,\n",
    "    ],\n",
    "    pipeline_definition_config=pipeline_definition_config,\n",
    "    sagemaker_session=config[\"session\"],\n",
    ")\n",
    "\n",
    "session1_pipeline.upsert(role_arn=role)"
   ]
  },
  {
   "cell_type": "markdown",
   "id": "ff8f99c1",
   "metadata": {},
   "source": [
    "Ahora podemos iniciar el pipeline:\n"
   ]
  },
  {
   "cell_type": "markdown",
   "id": "cc01c152",
   "metadata": {},
   "source": [
    "#| hide\n",
    "\n",
    "<div class=\"alert\" style=\"background-color:#0066cc;\"><strong>Nota:</strong> \n",
    "    El <code>%%script</code> magic es una forma conveniente de evitar que el notebook ejecute una celda específica. Si desea ejecutar la celda, comente la línea que contiene el <code>%%script</code>  magic.\n",
    "</div>\n"
   ]
  },
  {
   "cell_type": "code",
   "execution_count": 374,
   "id": "59d1e634",
   "metadata": {},
   "outputs": [],
   "source": [
    "%%script false --no-raise-error\n",
    "#| eval: false\n",
    "#| code: true\n",
    "#| output: false\n",
    "\n",
    "session1_pipeline.start()"
   ]
  },
  {
   "cell_type": "markdown",
   "id": "5fa56512-f322-4d8e-ae96-598ba2366784",
   "metadata": {},
   "source": [
    "### Assignments\n",
    "\n",
    "-   <span style=\"padding:4px; background-color: #f2a68a; color: #000;\"><strong>Assignment 1.1</strong></span> Para esta tarea, debes ejecutar el pipeline en tu entorno usando el modo local y luego cambiarla para que se ejecute en SageMaker. Después de completar esta tarea, deberías tener tu entorno completamente configurado y tu pipeline ejecutándose sin ningún problema. Esta tarea es fundamental para el resto del programa, así que asegurate de completarla antes de pasar a cualquier otra tarea.\n",
    "\n",
    "-   <span style=\"padding:4px; background-color: #f2a68a; color: #000;\"><strong>Assignment 1.2</strong></span> El pipeline utiliza muestreo aleatorio para dividir el conjunto de datos. Modifica el código para utilizar muestreo estratificado en su lugar. El objetivo de esta tarea es ayudarte a familiarizarse con cómo modificar el script de preprocesamiento y volver a ejecutar el pipeline para ver los cambios en acción.\n",
    "\n",
    "-   <span style=\"padding:4px; background-color: #f2a68a; color: #000;\"><strong>Assignment 1.3</strong></span> Podemos especificar diferentes valores de parámetros en un pipeline en el momento en que la iniciamos. En esta sesión, definimos un parámetro `dataset_location` que especifica la ubicación de los datos que queremos que procese la canalización. Para esta tarea, use ChatGPT para generar un conjunto de datos con 500 pingüinos aleatorios y almacene el archivo en S3. Luego, ejecute la canalización que apunta a `dataset_location` al nuevo conjunto de datos. Aquí tienes una explicación de cómo [ sobreescribir parámetros predeterminados durante la ejecución de un pipeline](https://docs.aws.amazon.com/sagemaker/latest/dg/run-pipeline.html#run-pipeline-parametrized). Puedes utilizar la herramienta de análisis avanzado de datos de ChatGPT para generar datos falsos. Si no tienes acceso a él, simplemente puede duplicar tu conjunto de datos y almacenalo en una ubicación de S3 diferente.\n",
    "\n",
    "-   <span style=\"padding:4px; background-color: #f2a68a; color: #000;\"><strong>Assignment 1.4</strong></span> Para esta tarea, queremos ejecutar un Processing Job distribuido en varias instancias para poner en mayúscula la columna \"island\" del conjunto de datos. Su conjunto de datos constará de 10 archivos diferentes almacenados en S3. Configure un paso de procesamiento utilizando dos instancias. Al especificar la entrada para el paso de procesamiento, debe establecer el atributo  `ProcessingInput.s3_data_distribution_type` en `ShardedByS3Key`. Al hacer esto, SageMaker ejecutará un clúster con dos instancias simultáneamente, cada una con acceso a la mitad de los archivos. Consulte la documentación de [`S3DataDistributionType`](https://docs.aws.amazon.com/sagemaker/latest/APIReference/API_S3DataSource.html) para obtener más información.\n",
    "\n",
    "-   <span style=\"padding:4px; background-color: #f2a68a; color: #000;\"><strong>Assignment 1.5</strong></span> Puedes utilizar [Amazon SageMaker Data Wrangler](https://aws.amazon.com/sagemaker/data-wrangler/) para completar cada paso del flujo de trabajo de preparación de datos (incluida la selección, limpieza, exploración, visualización y procesamiento de datos a escala) desde una única interfaz visual. Para esta tarea, cargue la interfaz Data Wrangler y úsela para construir las mismas transformaciones que implementamos usando Scikit-Learn Pipeline. Si tiene preguntas, abra el [Penguins Data Flow](penguins.flow) incluido en este repositorio.\n"
   ]
  },
  {
   "cell_type": "markdown",
   "id": "63c190c5-52b5-4ccc-8d42-847a694b8e66",
   "metadata": {},
   "source": [
    "## Clase 2 -  Construcción de modelos y proceso de entrenamiento.\n",
    "\n",
    "Esta clase amplía el [SageMaker Pipeline](https://docs.aws.amazon.com/sagemaker/latest/dg/pipelines-sdk.html) que creamos en la sesión anterior con un paso para entrenar un modelo. Exploraremos el [Training Step](https://docs.aws.amazon.com/sagemaker/latest/dg/build-and-manage-steps.html#step-type-training) y el [Tuning Step](https://docs.aws.amazon.com/sagemaker/latest/dg/build-and-manage-steps.html#step-type-tuning).\n",
    "\n",
    "<a href=\"images/training.png\" target=\"_blank\"> <img src=\"images/training.png\" alt=\"Training\" style=\"max-width: 750px;\" /></a>\n",
    "\n",
    "Presentaremos [Amazon SageMaker Experiments](https://docs.aws.amazon.com/sagemaker/latest/dg/experiments.html) y los usaremos durante el training. Para obtener más información sobre este tema, consulte la [SageMaker Experiments' SDK documentation](https://sagemaker.readthedocs.io/en/v2.174.0/experiments/sagemaker.experiments.html).\n"
   ]
  },
  {
   "cell_type": "markdown",
   "id": "c8608092-7aab-4fd2-aa99-47c2db27bdb7",
   "metadata": {},
   "source": [
    "### Paso 1 - Creating the Training Script\n",
    "\n",
    "Aquí hay una descripción general de alto nivel del paso de capacitación y el trabajo de capacitación que SageMaker crea detrás de escena:\n",
    "\n",
    "<a href=\"images/train-model.png\" target=\"_blank\"> <img src=\"images/train-model.png\" alt=\"High-level overview of the Train Model Step and SageMaker's Training Jobs\" style=\"max-width: 750px;\" /></a>\n",
    "\n",
    "El siguiente script es responsable de entrenar una red neuronal usando los datos de entrenamiento, validar el modelo y guardarlo para que podamos usarlo más tarde:"
   ]
  },
  {
   "cell_type": "code",
   "execution_count": 375,
   "id": "d92b121d-dcb9-43e8-9ee3-3ececb583e7e",
   "metadata": {
    "tags": []
   },
   "outputs": [
    {
     "name": "stdout",
     "output_type": "stream",
     "text": [
      "Overwriting code/train.py\n"
     ]
    }
   ],
   "source": [
    "%%writefile {CODE_FOLDER}/train.py\n",
    "#| label: training-script\n",
    "#| echo: true\n",
    "#| output: false\n",
    "#| filename: train.py\n",
    "#| code-line-numbers: true\n",
    "\n",
    "import os\n",
    "import argparse\n",
    "\n",
    "import numpy as np\n",
    "import pandas as pd\n",
    "\n",
    "from pathlib import Path\n",
    "from sklearn.metrics import accuracy_score\n",
    "\n",
    "from tensorflow.keras.models import Sequential\n",
    "from tensorflow.keras.layers import Dense\n",
    "from tensorflow.keras.optimizers import SGD\n",
    "\n",
    "\n",
    "def train(model_directory, train_path, validation_path, epochs=50, batch_size=32):\n",
    "    X_train = pd.read_csv(Path(train_path) / \"train.csv\")\n",
    "    y_train = X_train[X_train.columns[-1]]\n",
    "    X_train.drop(X_train.columns[-1], axis=1, inplace=True)\n",
    "    \n",
    "    X_validation = pd.read_csv(Path(validation_path) / \"validation.csv\")\n",
    "    y_validation = X_validation[X_validation.columns[-1]]\n",
    "    X_validation.drop(X_validation.columns[-1], axis=1, inplace=True)\n",
    "        \n",
    "    model = Sequential([\n",
    "        Dense(10, input_shape=(X_train.shape[1],), activation=\"relu\"),\n",
    "        Dense(8, activation=\"relu\"),\n",
    "        Dense(3, activation=\"softmax\"),\n",
    "    ])\n",
    "    \n",
    "    model.compile(\n",
    "        optimizer=SGD(learning_rate=0.01),\n",
    "        loss=\"sparse_categorical_crossentropy\",\n",
    "        metrics=[\"accuracy\"]\n",
    "    )\n",
    "\n",
    "    model.fit(\n",
    "        X_train, \n",
    "        y_train, \n",
    "        validation_data=(X_validation, y_validation),\n",
    "        epochs=epochs, \n",
    "        batch_size=batch_size,\n",
    "        verbose=2,\n",
    "    )\n",
    "\n",
    "    predictions = np.argmax(model.predict(X_validation), axis=-1)\n",
    "    print(f\"Validation accuracy: {accuracy_score(y_validation, predictions)}\")\n",
    "    \n",
    "    model_filepath = Path(model_directory) / \"001\"\n",
    "    model.save(model_filepath)    \n",
    "    \n",
    "\n",
    "if __name__ == \"__main__\":\n",
    "    # Todos los hiperparámetros proporcionados por el trabajo de entrenamiento  \n",
    "    # se pasan al punto de entrada como argumentos de script.\n",
    "    parser = argparse.ArgumentParser()\n",
    "    parser.add_argument(\"--epochs\", type=int, default=50)\n",
    "    parser.add_argument(\"--batch_size\", type=int, default=32)\n",
    "    args, _ = parser.parse_known_args()\n",
    "\n",
    "    train(\n",
    "        # Esta es la ubicación donde necesitamos guardar nuestro modelo. \n",
    "        # SageMaker creará un archivo model.tar.gz con cualquier elemento \n",
    "        # dentro de este directorio cuando finalice el script de training\n",
    "        model_directory=os.environ[\"SM_MODEL_DIR\"],\n",
    "\n",
    "        # SageMaker crea un canal para cada una de las entradas del\n",
    "        # Training Step / Paso de entrenamiento.\n",
    "        train_path=os.environ[\"SM_CHANNEL_TRAIN\"],\n",
    "        validation_path=os.environ[\"SM_CHANNEL_VALIDATION\"],\n",
    "\n",
    "        epochs=args.epochs,\n",
    "        batch_size=args.batch_size,\n",
    "    )"
   ]
  },
  {
   "cell_type": "markdown",
   "id": "50f0a4fa-ce70-4882-b9f5-8253df03d890",
   "metadata": {},
   "source": [
    "Probemos el script para asegurarnos de que todo funcione como se esperaba:"
   ]
  },
  {
   "cell_type": "code",
   "execution_count": 376,
   "id": "14ea27ce-c453-4cb0-b309-dbecd732957e",
   "metadata": {
    "tags": []
   },
   "outputs": [
    {
     "name": "stderr",
     "output_type": "stream",
     "text": [
      "WARNING:absl:At this time, the v2.11+ optimizer `tf.keras.optimizers.SGD` runs slowly on M1/M2 Macs, please use the legacy Keras optimizer instead, located at `tf.keras.optimizers.legacy.SGD`.\n"
     ]
    },
    {
     "name": "stdout",
     "output_type": "stream",
     "text": [
      "8/8 - 0s - loss: 1.0481 - accuracy: 0.3933 - val_loss: 0.9980 - val_accuracy: 0.5686 - 213ms/epoch - 27ms/step\n",
      "2/2 [==============================] - 0s 1ms/step\n"
     ]
    },
    {
     "name": "stderr",
     "output_type": "stream",
     "text": [
      "INFO:tensorflow:Assets written to: /var/folders/4c/v1q3hy1x4mb5w0wpc72zl3_w0000gp/T/tmpwkbkm0g1/model/001/assets\n"
     ]
    },
    {
     "name": "stdout",
     "output_type": "stream",
     "text": [
      "Validation accuracy: 0.5686274509803921\n",
      "\u001b[32m.\u001b[0m\n",
      "\u001b[32m\u001b[32m\u001b[1m1 passed\u001b[0m\u001b[32m in 0.49s\u001b[0m\u001b[0m\n"
     ]
    }
   ],
   "source": [
    "%%ipytest -s\n",
    "#| code-fold: true\n",
    "#| output: false\n",
    "\n",
    "import os\n",
    "import shutil\n",
    "import tarfile\n",
    "import pytest\n",
    "import tempfile\n",
    "import joblib\n",
    "\n",
    "from preprocessor import preprocess\n",
    "from train import train\n",
    "\n",
    "\n",
    "@pytest.fixture(scope=\"function\", autouse=False)\n",
    "def directory():\n",
    "    directory = tempfile.mkdtemp()\n",
    "    input_directory = Path(directory) / \"input\"\n",
    "    input_directory.mkdir(parents=True, exist_ok=True)\n",
    "    shutil.copy2(DATA_FILEPATH, input_directory / \"data.csv\")\n",
    "    \n",
    "    directory = Path(directory)\n",
    "    \n",
    "    preprocess(base_directory=directory)\n",
    "    train(\n",
    "        model_directory=directory / \"model\",\n",
    "        train_path=directory / \"train\", \n",
    "        validation_path=directory / \"validation\",\n",
    "        epochs=1\n",
    "    )\n",
    "    \n",
    "    yield directory\n",
    "    \n",
    "    shutil.rmtree(directory)\n",
    "\n",
    "\n",
    "def test_train_saves_a_folder_with_model_assets(directory):\n",
    "    output = os.listdir(directory / \"model\")\n",
    "    assert \"001\" in output\n",
    "    \n",
    "    assets = os.listdir(directory / \"model\" / \"001\")\n",
    "    assert \"saved_model.pb\" in assets"
   ]
  },
  {
   "cell_type": "markdown",
   "id": "27cff4c1-6510-4d99-8ae1-cb14927b87c7",
   "metadata": {},
   "source": [
    "### Paso 2 - Setting up the Training Step\n",
    "\n",
    "Ahora podemos crear un [Training Step](https://docs.aws.amazon.com/sagemaker/latest/dg/build-and-manage-steps.html#step-type-training) que podemos agregar al pipeline. Este training step creará un training job de SageMaker en segundo plano, ejecutará el script de entrenamiento y subirá la salida a S3. Consulta la documentación de SageMaker SDK sobre  [TrainingStep](https://sagemaker.readthedocs.io/en/stable/workflows/pipelines/sagemaker.workflow.pipelines.html#sagemaker.workflow.steps.TrainingStep) para obtener más información.\n",
    "\n",
    "SageMaker utiliza el concepto de un [Estimator](https://sagemaker.readthedocs.io/en/stable/api/training/estimators.html) para manejar los training jobs e implementación de extremo a extremo. Para este ejemplo, utilizaremos el  [TensorFlow Estimator](https://sagemaker.readthedocs.io/en/stable/frameworks/tensorflow/sagemaker.tensorflow.html#tensorflow-estimator)  para ejecutar el script de training que escribimos anteriormente. \n",
    "\n",
    "\n",
    "SageMaker gestiona la infraestructura de un training job. Aprovisiona recursos durante la duración del job y los limpia cuando se completa. La imagen del contenedor de entrenamiento que SageMaker utiliza para ejecutar un training Job puede ser una imagen incorporada de SageMaker o una imagen personalizada.\n",
    "\n",
    "La página [Docker Registry Paths and Example Code](https://docs.aws.amazon.com/sagemaker/latest/dg/sagemaker-algo-docker-registry-paths.html) contiene información sobre las versiones de frameworks disponibles para cada región. Aquí, también puedes verificar las imágenes disponibles de [Deep Learning Container images](https://github.com/aws/deep-learning-containers/blob/master/available_images.md).\n",
    "\n",
    "Observa la lista de hiperparámetros definidos a continuación. SageMaker pasará estos hiperparámetros como argumentos al punto de entrada del script de training.\n",
    "\n",
    "Vamos a utilizar[SageMaker Experiments](https://sagemaker.readthedocs.io/en/v2.174.0/experiments/sagemaker.experiments.html) para registrar información del training job. Para obtener más información, consulta [Manage Machine Learning with Amazon SageMaker Experiments](https://docs.aws.amazon.com/sagemaker/latest/dg/experiments.html). La lista de definiciones de métricas le dirá a SageMaker qué métricas seguir y cómo analizarlas a partir de los registros del Trabajo del  training Job. \n"
   ]
  },
  {
   "cell_type": "code",
   "execution_count": 377,
   "id": "90fe82ae-6a2c-4461-bc83-bb52d8871e3b",
   "metadata": {
    "tags": []
   },
   "outputs": [],
   "source": [
    "from sagemaker.tensorflow import TensorFlow\n",
    "\n",
    "estimator = TensorFlow(\n",
    "    base_job_name=\"training\",\n",
    "    entry_point=f\"{CODE_FOLDER}/train.py\",\n",
    "    # SageMaker pasará estos hiperparámetros como argumentos\n",
    "    # al entrypoint del training script.\n",
    "    hyperparameters={\n",
    "        \"epochs\": 50,\n",
    "        \"batch_size\": 32,\n",
    "    },\n",
    "    # SageMaker realizará un seguimiento de estas métricas como parte del experimento.\n",
    "    # Las definiciones de métricas le indican a SageMaker\n",
    "    # cómo analizar los valores de los registros del training job.\n",
    "    metric_definitions=[\n",
    "        {\"Name\": \"loss\", \"Regex\": \"loss: ([0-9\\\\.]+)\"},\n",
    "        {\"Name\": \"accuracy\", \"Regex\": \"accuracy: ([0-9\\\\.]+)\"},\n",
    "        {\"Name\": \"val_loss\", \"Regex\": \"val_loss: ([0-9\\\\.]+)\"},\n",
    "        {\"Name\": \"val_accuracy\", \"Regex\": \"val_accuracy: ([0-9\\\\.]+)\"},\n",
    "    ],\n",
    "    image_uri=config[\"image\"],\n",
    "    framework_version=config[\"framework_version\"],\n",
    "    py_version=config[\"py_version\"],\n",
    "    instance_type=config[\"instance_type\"],\n",
    "    instance_count=1,\n",
    "    disable_profiler=True,\n",
    "    sagemaker_session=config[\"session\"],\n",
    "    role=role,\n",
    ")"
   ]
  },
  {
   "cell_type": "markdown",
   "id": "545d2b43-3bb5-4fe9-b3e4-cb8eb55c8a21",
   "metadata": {},
   "source": [
    "Ahora podemos crear un [Training Step](https://docs.aws.amazon.com/sagemaker/latest/dg/build-and-manage-steps.html#step-type-training). Este training step creará un training job de SageMaker en segundo plano, ejecutará el script de training y cargará el resultado en S3. Consulte la documentación del SDK de[TrainingStep](https://sagemaker.readthedocs.io/en/stable/workflows/pipelines/sagemaker.workflow.pipelines.html#sagemaker.workflow.steps.TrainingStep) de SageMaker para obtener más información.\n",
    "\n",
    "Este paso recibirá el train data y la validation data dividida del paso anterior como entradas.\n",
    "\n",
    "Aquí, utilizamos dos canales de entrada, `train` and `validation`. SageMaker creará automáticamente una variable de entorno correspondiente a cada uno de estos canales siguiendo el formato `SM_CHANNEL_[channel_name]`:\n",
    "\n",
    "-   `SM_CHANNEL_TRAIN`: Esta variable de entorno contendrá la ruta a los datos en el canal `train`.\n",
    "-   `SM_CHANNEL_VALIDATION`: Esta variable de entorno contendrá la ruta a los datos en el canal `validation`."
   ]
  },
  {
   "cell_type": "code",
   "execution_count": 378,
   "id": "99e4850c-83d6-4f4e-a813-d5a3f4bb7486",
   "metadata": {
    "tags": []
   },
   "outputs": [
    {
     "name": "stderr",
     "output_type": "stream",
     "text": [
      "/Users/svpino/dev/ml.school/.venv/lib/python3.9/site-packages/sagemaker/workflow/pipeline_context.py:297: UserWarning: Running within a PipelineSession, there will be No Wait, No Logs, and No Job being started.\n",
      "  warnings.warn(\n"
     ]
    }
   ],
   "source": [
    "# | code: true\n",
    "# | output: false\n",
    "\n",
    "from sagemaker.workflow.steps import TrainingStep\n",
    "from sagemaker.inputs import TrainingInput\n",
    "\n",
    "train_model_step = TrainingStep(\n",
    "    name=\"train-model\",\n",
    "    step_args=estimator.fit(\n",
    "        inputs={\n",
    "            \"train\": TrainingInput(\n",
    "                s3_data=preprocessing_step.properties.ProcessingOutputConfig.Outputs[\n",
    "                    \"train\"\n",
    "                ].S3Output.S3Uri,\n",
    "                content_type=\"text/csv\",\n",
    "            ),\n",
    "            \"validation\": TrainingInput(\n",
    "                s3_data=preprocessing_step.properties.ProcessingOutputConfig.Outputs[\n",
    "                    \"validation\"\n",
    "                ].S3Output.S3Uri,\n",
    "                content_type=\"text/csv\",\n",
    "            ),\n",
    "        }\n",
    "    ),\n",
    "    cache_config=cache_config,\n",
    ")"
   ]
  },
  {
   "cell_type": "markdown",
   "id": "5814e258-c633-4e9a-85c5-6ed0f168b503",
   "metadata": {},
   "source": [
    "### Paso 3 - Setting up a Tuning Step\n",
    "\n",
    "Ahora creemos un [Tuning Step](https://docs.aws.amazon.com/sagemaker/latest/dg/build-and-manage-steps.html#step-type-tuning). Este paso de ajuste creará un trabajo de ajuste de hiperparámetros de SageMaker en segundo plano y utilizará el script de entrenamiento para entrenar diferentes variantes del modelo y elegir la mejor. Consulte la documentación del SDK de [TuningStep](https://sagemaker.readthedocs.io/en/stable/workflows/pipelines/sagemaker.workflow.pipelines.html#sagemaker.workflow.steps.TuningStep) de SageMaker para obtener más información."
   ]
  },
  {
   "cell_type": "markdown",
   "id": "90eb5075",
   "metadata": {},
   "source": [
    "Dado que podríamos usar el training del tuning step para crear el modelo, definiremos esta constante para indicar qué enfoque queremos ejecutar. Tenga en cuenta que el tuning step no se admite en el modo local."
   ]
  },
  {
   "cell_type": "code",
   "execution_count": 379,
   "id": "f367d0e3",
   "metadata": {},
   "outputs": [],
   "source": [
    "USE_TUNING_STEP = False and not LOCAL_MODE"
   ]
  },
  {
   "cell_type": "markdown",
   "id": "b045af84",
   "metadata": {},
   "source": [
    "El Tuning Step requiere una ferencia a [HyperparameterTuner](https://sagemaker.readthedocs.io/en/stable/api/training/tuner.html) para configurar el Hyperparameter Tuning Job.\n",
    "\n",
    "Aquí está la configuración que usaremos para encontrar el mejor modelo:\n",
    "\n",
    "1. `objective_metric_name`: Este es el nombre de la métrica que utilizará el sintonizador para determinar el mejor modelo.\n",
    "2. `objective_type`: Este es el objetivo del tuner. Especifica si debe minimizar la métrica o maximizarla. En este ejemplo, dado que utilizamos la precisión de validación del modelo, queremos que el objetivo sea \"Maximizar\". Si estuviéramos usando la pérdida del modelo, estableceríamos el objetivo en \"Minimizar\".\n",
    "3. `metric_definitions`:  Define cómo el tuning determinará el valor de la métrica al observar los registros de salida del proceso de entrenamiento.\n",
    "\n",
    "El tuner espera la lista de hiperparámetros que desea explorar. Puede utilizar subclases de la clase [Parameter](https://sagemaker.readthedocs.io/en/stable/api/training/parameter.html#sagemaker.parameter.ParameterRange) para especificar diferentes tipos de hiperparámetros. Este ejemplo explora diferentes valores para el hiperparámetro  `epochs`.\n",
    "\n",
    "Finalmente, puede controlar la cantidad de jobs y cuántos de ellos se ejecutarán en paralelo usando los dos argumentos siguientes:\n",
    "\n",
    "-   `max_jobs`: Define el número total máximo de trabajos de entrenamiento que se iniciarán para el trabajo de ajuste de hiperparámetros.\n",
    "-   `max_parallel_jobs`: Define el número máximo de training jobs paralelos para iniciar.\n"
   ]
  },
  {
   "cell_type": "code",
   "execution_count": 380,
   "id": "c8c82750",
   "metadata": {},
   "outputs": [],
   "source": [
    "from sagemaker.tuner import HyperparameterTuner\n",
    "from sagemaker.parameter import IntegerParameter\n",
    "\n",
    "tuner = HyperparameterTuner(\n",
    "    estimator,\n",
    "    objective_metric_name=\"val_accuracy\",\n",
    "    objective_type=\"Maximize\",\n",
    "    hyperparameter_ranges={\n",
    "        \"epochs\": IntegerParameter(10, 50),\n",
    "    },\n",
    "    metric_definitions=[{\"Name\": \"val_accuracy\", \"Regex\": \"val_accuracy: ([0-9\\\\.]+)\"}],\n",
    "    max_jobs=3,\n",
    "    max_parallel_jobs=3,\n",
    ")"
   ]
  },
  {
   "cell_type": "markdown",
   "id": "28c2abc2",
   "metadata": {},
   "source": [
    "Ahora podemos crear el Tuning Step usando el tuner que configuramos antes.\n",
    "\n",
    "Aquí hay una descripción general de alto nivel de este paso y de Hyperparameter Tuning Job que SageMaker crea detrás de escena:\n",
    "\n",
    "<a href=\"images/tune-model.png\" target=\"_blank\"> <img src=\"images/tune-model.png\" alt=\"High-level overview of the Tune Model Step and SageMaker's Hyperparameter Tuning Jobs\" style=\"max-width: 750px;\" /></a>"
   ]
  },
  {
   "cell_type": "code",
   "execution_count": 381,
   "id": "038ff2e5-ed28-445b-bc03-4e996ec2286f",
   "metadata": {
    "tags": []
   },
   "outputs": [],
   "source": [
    "from sagemaker.workflow.steps import TuningStep\n",
    "\n",
    "tune_model_step = TuningStep(\n",
    "    name=\"tune-model\",\n",
    "    step_args=tuner.fit(\n",
    "        inputs={\n",
    "            \"train\": TrainingInput(\n",
    "                s3_data=preprocessing_step.properties.ProcessingOutputConfig.Outputs[\n",
    "                    \"train\"\n",
    "                ].S3Output.S3Uri,\n",
    "                content_type=\"text/csv\",\n",
    "            ),\n",
    "            \"validation\": TrainingInput(\n",
    "                s3_data=preprocessing_step.properties.ProcessingOutputConfig.Outputs[\n",
    "                    \"validation\"\n",
    "                ].S3Output.S3Uri,\n",
    "                content_type=\"text/csv\",\n",
    "            ),\n",
    "        },\n",
    "    ),\n",
    "    cache_config=cache_config,\n",
    ")"
   ]
  },
  {
   "cell_type": "markdown",
   "id": "4babe38c-1682-42d2-8442-101d17aa89b5",
   "metadata": {},
   "source": [
    "### Paso 4 - Creating the Pipeline\n",
    "\n",
    "Definamos el SageMaker Pipeline y enviemos su definición al servicio SageMaker Pipelines para crear el pipeline si no existe o actualizarla si existe."
   ]
  },
  {
   "cell_type": "code",
   "execution_count": 382,
   "id": "9799ab39-fcae-41f4-a68b-85ab71b3ba9a",
   "metadata": {
    "tags": []
   },
   "outputs": [
    {
     "name": "stderr",
     "output_type": "stream",
     "text": [
      "INFO:sagemaker.image_uris:image_uri is not presented, retrieving image_uri based on instance_type, framework etc.\n"
     ]
    },
    {
     "name": "stdout",
     "output_type": "stream",
     "text": [
      "Using provided s3_resource\n"
     ]
    },
    {
     "name": "stderr",
     "output_type": "stream",
     "text": [
      "INFO:sagemaker.image_uris:image_uri is not presented, retrieving image_uri based on instance_type, framework etc.\n"
     ]
    },
    {
     "name": "stdout",
     "output_type": "stream",
     "text": [
      "Using provided s3_resource\n"
     ]
    },
    {
     "data": {
      "text/plain": [
       "{'PipelineArn': 'arn:aws:sagemaker:us-east-1:325223348818:pipeline/session2-pipeline',\n",
       " 'ResponseMetadata': {'RequestId': 'ad240be3-0c80-49ec-b17a-4e891f46d30b',\n",
       "  'HTTPStatusCode': 200,\n",
       "  'HTTPHeaders': {'x-amzn-requestid': 'ad240be3-0c80-49ec-b17a-4e891f46d30b',\n",
       "   'content-type': 'application/x-amz-json-1.1',\n",
       "   'content-length': '85',\n",
       "   'date': 'Thu, 09 Nov 2023 20:32:23 GMT'},\n",
       "  'RetryAttempts': 0}}"
      ]
     },
     "execution_count": 382,
     "metadata": {},
     "output_type": "execute_result"
    }
   ],
   "source": [
    "# | code: true\n",
    "# | output: false\n",
    "\n",
    "session2_pipeline = Pipeline(\n",
    "    name=\"session2-pipeline\",\n",
    "    parameters=[dataset_location],\n",
    "    steps=[\n",
    "        preprocessing_step,\n",
    "        tune_model_step if USE_TUNING_STEP else train_model_step,\n",
    "    ],\n",
    "    pipeline_definition_config=pipeline_definition_config,\n",
    "    sagemaker_session=config[\"session\"],\n",
    ")\n",
    "\n",
    "session2_pipeline.upsert(role_arn=role)"
   ]
  },
  {
   "cell_type": "markdown",
   "id": "50810a3e",
   "metadata": {},
   "source": [
    "Ahora podemos iniciar la canalización:"
   ]
  },
  {
   "cell_type": "markdown",
   "id": "6bcb9d05",
   "metadata": {},
   "source": [
    "#| hide\n",
    "\n",
    "<div class=\"alert\" style=\"background-color:#0066cc;\"><strong>Nota:</strong> \n",
    "    El <code>%%script</code> magic es una forma conveniente de evitar que el notebook ejecute una celda específica. Si desea ejecutar la celda, comente la línea que contiene el <code>%%script</code>  magic.\n",
    "</div>\n"
   ]
  },
  {
   "cell_type": "code",
   "execution_count": 383,
   "id": "274a9b1e",
   "metadata": {},
   "outputs": [],
   "source": [
    "%%script false --no-raise-error\n",
    "#| eval: false\n",
    "#| code: true\n",
    "#| output: false\n",
    "\n",
    "session2_pipeline.start()"
   ]
  },
  {
   "cell_type": "markdown",
   "id": "c044516e-f56c-4c91-8d94-6ef109eb7325",
   "metadata": {},
   "source": [
    "### Assignments\n",
    "\n",
    "-   <span style=\"padding:4px; background-color: #f2a68a; color: #000;\"><strong>Assignment 2.1</strong></span> El script de entrenamiento entrena el modelo utilizando un valor de tasa de aprendizaje hard-coded. Modifique el script para aceptar la tasa de aprendizaje como un parámetro que podemos pasar desde el pipeline.\n",
    "\n",
    "-   <span style=\"padding:4px; background-color: #f2a68a; color: #000;\"><strong>Assignment 2.2</strong></span> Actualmente definimos el número de epochs para entrenar el modelo como una constante que pasamos al Estimator usando la lista de hiperparámetros. Reemplace esta constante con un nuevo parámetro de canalización llamado `training_epochs`.\n",
    "\n",
    "-   <span style=\"padding:4px; background-color: #f2a68a; color: #000;\"><strong>Assignment 2.3</strong></span> El proceso de tuning actual tiene como objetivo encontrar el modelo con la mayor precisión de validación. Modifique el código para que el mejor modelo sea el que tenga la menor pérdida de entrenamiento.\n",
    "\n",
    "-   <span style=\"padding:4px; background-color: #f2a68a; color: #000;\"><strong>Assignment 2.4</strong></span> Usamos una instancia de [`SKLearnProcessor`](https://sagemaker.readthedocs.io/en/stable/frameworks/sklearn/sagemaker.sklearn.html#scikit-learn-processor) para ejecutar el script que transforma y divide el datos. Si bien este procesador es conveniente, no nos permite instalar bibliotecas adicionales en el contenedor. Modifique el código para usar una instancia de [`FrameworkProcessor`](https://sagemaker.readthedocs.io/en/stable/api/training/processing.html#sagemaker.processing.FrameworkProcessor)  en lugar de  `SKLearnProcessor`. Esta clase nos permitirá especificar un directorio que contenga un archivo `requirements.txt` que contenga cualquier dependencia adicional. SageMaker instalará estas bibliotecas en el contenedor de procesamiento antes de activar el trabajo de procesamiento.\n",
    "\n",
    "-   <span style=\"padding:4px; background-color: #f2a68a; color: #000;\"><strong>Assignment 2.5</strong></span> Configuramos el training step para registrar información del training job como parte del experimento de SageMaker asociado al pipeline. Como parte de esta tarea, consulte  [Manage Machine Learning with Amazon SageMaker Experiments](https://docs.aws.amazon.com/sagemaker/latest/dg/experiments.html) y explore los experimentos generados en SageMaker Studio Console, para que puedas familiarizarse con la información que SageMaker registra durante el entrenamiento."
   ]
  },
  {
   "cell_type": "markdown",
   "id": "21d40fe8-ba74-4c12-9555-d8ea33d1c8b4",
   "metadata": {},
   "source": [
    "## Clase 3 - Evaluación y versionamiento de modelos\n",
    "\n",
    "Esta sesión amplía [SageMaker Pipeline](https://docs.aws.amazon.com/sagemaker/latest/dg/pipelines-sdk.html) con un paso para evaluar el modelo y registrarlo si alcanza un umbral de precisión predefinido. \n",
    "\n",
    "<a href=\"images/training.png\" target=\"_blank\"> <img src=\"images/training.png\" alt=\"Training\" style=\"max-width: 750px;\" /></a>\n",
    "\n",
    "Usaremos un [Processing Step](https://docs.aws.amazon.com/sagemaker/latest/dg/build-and-manage-steps.html#step-type-processing) para ejecutar un script de evaluación. Usaremos un [Condition Step](https://docs.aws.amazon.com/sagemaker/latest/dg/build-and-manage-steps.html#step-type-condition) para determinar si la precisión del modelo está por encima de un umbral y un  [Model Step](https://docs.aws.amazon.com/sagemaker/latest/dg/build-and-manage-steps.html#step-type-model)  para registrar el modelo en el [SageMaker Model Registry](https://docs.aws.amazon.com/sagemaker/latest/dg/model-registry.html).\n"
   ]
  },
  {
   "cell_type": "markdown",
   "id": "9eaa9691-f49f-48af-b272-3d4d17563b01",
   "metadata": {
    "tags": []
   },
   "source": [
    "### Paso 1 - Creando un script de evaluación\n",
    "\n",
    "Aquí hay una descripción general de alto nivel del paso de evaluación y el trabajo de procesamiento que SageMaker crea detrás de escena:\n",
    "\n",
    "<a href=\"images/evaluate-model.png\" target=\"_blank\"> <img src=\"images/evaluate-model.png\" alt=\"High-level overview of the Evaluate Model Step and SageMaker's Processing Jobs\" style=\"max-width: 750px;\" /></a>\n",
    "\n",
    "Creemos el script de evaluación. El Processing Step iniciará un Processing Job y ejecutará este script dentro de un contenedor. Este script es responsable de cargar el modelo que creamos y evaluarlo en el conjunto de prueba. Antes de finalizar, este script generará un informe de evaluación del modelo."
   ]
  },
  {
   "cell_type": "code",
   "execution_count": 384,
   "id": "3ee3ab26-afa5-4ceb-9f7a-005d5fdea646",
   "metadata": {
    "tags": []
   },
   "outputs": [
    {
     "name": "stdout",
     "output_type": "stream",
     "text": [
      "Overwriting code/evaluation.py\n"
     ]
    }
   ],
   "source": [
    "%%writefile {CODE_FOLDER}/evaluation.py\n",
    "#| label: evaluation-script\n",
    "#| echo: true\n",
    "#| output: false\n",
    "#| filename: evaluation.py\n",
    "#| code-line-numbers: true\n",
    "\n",
    "import json\n",
    "import tarfile\n",
    "import numpy as np\n",
    "import pandas as pd\n",
    "\n",
    "from pathlib import Path\n",
    "from tensorflow import keras\n",
    "from sklearn.metrics import accuracy_score\n",
    "\n",
    "\n",
    "def evaluate(model_path, test_path, output_path):\n",
    "    X_test = pd.read_csv(Path(test_path) / \"test.csv\")\n",
    "    y_test = X_test[X_test.columns[-1]]\n",
    "    X_test.drop(X_test.columns[-1], axis=1, inplace=True)\n",
    "\n",
    "    # Ahora extraigamos el model package para poder cargarlo\n",
    "    # en la memoria.\n",
    "    with tarfile.open(Path(model_path) / \"model.tar.gz\") as tar:\n",
    "        tar.extractall(path=Path(model_path))\n",
    "        \n",
    "    model = keras.models.load_model(Path(model_path) / \"001\")\n",
    "    \n",
    "    predictions = np.argmax(model.predict(X_test), axis=-1)\n",
    "    accuracy = accuracy_score(y_test, predictions)\n",
    "    print(f\"Test accuracy: {accuracy}\")\n",
    "\n",
    "    # Creemos un informe de evaluación utilizando la precisión del modelo..\n",
    "    evaluation_report = {\n",
    "        \"metrics\": {\n",
    "            \"accuracy\": {\n",
    "                \"value\": accuracy\n",
    "            },\n",
    "        },\n",
    "    }\n",
    "    \n",
    "    Path(output_path).mkdir(parents=True, exist_ok=True)\n",
    "    with open(Path(output_path) / \"evaluation.json\", \"w\") as f:\n",
    "        f.write(json.dumps(evaluation_report))\n",
    "        \n",
    "        \n",
    "if __name__ == \"__main__\":\n",
    "    evaluate(\n",
    "        model_path=\"/opt/ml/processing/model/\", \n",
    "        test_path=\"/opt/ml/processing/test/\",\n",
    "        output_path=\"/opt/ml/processing/evaluation/\"\n",
    "    )"
   ]
  },
  {
   "cell_type": "markdown",
   "id": "9dcc79a0-adfd-4ce9-8580-5cd228c3c2d9",
   "metadata": {},
   "source": [
    "Probemos el script para asegurarnos de que todo funcione como se esperaba:"
   ]
  },
  {
   "cell_type": "code",
   "execution_count": 385,
   "id": "9a2540d8-278a-4953-bc54-0469d154427d",
   "metadata": {
    "tags": []
   },
   "outputs": [
    {
     "name": "stderr",
     "output_type": "stream",
     "text": [
      "WARNING:absl:At this time, the v2.11+ optimizer `tf.keras.optimizers.SGD` runs slowly on M1/M2 Macs, please use the legacy Keras optimizer instead, located at `tf.keras.optimizers.legacy.SGD`.\n"
     ]
    },
    {
     "name": "stdout",
     "output_type": "stream",
     "text": [
      "8/8 - 0s - loss: 1.0397 - accuracy: 0.1674 - val_loss: 1.0632 - val_accuracy: 0.2157 - 207ms/epoch - 26ms/step\n",
      "2/2 [==============================] - 0s 2ms/step\n"
     ]
    },
    {
     "name": "stderr",
     "output_type": "stream",
     "text": [
      "INFO:tensorflow:Assets written to: /var/folders/4c/v1q3hy1x4mb5w0wpc72zl3_w0000gp/T/tmpf7nrbyjs/model/001/assets\n"
     ]
    },
    {
     "name": "stdout",
     "output_type": "stream",
     "text": [
      "Validation accuracy: 0.21568627450980393\n"
     ]
    },
    {
     "name": "stderr",
     "output_type": "stream",
     "text": [
      "WARNING:absl:At this time, the v2.11+ optimizer `tf.keras.optimizers.RestoredOptimizer` runs slowly on M1/M2 Macs, please use the legacy Keras optimizer instead, located at `tf.keras.optimizers.legacy.RestoredOptimizer`.\n",
      "WARNING:absl:At this time, the v2.11+ optimizer `tf.keras.optimizers.SGD` runs slowly on M1/M2 Macs, please use the legacy Keras optimizer instead, located at `tf.keras.optimizers.legacy.SGD`.\n"
     ]
    },
    {
     "name": "stdout",
     "output_type": "stream",
     "text": [
      "2/2 [==============================] - 0s 1ms/step\n",
      "Test accuracy: 0.21568627450980393\n",
      "\u001b[32m.\u001b[0m"
     ]
    },
    {
     "name": "stderr",
     "output_type": "stream",
     "text": [
      "WARNING:absl:At this time, the v2.11+ optimizer `tf.keras.optimizers.SGD` runs slowly on M1/M2 Macs, please use the legacy Keras optimizer instead, located at `tf.keras.optimizers.legacy.SGD`.\n"
     ]
    },
    {
     "name": "stdout",
     "output_type": "stream",
     "text": [
      "8/8 - 0s - loss: 0.8965 - accuracy: 0.8661 - val_loss: 0.8945 - val_accuracy: 0.8431 - 219ms/epoch - 27ms/step\n",
      "2/2 [==============================] - 0s 2ms/step\n",
      "Validation accuracy: 0.8431372549019608\n"
     ]
    },
    {
     "name": "stderr",
     "output_type": "stream",
     "text": [
      "INFO:tensorflow:Assets written to: /var/folders/4c/v1q3hy1x4mb5w0wpc72zl3_w0000gp/T/tmpsk_xqtve/model/001/assets\n",
      "WARNING:absl:At this time, the v2.11+ optimizer `tf.keras.optimizers.RestoredOptimizer` runs slowly on M1/M2 Macs, please use the legacy Keras optimizer instead, located at `tf.keras.optimizers.legacy.RestoredOptimizer`.\n",
      "WARNING:absl:At this time, the v2.11+ optimizer `tf.keras.optimizers.SGD` runs slowly on M1/M2 Macs, please use the legacy Keras optimizer instead, located at `tf.keras.optimizers.legacy.SGD`.\n"
     ]
    },
    {
     "name": "stdout",
     "output_type": "stream",
     "text": [
      "2/2 [==============================] - 0s 1ms/step\n",
      "Test accuracy: 0.8431372549019608\n",
      "\u001b[32m.\u001b[0m\n",
      "\u001b[32m\u001b[32m\u001b[1m2 passed\u001b[0m\u001b[32m in 1.23s\u001b[0m\u001b[0m\n"
     ]
    }
   ],
   "source": [
    "%%ipytest -s\n",
    "#| code-fold: true\n",
    "#| output: false\n",
    "\n",
    "import os\n",
    "import shutil\n",
    "import tarfile\n",
    "import pytest\n",
    "import tempfile\n",
    "import joblib\n",
    "\n",
    "from preprocessor import preprocess\n",
    "from train import train\n",
    "from evaluation import evaluate\n",
    "\n",
    "\n",
    "@pytest.fixture(scope=\"function\", autouse=False)\n",
    "def directory():\n",
    "    directory = tempfile.mkdtemp()\n",
    "    input_directory = Path(directory) / \"input\"\n",
    "    input_directory.mkdir(parents=True, exist_ok=True)\n",
    "    shutil.copy2(DATA_FILEPATH, input_directory / \"data.csv\")\n",
    "    \n",
    "    directory = Path(directory)\n",
    "    \n",
    "    preprocess(base_directory=directory)\n",
    "    \n",
    "    train(\n",
    "        model_directory=directory / \"model\",\n",
    "        train_path=directory / \"train\", \n",
    "        validation_path=directory / \"validation\",\n",
    "        epochs=1\n",
    "    )\n",
    "    \n",
    "    # Después de entrenar un modelo, necesitamos preparar un paquete como\n",
    "    # SageMaker lo haría. Este paquete es lo que el script de evaluación \n",
    "    # espera como entrada.\n",
    "    with tarfile.open(directory / \"model.tar.gz\", \"w:gz\") as tar:\n",
    "        tar.add(directory / \"model\" / \"001\", arcname=\"001\")\n",
    "        \n",
    "    evaluate(\n",
    "        model_path=directory, \n",
    "        test_path=directory / \"test\",\n",
    "        output_path=directory / \"evaluation\",\n",
    "    )\n",
    "\n",
    "    yield directory / \"evaluation\"\n",
    "    \n",
    "    shutil.rmtree(directory)\n",
    "\n",
    "\n",
    "def test_evaluate_generates_evaluation_report(directory):\n",
    "    output = os.listdir(directory)\n",
    "    assert \"evaluation.json\" in output\n",
    "\n",
    "\n",
    "def test_evaluation_report_contains_accuracy(directory):\n",
    "    with open(directory / \"evaluation.json\", 'r') as file:\n",
    "        report = json.load(file)\n",
    "        \n",
    "    assert \"metrics\" in report\n",
    "    assert \"accuracy\" in report[\"metrics\"]\n",
    "    "
   ]
  },
  {
   "cell_type": "markdown",
   "id": "bec1109a-6c26-4464-8338-94960729d212",
   "metadata": {},
   "source": [
    "### Paso 2: Configuración del paso de evaluación\n",
    "\n",
    "Para ejecutar el script de evaluación, usaremos un [Processing Step](https://docs.aws.amazon.com/sagemaker/latest/dg/build-and-manage-steps.html#step-type-processing) configurado con [TensorFlowProcessor](https://docs.aws.amazon.com/sagemaker/latest/dg/processing-job-frameworks-tensorflow.html) porque el script necesita acceso a TensorFlow."
   ]
  },
  {
   "cell_type": "code",
   "execution_count": 386,
   "id": "2fdff07f",
   "metadata": {},
   "outputs": [
    {
     "name": "stderr",
     "output_type": "stream",
     "text": [
      "INFO:sagemaker.image_uris:image_uri is not presented, retrieving image_uri based on instance_type, framework etc.\n"
     ]
    }
   ],
   "source": [
    "# | code: true\n",
    "# | output: false\n",
    "\n",
    "from sagemaker.tensorflow import TensorFlowProcessor\n",
    "\n",
    "evaluation_processor = TensorFlowProcessor(\n",
    "    base_job_name=\"evaluation-processor\",\n",
    "    image_uri=config[\"image\"],\n",
    "    framework_version=config[\"framework_version\"],\n",
    "    py_version=config[\"py_version\"],\n",
    "    instance_type=config[\"instance_type\"],\n",
    "    instance_count=1,\n",
    "    role=role,\n",
    "    sagemaker_session=config[\"session\"],\n",
    ")"
   ]
  },
  {
   "cell_type": "markdown",
   "id": "419e354a",
   "metadata": {},
   "source": [
    "Uno de las entradas al Evaluation Step serán los assets del modelo. Podemos usar el indicador `USE_TUNING_STEP` para determinar si creamos el modelo usando un Training Step o un Tuning Step. En caso de que estemos usando el  Tuning Step, podemos usar [TuningStep.get_top_model_s3_uri()](https://sagemaker.readthedocs.io/en/stable/workflows/pipelines/sagemaker.workflow.pipelines.html#sagemaker.workflow.steps.TuningStep.get_top_model_s3_uri) para obtener los assets del modelo del  training job de mayor rendimiento del Hyperparameter Tuning Job.\n"
   ]
  },
  {
   "cell_type": "code",
   "execution_count": 387,
   "id": "4f19e15b",
   "metadata": {},
   "outputs": [],
   "source": [
    "model_assets = train_model_step.properties.ModelArtifacts.S3ModelArtifacts\n",
    "\n",
    "if USE_TUNING_STEP:\n",
    "    model_assets = tune_model_step.get_top_model_s3_uri(\n",
    "        top_k=0, s3_bucket=config[\"session\"].default_bucket()\n",
    "    )"
   ]
  },
  {
   "cell_type": "markdown",
   "id": "08dae772",
   "metadata": {},
   "source": [
    "SageMaker admite la asignación de salidas a archivos de propiedades. Esto es útil cuando se accede a una propiedad específica desde la canalización. En nuestro caso, queremos acceder a la precisión del modelo en el paso de condición, por lo que asignaremos el informe de evaluación a un archivo de propiedad. Consulte [How to Build and Manage Property Files](https://docs.aws.amazon.com/sagemaker/latest/dg/build-and-manage-propertyfile.html) para obtener más información.\n"
   ]
  },
  {
   "cell_type": "code",
   "execution_count": 388,
   "id": "1f27b2ef",
   "metadata": {},
   "outputs": [],
   "source": [
    "from sagemaker.workflow.properties import PropertyFile\n",
    "\n",
    "evaluation_report = PropertyFile(\n",
    "    name=\"evaluation-report\", output_name=\"evaluation\", path=\"evaluation.json\"\n",
    ")"
   ]
  },
  {
   "cell_type": "markdown",
   "id": "4a4dbc0e",
   "metadata": {},
   "source": [
    "We are now ready to define the [ProcessingStep](https://sagemaker.readthedocs.io/en/stable/workflows/pipelines/sagemaker.workflow.pipelines.html#sagemaker.workflow.steps.ProcessingStep) that will run the evaluation script:"
   ]
  },
  {
   "cell_type": "code",
   "execution_count": 389,
   "id": "48139a07-5c8e-4bc6-b666-bf9531f7f520",
   "metadata": {
    "tags": []
   },
   "outputs": [
    {
     "name": "stderr",
     "output_type": "stream",
     "text": [
      "/Users/svpino/dev/ml.school/.venv/lib/python3.9/site-packages/sagemaker/workflow/pipeline_context.py:297: UserWarning: Running within a PipelineSession, there will be No Wait, No Logs, and No Job being started.\n",
      "  warnings.warn(\n"
     ]
    }
   ],
   "source": [
    "# | code: true\n",
    "# | output: false\n",
    "\n",
    "evaluate_model_step = ProcessingStep(\n",
    "    name=\"evaluate-model\",\n",
    "    step_args=evaluation_processor.run(\n",
    "        inputs=[\n",
    "            # La primera entrada es la división de prueba que generamos en\n",
    "            # el primer paso del proceso cuando dividimos \n",
    "            # y transformamos los datos.\n",
    "            ProcessingInput(\n",
    "                source=preprocessing_step.properties.ProcessingOutputConfig.Outputs[\n",
    "                    \"test\"\n",
    "                ].S3Output.S3Uri,\n",
    "                destination=\"/opt/ml/processing/test\",\n",
    "            ),\n",
    "            # La segunda entrada es el modelo que generamos en \n",
    "            # el Training o Tunning Step.\n",
    "            ProcessingInput(\n",
    "                source=model_assets,\n",
    "                destination=\"/opt/ml/processing/model\",\n",
    "            ),\n",
    "        ],\n",
    "        outputs=[\n",
    "            # El resultado es el informe de evaluación que \n",
    "            # generamos en el script de evaluación.\n",
    "            ProcessingOutput(\n",
    "                output_name=\"evaluation\", source=\"/opt/ml/processing/evaluation\"\n",
    "            ),\n",
    "        ],\n",
    "        code=f\"{CODE_FOLDER}/evaluation.py\",\n",
    "    ),\n",
    "    property_files=[evaluation_report],\n",
    "    cache_config=cache_config,\n",
    ")"
   ]
  },
  {
   "cell_type": "markdown",
   "id": "328a2bf2",
   "metadata": {},
   "source": [
    "### Paso 3: registrar el modelo\n",
    "\n",
    "Ahora creemos una nueva versión del modelo y registrémoslo en el Model Registry. Consulte  [Register a Model Version](https://docs.aws.amazon.com/sagemaker/latest/dg/model-registry-version.html) para obtener más información sobre el registro de modelos.\n",
    "\n",
    "A continuación se ofrece una descripción general de alto nivel de cómo registrar un modelo en el Registro de modelos:\n",
    "\n",
    "<a href=\"images/registration-step.png\" target=\"_blank\"> <img src=\"images/registration-step.png\" alt=\"High-level overview of the registering a model using the SageMaker's Model Step\" style=\"max-width: 750px;\" /></a>\n",
    "\n",
    "\n",
    "Primero, definamos el nombre del grupo donde registraremos el modelo:"
   ]
  },
  {
   "cell_type": "code",
   "execution_count": 390,
   "id": "bb70f907",
   "metadata": {},
   "outputs": [],
   "source": [
    "MODEL_PACKAGE_GROUP = \"penguins\""
   ]
  },
  {
   "cell_type": "markdown",
   "id": "40bcad3b",
   "metadata": {},
   "source": [
    "Ahora creemos el modelo que registraremos en el Registro de Modelos. El modelo que entrenamos usa TensorFlow, por lo que podemos usar la clase incorporada [TensorFlowModel](https://sagemaker.readthedocs.io/en/stable/frameworks/tensorflow/sagemaker.tensorflow.html#tensorflow-serving-model) para crear una instancia del modelo:\n"
   ]
  },
  {
   "cell_type": "code",
   "execution_count": 391,
   "id": "4ca4cb61",
   "metadata": {},
   "outputs": [],
   "source": [
    "from sagemaker.tensorflow.model import TensorFlowModel\n",
    "\n",
    "tensorflow_model = TensorFlowModel(\n",
    "    model_data=model_assets,\n",
    "    framework_version=config[\"framework_version\"],\n",
    "    sagemaker_session=config[\"session\"],\n",
    "    role=role,\n",
    ")"
   ]
  },
  {
   "cell_type": "markdown",
   "id": "99d6fd00",
   "metadata": {},
   "source": [
    "Cuando registramos un modelo en el Model Registry, podemos adjuntarle metadatos relevantes. Usaremos el informe de evaluación que generamos durante el Evaluation Step para completar las  [metrics](https://sagemaker.readthedocs.io/en/stable/api/inference/model_monitor.html#sagemaker.model_metrics.ModelMetrics) de este modelo:\n"
   ]
  },
  {
   "cell_type": "code",
   "execution_count": 392,
   "id": "8c05a7e1",
   "metadata": {},
   "outputs": [],
   "source": [
    "from sagemaker.model_metrics import ModelMetrics, MetricsSource\n",
    "from sagemaker.workflow.functions import Join\n",
    "\n",
    "model_metrics = ModelMetrics(\n",
    "    model_statistics=MetricsSource(\n",
    "        s3_uri=Join(\n",
    "            on=\"/\",\n",
    "            values=[\n",
    "                evaluate_model_step.properties.ProcessingOutputConfig.Outputs[\n",
    "                    \"evaluation\"\n",
    "                ].S3Output.S3Uri,\n",
    "                \"evaluation.json\",\n",
    "            ],\n",
    "        ),\n",
    "        content_type=\"application/json\",\n",
    "    )\n",
    ")"
   ]
  },
  {
   "cell_type": "markdown",
   "id": "6a51e61d",
   "metadata": {},
   "source": [
    "Podemos utilizar un [Model Step](https://docs.aws.amazon.com/sagemaker/latest/dg/build-and-manage-steps.html#step-type-model) para registrar el modelo. Consulte la documentación del SDK de [ModelStep](https://sagemaker.readthedocs.io/en/stable/workflows/pipelines/sagemaker.workflow.pipelines.html#sagemaker.workflow.model_step.ModelStep) de SageMaker para obtener más información."
   ]
  },
  {
   "cell_type": "code",
   "execution_count": 393,
   "id": "c9773a4a",
   "metadata": {
    "tags": []
   },
   "outputs": [
    {
     "name": "stderr",
     "output_type": "stream",
     "text": [
      "INFO:sagemaker.tensorflow.model:image_uri is not presented, retrieving image_uri based on instance_type, framework etc.\n"
     ]
    }
   ],
   "source": [
    "# | code: true\n",
    "# | output: false\n",
    "\n",
    "from sagemaker.workflow.model_step import ModelStep\n",
    "\n",
    "register_model_step = ModelStep(\n",
    "    name=\"register-model\",\n",
    "    step_args=tensorflow_model.register(\n",
    "        model_package_group_name=MODEL_PACKAGE_GROUP,\n",
    "        approval_status=\"Approved\",\n",
    "        model_metrics=model_metrics,\n",
    "        content_types=[\"text/csv\"],\n",
    "        response_types=[\"application/json\"],\n",
    "        inference_instances=[config[\"instance_type\"]],\n",
    "        transform_instances=[config[\"instance_type\"]],\n",
    "        domain=\"MACHINE_LEARNING\",\n",
    "        task=\"CLASSIFICATION\",\n",
    "        framework=\"TENSORFLOW\",\n",
    "        framework_version=config[\"framework_version\"],\n",
    "    ),\n",
    ")"
   ]
  },
  {
   "cell_type": "markdown",
   "id": "52c110f7-fe72-4db8-9d06-cfb9a0f2bfbd",
   "metadata": {},
   "source": [
    "### Paso 4 - Configuración de un Condition Step\n",
    "\n",
    "Solo queremos registrar un nuevo modelo si su precisión excede un umbral predefinido. Podemos usar un [Condition Step](https://docs.aws.amazon.com/sagemaker/latest/dg/build-and-manage-steps.html#step-type-condition) junto con el informe de evaluación que generamos. para lograr esto.\n",
    "\n",
    "Aquí hay una descripción general de alto nivel del paso de condición:\n",
    "\n",
    "<a href=\"images/condition-step.png\" target=\"_blank\"> <img src=\"images/condition-step.png\" alt=\"High-level overview of the Condition Step\" style=\"max-width: 750px;\" /></a>"
   ]
  },
  {
   "cell_type": "markdown",
   "id": "b5a51f95",
   "metadata": {},
   "source": [
    "Definamos un nuevo [Pipeline Parameter](https://docs.aws.amazon.com/sagemaker/latest/dg/build-and-manage-parameters.html) para especificar la precisión mínima que debe alcanzar el modelo para que estar registrado.\n"
   ]
  },
  {
   "cell_type": "code",
   "execution_count": 394,
   "id": "745486b5",
   "metadata": {},
   "outputs": [],
   "source": [
    "from sagemaker.workflow.parameters import ParameterFloat\n",
    "\n",
    "accuracy_threshold = ParameterFloat(name=\"accuracy_threshold\", default_value=0.70)"
   ]
  },
  {
   "cell_type": "markdown",
   "id": "2c959c94",
   "metadata": {},
   "source": [
    "Si la precisión del modelo no es mayor o igual a nuestro umbral, enviaremos el pipeline a un [Fail Step](https://docs.aws.amazon.com/sagemaker/latest/dg/build-and-manage-steps.html#step-type-fail) con el mensaje de error correspondiente. Consulte la documentación del SDK de [FailStep](https://sagemaker.readthedocs.io/en/stable/workflows/pipelines/sagemaker.workflow.pipelines.html#sagemaker.workflow.fail_step.FailStep) de SageMaker para obtener más información.\n"
   ]
  },
  {
   "cell_type": "code",
   "execution_count": 395,
   "id": "c4431bbf",
   "metadata": {},
   "outputs": [],
   "source": [
    "from sagemaker.workflow.fail_step import FailStep\n",
    "\n",
    "fail_step = FailStep(\n",
    "    name=\"fail\",\n",
    "    error_message=Join(\n",
    "        on=\" \",\n",
    "        values=[\n",
    "            \"Execution failed because the model's accuracy was lower than\",\n",
    "            accuracy_threshold,\n",
    "        ],\n",
    "    ),\n",
    ")"
   ]
  },
  {
   "cell_type": "markdown",
   "id": "b47764f9",
   "metadata": {},
   "source": [
    "Podemos usar una condición [ConditionGreaterThanOrEqualTo](https://sagemaker.readthedocs.io/en/stable/workflows/pipelines/sagemaker.workflow.pipelines.html#sagemaker.workflow.conditions.ConditionGreaterThanOrEqualTo) para comparar la precisión del modelo con la límite. Consulte la sección [Conditions](https://sagemaker.readthedocs.io/en/stable/amazon_sagemaker_model_building_pipeline.html#conditions) en la documentación para obtener más información sobre los tipos de condiciones admitidas.\n"
   ]
  },
  {
   "cell_type": "code",
   "execution_count": 396,
   "id": "bebeecab",
   "metadata": {},
   "outputs": [],
   "source": [
    "from sagemaker.workflow.functions import JsonGet\n",
    "from sagemaker.workflow.conditions import ConditionGreaterThanOrEqualTo\n",
    "\n",
    "condition = ConditionGreaterThanOrEqualTo(\n",
    "    left=JsonGet(\n",
    "        step_name=evaluate_model_step.name,\n",
    "        property_file=evaluation_report,\n",
    "        json_path=\"metrics.accuracy.value\",\n",
    "    ),\n",
    "    right=accuracy_threshold,\n",
    ")"
   ]
  },
  {
   "cell_type": "markdown",
   "id": "1b0ce4b1",
   "metadata": {},
   "source": [
    "Ahora definamos el paso de condición:"
   ]
  },
  {
   "cell_type": "code",
   "execution_count": 397,
   "id": "36e2a2b1-6711-4266-95d8-d2aebd52e199",
   "metadata": {
    "tags": []
   },
   "outputs": [],
   "source": [
    "from sagemaker.workflow.condition_step import ConditionStep\n",
    "\n",
    "condition_step = ConditionStep(\n",
    "    name=\"check-model-accuracy\",\n",
    "    conditions=[condition],\n",
    "    if_steps=[register_model_step] if not LOCAL_MODE else [],\n",
    "    else_steps=[fail_step],\n",
    ")"
   ]
  },
  {
   "cell_type": "markdown",
   "id": "2309b8fa-f03e-4959-853f-dc2416f82bdd",
   "metadata": {},
   "source": [
    "### Paso 5 - Creación del pipeline\n",
    "\n",
    "Ahora podemos definir SageMaker Pipeline y enviar su definición al servicio SageMaker Pipelines para crear la canalización si no existe o actualizarla si existe."
   ]
  },
  {
   "cell_type": "code",
   "execution_count": 398,
   "id": "f70bcd33-b499-4e2b-953e-94d1ed96c10a",
   "metadata": {
    "tags": []
   },
   "outputs": [
    {
     "name": "stderr",
     "output_type": "stream",
     "text": [
      "INFO:sagemaker.image_uris:image_uri is not presented, retrieving image_uri based on instance_type, framework etc.\n"
     ]
    },
    {
     "name": "stdout",
     "output_type": "stream",
     "text": [
      "Using provided s3_resource\n",
      "Using provided s3_resource\n"
     ]
    },
    {
     "name": "stderr",
     "output_type": "stream",
     "text": [
      "INFO:sagemaker.processing:Uploaded None to s3://mlschool/session3-pipeline/code/998d594dff31f9c79ccb20373bc59f36/sourcedir.tar.gz\n",
      "INFO:sagemaker.processing:runproc.sh uploaded to s3://mlschool/session3-pipeline/code/2c207c809cb0e0e9a1d77e5247f961f9/runproc.sh\n",
      "WARNING:sagemaker.workflow._utils:Popping out 'CertifyForMarketplace' from the pipeline definition since it will be overridden in pipeline execution time.\n",
      "INFO:sagemaker.image_uris:image_uri is not presented, retrieving image_uri based on instance_type, framework etc.\n"
     ]
    },
    {
     "name": "stdout",
     "output_type": "stream",
     "text": [
      "Using provided s3_resource\n",
      "Using provided s3_resource\n"
     ]
    },
    {
     "name": "stderr",
     "output_type": "stream",
     "text": [
      "INFO:sagemaker.processing:Uploaded None to s3://mlschool/session3-pipeline/code/998d594dff31f9c79ccb20373bc59f36/sourcedir.tar.gz\n",
      "INFO:sagemaker.processing:runproc.sh uploaded to s3://mlschool/session3-pipeline/code/2c207c809cb0e0e9a1d77e5247f961f9/runproc.sh\n"
     ]
    },
    {
     "data": {
      "text/plain": [
       "{'PipelineArn': 'arn:aws:sagemaker:us-east-1:325223348818:pipeline/session3-pipeline',\n",
       " 'ResponseMetadata': {'RequestId': '049f06de-0743-4181-af1f-411ff67ddffa',\n",
       "  'HTTPStatusCode': 200,\n",
       "  'HTTPHeaders': {'x-amzn-requestid': '049f06de-0743-4181-af1f-411ff67ddffa',\n",
       "   'content-type': 'application/x-amz-json-1.1',\n",
       "   'content-length': '85',\n",
       "   'date': 'Thu, 09 Nov 2023 20:32:28 GMT'},\n",
       "  'RetryAttempts': 0}}"
      ]
     },
     "execution_count": 398,
     "metadata": {},
     "output_type": "execute_result"
    }
   ],
   "source": [
    "# | code: true\n",
    "# | output: false\n",
    "\n",
    "session3_pipeline = Pipeline(\n",
    "    name=\"session3-pipeline\",\n",
    "    parameters=[dataset_location, accuracy_threshold],\n",
    "    steps=[\n",
    "        preprocessing_step,\n",
    "        tune_model_step if USE_TUNING_STEP else train_model_step,\n",
    "        evaluate_model_step,\n",
    "        condition_step,\n",
    "    ],\n",
    "    pipeline_definition_config=pipeline_definition_config,\n",
    "    sagemaker_session=config[\"session\"],\n",
    ")\n",
    "\n",
    "session3_pipeline.upsert(role_arn=role)"
   ]
  },
  {
   "cell_type": "markdown",
   "id": "1b1f656e",
   "metadata": {},
   "source": [
    "Ahora podemos iniciar el pipeline:"
   ]
  },
  {
   "cell_type": "markdown",
   "id": "36144169",
   "metadata": {},
   "source": [
    "#| hide\n",
    "\n",
    "<div class=\"alert\" style=\"background-color:#0066cc;\"><strong>Nota:</strong> \n",
    "    El <code>%%script</code> magic es una forma conveniente de evitar que el notebook ejecute una celda específica. Si desea ejecutar la celda, comente la línea que contiene el <code>%%script</code>  magic.\n",
    "</div>\n"
   ]
  },
  {
   "cell_type": "code",
   "execution_count": 399,
   "id": "f3b4126e",
   "metadata": {},
   "outputs": [],
   "source": [
    "%%script false --no-raise-error\n",
    "#| eval: false\n",
    "#| code: true\n",
    "#| output: false\n",
    "\n",
    "session3_pipeline.start()"
   ]
  },
  {
   "cell_type": "markdown",
   "id": "9418693c-ccd5-42b6-8ec4-04bb70fe213c",
   "metadata": {},
   "source": [
    "### Assignments\n",
    "\n",
    "-   <span style=\"padding:4px; line-height:30px; background-color: #f2a68a; color: #000;\"><strong>Assignment 3.1</strong></span> El script de evaluación calcula la precisión de el modelo y lo exporta como parte del informe de evaluación. Ampliar el informe de evaluación añadiendo la precisión y el recall del modelo en cada una de las clases.\n",
    "\n",
    "-   <span style=\"padding:4px; line-height:30px; background-color: #f2a68a; color: #000;\"><strong>Assignment 3.2</strong></span> Ampliar el script de evaluación para probar el modelo en cada isla por separado. El informe de evaluación debe contener la precisión del modelo en cada isla y la precisión general.\n",
    "\n",
    "-   <span style=\"padding:4px; line-height:30px; background-color: #f2a68a; color: #000;\"><strong>Assignment 3.3</strong></span> El Condition Step utiliza una valor de umbral hard-coded para determinar si la precisión del modelo es lo suficientemente buena para continuar. Modifique el código para que el pipeline utilice la precisión de la última versión del modelo registrado como umbral. Queremos registrar una nueva versión del modelo solo si su rendimiento es mejor que la versión anterior que registramos.\n",
    "\n",
    "-   <span style=\"padding:4px; line-height:30px; background-color: #f2a68a; color: #000;\"><strong>Assignment 3.4</strong></span>  El proceso actual utiliza un Training Step o un Tuning Step para construir un modelo. Modifica el pipeline para utilizar ambos pasos al mismo tiempo. El script de evaluación debe evaluar el modelo proveniente del Training Step y el mejor modelo proveniente del  Tuning Step  y generar la precisión y ubicación en S3 del mejor modelo. Debe modificar el código para registrar los assets del modelo especificados en el informe de evaluación.\n",
    "\n",
    "-   <span style=\"padding:4px; line-height:30px; background-color: #f2a68a; color: #000;\"><strong>Assignment 3.5</strong></span> Los pasos del pipeline pueden encontrar excepciones. En algunos casos, volver a intentarlo puede resolver estos problemas. Para esta asignación, configure el Processing Step para que reintente automáticamente el paso un máximo de 5 veces si encuentra un \"InternalServerError\". Consulte la documentación [Retry Policy for Pipeline Steps](https://docs.aws.amazon.com/sagemaker/latest/dg/pipelines-retry-policy.html) para obtener más información."
   ]
  },
  {
   "cell_type": "markdown",
   "id": "565cf77e-7fc7-406e-a2e2-40c553f459f7",
   "metadata": {
    "tags": []
   },
   "source": [
    "## Clase 4 - Implementación de modelos y entrega de predicciones\n",
    "\n",
    "En esta clase, exploraremos cómo implementar un modelo en un endpoint de SageMaker y cómo usar un pipeline de inferencia de SageMaker para controlar los datos que entran y salen del endpoint.\n",
    "\n",
    "<a href=\"images/deployment.png\" target=\"_blank\"> <img src=\"images/deployment.png\" alt=\"Deployment\" style=\"max-width: 750px;\" /></a>\n",
    "\n",
    "Comencemos definiendo el nombre del endpoint donde implementaremos el modelo y creando una constante que apunte a la ubicación donde almacenaremos los datos que capturará el endpoint:"
   ]
  },
  {
   "cell_type": "code",
   "execution_count": 400,
   "id": "befd5ad3",
   "metadata": {},
   "outputs": [],
   "source": [
    "from sagemaker.predictor import Predictor\n",
    "\n",
    "ENDPOINT = \"penguins-endpoint\"\n",
    "DATA_CAPTURE_DESTINATION = f\"{S3_LOCATION}/monitoring/data-capture\""
   ]
  },
  {
   "cell_type": "markdown",
   "id": "93727425-fac6-44ec-91ed-130a50fdd18a",
   "metadata": {},
   "source": [
    "### Paso 1 - Implementación del modelo desde el registro\n",
    "\n",
    "Implementemos manualmente el último modelo desde el Model Registry en un endpoint.\n",
    "\n",
    "Queremos consultar la lista de modelos aprobados del Model Registry y obtener el último:"
   ]
  },
  {
   "cell_type": "code",
   "execution_count": 401,
   "id": "87437a26-e9ea-4866-9dc3-630444c0fb46",
   "metadata": {
    "tags": []
   },
   "outputs": [
    {
     "data": {
      "text/plain": [
       "{'ModelPackageGroupName': 'penguins',\n",
       " 'ModelPackageVersion': 77,\n",
       " 'ModelPackageArn': 'arn:aws:sagemaker:us-east-1:325223348818:model-package/penguins/77',\n",
       " 'CreationTime': datetime.datetime(2023, 11, 3, 11, 30, 21, 903000, tzinfo=tzlocal()),\n",
       " 'ModelPackageStatus': 'Completed',\n",
       " 'ModelApprovalStatus': 'Approved'}"
      ]
     },
     "execution_count": 401,
     "metadata": {},
     "output_type": "execute_result"
    }
   ],
   "source": [
    "response = sagemaker_client.list_model_packages(\n",
    "    ModelPackageGroupName=MODEL_PACKAGE_GROUP,\n",
    "    ModelApprovalStatus=\"Approved\",\n",
    "    SortBy=\"CreationTime\",\n",
    "    MaxResults=1,\n",
    ")\n",
    "\n",
    "package = (\n",
    "    response[\"ModelPackageSummaryList\"][0]\n",
    "    if response[\"ModelPackageSummaryList\"]\n",
    "    else None\n",
    ")\n",
    "package"
   ]
  },
  {
   "cell_type": "markdown",
   "id": "af752269",
   "metadata": {},
   "source": [
    "Ahora podemos crear un [Model Package](https://sagemaker.readthedocs.io/en/stable/api/inference/model.html#sagemaker.model.ModelPackage) using the ARN of the model from the Model Registry:\n"
   ]
  },
  {
   "cell_type": "code",
   "execution_count": 402,
   "id": "dee516e9",
   "metadata": {},
   "outputs": [],
   "source": [
    "from sagemaker import ModelPackage\n",
    "\n",
    "if package:\n",
    "    model_package = ModelPackage(\n",
    "        model_package_arn=package[\"ModelPackageArn\"],\n",
    "        sagemaker_session=sagemaker_session,\n",
    "        role=role,\n",
    "    )"
   ]
  },
  {
   "cell_type": "markdown",
   "id": "b3119b48-2ddf-40b5-9ac0-680073a53d06",
   "metadata": {},
   "source": [
    "Ahora implementemos el modelo en un endpoint.\n",
    "\n",
    "A continuación se ofrece una descripción general de los tres componentes de un Endpoint:\n",
    "\n",
    "<a href=\"images/endpoint-components.png\" target=\"_blank\"> <img src=\"images/endpoint-components.png\" alt=\"An overview of the three components of an Endpoint\" style=\"max-width: 750px;\" /></a>"
   ]
  },
  {
   "cell_type": "markdown",
   "id": "fbf2ed9f",
   "metadata": {},
   "source": [
    "#| hide\n",
    "\n",
    "<div class=\"alert\" style=\"background-color:#0066cc;\"><strong>Nota:</strong> \n",
    "    El <code>%%script</code> magic es una forma conveniente de evitar que el notebook ejecute una celda específica. Si desea ejecutar la celda, comente la línea que contiene el <code>%%script</code>  magic.\n",
    "</div>\n"
   ]
  },
  {
   "cell_type": "code",
   "execution_count": 403,
   "id": "7c8852d5-818a-406c-944d-30bf6de90288",
   "metadata": {
    "tags": []
   },
   "outputs": [],
   "source": [
    "%%script false --no-raise-error\n",
    "#| eval: false\n",
    "\n",
    "model_package.deploy(\n",
    "    endpoint_name=ENDPOINT, \n",
    "    initial_instance_count=1, \n",
    "    instance_type=config[\"instance_type\"]\n",
    ")"
   ]
  },
  {
   "cell_type": "markdown",
   "id": "3dd7a725",
   "metadata": {},
   "source": [
    "Después de implementar el modelo, podemos probar el endpoint para asegurarnos de que funcione.\n",
    "\n",
    "Cada línea del payload que enviaremos al endpoint contiene la información de un pingüino. Observe que el modelo espera datos que ya están transformados. No podemos proporcionar los datos originales de nuestro conjunto de datos porque el modelo que registramos no funcionará con él.\n",
    "\n",
    "El punto final devolverá las predicciones para cada una de estas líneas.\n"
   ]
  },
  {
   "cell_type": "code",
   "execution_count": 404,
   "id": "ba7da291",
   "metadata": {},
   "outputs": [],
   "source": [
    "payload = \"\"\"\n",
    "0.6569590202313976,-1.0813829646495108,1.2097102831892812,0.9226343641317372,1.0,0.0,0.0\n",
    "-0.7751048801481084,0.8822689351285553,-1.2168066120762704,0.9226343641317372,0.0,1.0,0.0\n",
    "-0.837387834894918,0.3386660813829646,-0.26237731892812,-1.92351941317372,0.0,0.0,1.0\n",
    "\"\"\""
   ]
  },
  {
   "cell_type": "markdown",
   "id": "30bcfffa-0ba6-4ad8-8b4f-1ea19b35a22f",
   "metadata": {},
   "source": [
    "Enviemos el payload al endpoint e imprimamos su respuesta:"
   ]
  },
  {
   "cell_type": "code",
   "execution_count": 405,
   "id": "0817a25e-8224-4911-830b-d659e7458b4a",
   "metadata": {
    "tags": []
   },
   "outputs": [
    {
     "name": "stdout",
     "output_type": "stream",
     "text": [
      "An error occurred (ValidationError) when calling the InvokeEndpoint operation: Endpoint penguins-endpoint of account 325223348818 not found.\n"
     ]
    }
   ],
   "source": [
    "predictor = Predictor(endpoint_name=ENDPOINT)\n",
    "\n",
    "try:\n",
    "    response = predictor.predict(payload, initial_args={\"ContentType\": \"text/csv\"})\n",
    "    response = json.loads(response.decode(\"utf-8\"))\n",
    "\n",
    "    print(json.dumps(response, indent=2))\n",
    "    print(f\"\\nSpecies: {np.argmax(response['predictions'], axis=1)}\")\n",
    "except Exception as e:\n",
    "    print(e)"
   ]
  },
  {
   "cell_type": "markdown",
   "id": "28f5d383-fcd7-454c-bbd6-ce4ce7b2104a",
   "metadata": {},
   "source": [
    "Después de probar el endpoint, debemos asegurarnos de eliminarlo:"
   ]
  },
  {
   "cell_type": "markdown",
   "id": "d9ec7eeb",
   "metadata": {},
   "source": [
    "#| hide\n",
    "\n",
    "<div class=\"alert\" style=\"background-color:#0066cc;\"><strong>Nota:</strong> \n",
    "    El <code>%%script</code> magic es una forma conveniente de evitar que el notebook ejecute una celda específica. Si desea ejecutar la celda, comente la línea que contiene el <code>%%script</code>  magic.\n",
    "</div>\n"
   ]
  },
  {
   "cell_type": "code",
   "execution_count": 406,
   "id": "6b32c3a4-312e-473c-a217-33606f77d1e9",
   "metadata": {
    "tags": []
   },
   "outputs": [],
   "source": [
    "%%script false --no-raise-error\n",
    "#| eval: false\n",
    "#| code: true\n",
    "#| output: false\n",
    "\n",
    "predictor.delete_endpoint()"
   ]
  },
  {
   "cell_type": "markdown",
   "id": "99b90cce",
   "metadata": {},
   "source": [
    "Implementar el modelo que entrenamos directamente en un endpoint no nos permite controlar los datos que entran y salen del endpoint. El modelo de TensorFlow que entrenamos requiere datos transformados, lo que lo hace inútil para otras aplicaciones:\n",
    "\n",
    "<a href=\"images/prediction-service.png\" target=\"_blank\"> <img src=\"images/prediction-service.png\" alt=\"Prediction service\" style=\"max-width: 750px;\" /></a>\n",
    "\n",
    "Afortunadamente, podemos crear un pipeline de inferencia usando SageMaker para controlar los datos que entran y salen del endpoint.\n",
    "\n",
    "Nuestro pipeline de inferencia tendrá tres componentes:\n",
    "\n",
    "1. Un transformador de preprocesamiento que transformará los datos de entrada al formato que espera el modelo.\n",
    "2. El modelo TensorFlow que entrenamos.\n",
    "3. Un transformador de posprocesamiento que transformará la salida del modelo a un formato legible por humanos.\n",
    "\n",
    "<a href=\"images/inference-pipeline.png\" target=\"_blank\"> <img src=\"images/inference-pipeline.png\" alt=\"Inference pipeline\" style=\"max-width: 750px;\" /></a>\n",
    "\n",
    "Queremos que nuestro endpoint maneje datos no procesados en formato CSV y JSON y devuelva la especie del pingüino. A continuación se muestra un ejemplo del payload que queremos que admita el punto final::\n",
    "\n",
    "```{json}\n",
    "{\n",
    "    \"island\": \"Biscoe\",\n",
    "    \"culmen_length_mm\": 48.6,\n",
    "    \"culmen_depth_mm\": 16.0,\n",
    "    \"flipper_length_mm\": 230.0,\n",
    "    \"body_mass_g\": 5800.0,\n",
    "}\n",
    "```\n",
    "\n",
    "Y aquí hay un ejemplo del resultado que nos gustaría obtener del endpoint:\n",
    "\n",
    "```{json}\n",
    "{\n",
    "    \"prediction\": \"Adelie\",\n",
    "    \"confidence\": 0.802672\n",
    "}\n",
    "```\n"
   ]
  },
  {
   "cell_type": "markdown",
   "id": "0d0838bf",
   "metadata": {},
   "source": [
    "### Paso 2 - Creación del script de preprocesamiento\n",
    "\n",
    "El primer componente de nuestro proceso de inferencia transformará los datos de entrada al formato que espera el modelo. Usaremos el transformador de Scikit-Learn que guardamos cuando dividimos y transformamos los datos. Para implementar este componente como parte de un pipeline de inferencia, necesitamos escribir un script que cargue el transformador, lo use para modificar los datos de entrada y devuelva la salida en el formato que espera el modelo de TensorFlow.\n"
   ]
  },
  {
   "cell_type": "code",
   "execution_count": 407,
   "id": "e2d61d5c",
   "metadata": {
    "tags": []
   },
   "outputs": [
    {
     "name": "stdout",
     "output_type": "stream",
     "text": [
      "Overwriting code/inference/preprocessing_component.py\n"
     ]
    }
   ],
   "source": [
    "%%writefile {INFERENCE_CODE_FOLDER}/preprocessing_component.py\n",
    "#| label: preprocessing-component\n",
    "#| echo: true\n",
    "#| output: false\n",
    "#| filename: preprocessing_component.py\n",
    "#| code-line-numbers: true\n",
    "\n",
    "import os\n",
    "import pandas as pd\n",
    "import json\n",
    "import joblib\n",
    "\n",
    "from io import StringIO\n",
    "\n",
    "try:\n",
    "    from sagemaker_containers.beta.framework import encoders, worker\n",
    "except ImportError:\n",
    "    # No tenemos acceso a la instancia `worker` cuando realizamos pruebas localmente.\n",
    "    # o configuraremos en None para que podamoscambiar la forma en que las funciones\n",
    "    # crean una respuesta.\n",
    "    worker = None\n",
    "\n",
    "\n",
    "TARGET_COLUMN = \"species\"\n",
    "FEATURE_COLUMNS = [\n",
    "    \"island\",\n",
    "    \"culmen_length_mm\",\n",
    "    \"culmen_depth_mm\",\n",
    "    \"flipper_length_mm\",\n",
    "    \"body_mass_g\",\n",
    "    \"sex\",\n",
    "]\n",
    "\n",
    "\n",
    "def model_fn(model_dir):\n",
    "    \"\"\"\n",
    "    Deserializa el modelo que se utilizará en este contenedor.\n",
    "    \"\"\"\n",
    "\n",
    "    return joblib.load(os.path.join(model_dir, \"features.joblib\"))\n",
    "    \n",
    "\n",
    "def input_fn(input_data, content_type):\n",
    "    \"\"\"\n",
    "    Parseamos el payload de entrada y creamos un Pandas DataFrame.\n",
    "\n",
    "    Esta función comprobará si la columna de destino está presente en los\n",
    "    datos de entrada y los eliminará.\n",
    "    \"\"\"\n",
    "\n",
    "    if content_type == \"text/csv\":\n",
    "        df = pd.read_csv(StringIO(input_data), header=None, skipinitialspace=True)\n",
    "\n",
    "        if len(df.columns) == len(FEATURE_COLUMNS) + 1:\n",
    "            df = df.drop(df.columns[0], axis=1)\n",
    "\n",
    "        df.columns = FEATURE_COLUMNS\n",
    "        return df\n",
    "\n",
    "    if content_type == \"application/json\":\n",
    "        df = pd.DataFrame([json.loads(input_data)])\n",
    "\n",
    "        if \"species\" in df.columns:\n",
    "            df = df.drop(\"species\", axis=1)\n",
    "\n",
    "        return df\n",
    "\n",
    "    raise ValueError(f\"{content_type} is not supported!\")\n",
    "\n",
    "\n",
    "def predict_fn(input_data, model):\n",
    "    \"\"\"\n",
    "    PPreprocesar la entrada utilizando el transformador.\n",
    "    \"\"\"\n",
    "\n",
    "    try:\n",
    "        response = model.transform(input_data)\n",
    "        return response\n",
    "    except ValueError as e:\n",
    "        print(\"Error transforming the input data\", e)\n",
    "        return None\n",
    "\n",
    "\n",
    "def output_fn(prediction, accept):\n",
    "    \"\"\"\n",
    "    Formatea la salida de la predicción para generar una respuesta.\n",
    "\n",
    "    El tipo de contenido/aceptación predeterminado entre contenedores para inferencia serial\n",
    "    es JSON. Dado que este modelo precederá a un modelo de TensorFlow, queremos\n",
    "    que devuelva un objeto JSON siguiendo los requisitos de entrada de TensorFlow.\n",
    "    \"\"\"\n",
    "\n",
    "    if prediction is None:\n",
    "        raise Exception(\"There was an error transforming the input data\")\n",
    "\n",
    "    instances = [p for p in prediction.tolist()]\n",
    "    response = {\"instances\": instances}\n",
    "    return (\n",
    "        worker.Response(json.dumps(response), mimetype=accept)\n",
    "        if worker\n",
    "        else (response, accept)\n",
    "    )\n",
    "\n",
    "    raise Exception(f\"{accept} accept type is not supported.\")"
   ]
  },
  {
   "cell_type": "markdown",
   "id": "037982c1",
   "metadata": {},
   "source": [
    "Probemos el script para asegurarnos de que todo funcione como se esperaba:\n"
   ]
  },
  {
   "cell_type": "code",
   "execution_count": 408,
   "id": "33893ef2",
   "metadata": {
    "tags": []
   },
   "outputs": [
    {
     "name": "stdout",
     "output_type": "stream",
     "text": [
      "\u001b[32m.\u001b[0m\u001b[32m.\u001b[0m\u001b[32m.\u001b[0m\u001b[32m.\u001b[0m\u001b[32m.\u001b[0m\u001b[32m.\u001b[0m\u001b[32m.\u001b[0m\u001b[32m.\u001b[0m\u001b[32m                                                                                     [100%]\u001b[0m\n",
      "\u001b[32m\u001b[32m\u001b[1m8 passed\u001b[0m\u001b[32m in 0.06s\u001b[0m\u001b[0m\n"
     ]
    }
   ],
   "source": [
    "%%ipytest\n",
    "#| code-fold: true\n",
    "#| output: false\n",
    "\n",
    "from preprocessing_component import input_fn, predict_fn, output_fn, model_fn\n",
    "\n",
    "\n",
    "@pytest.fixture(scope=\"function\", autouse=False)\n",
    "def directory():\n",
    "    directory = tempfile.mkdtemp()\n",
    "    input_directory = Path(directory) / \"input\"\n",
    "    input_directory.mkdir(parents=True, exist_ok=True)\n",
    "    shutil.copy2(DATA_FILEPATH, input_directory / \"data.csv\")\n",
    "    \n",
    "    directory = Path(directory)\n",
    "    \n",
    "    preprocess(base_directory=directory)\n",
    "    \n",
    "    with tarfile.open(directory / \"model\" / \"model.tar.gz\") as tar:\n",
    "        tar.extractall(path=directory / \"model\")\n",
    "    \n",
    "    yield directory / \"model\"\n",
    "    \n",
    "    shutil.rmtree(directory)\n",
    "\n",
    "\n",
    "\n",
    "def test_input_csv_drops_target_column_if_present():\n",
    "    input_data = \"\"\"\n",
    "    Adelie, Torgersen, 39.1, 18.7, 181, 3750, MALE\n",
    "    \"\"\"\n",
    "    \n",
    "    df = input_fn(input_data, \"text/csv\")\n",
    "    assert len(df.columns) == 6 and \"species\" not in df.columns\n",
    "\n",
    "\n",
    "def test_input_json_drops_target_column_if_present():\n",
    "    input_data = json.dumps({\n",
    "        \"species\": \"Adelie\", \n",
    "        \"island\": \"Torgersen\",\n",
    "        \"culmen_length_mm\": 44.1,\n",
    "        \"culmen_depth_mm\": 18.0,\n",
    "        \"flipper_length_mm\": 210.0,\n",
    "        \"body_mass_g\": 4000.0,\n",
    "        \"sex\": \"MALE\"\n",
    "    })\n",
    "    \n",
    "    df = input_fn(input_data, \"application/json\")\n",
    "    assert len(df.columns) == 6 and \"species\" not in df.columns\n",
    "\n",
    "\n",
    "def test_input_csv_works_without_target_column():\n",
    "    input_data = \"\"\"\n",
    "    Torgersen, 39.1, 18.7, 181, 3750, MALE\n",
    "    \"\"\"\n",
    "    \n",
    "    df = input_fn(input_data, \"text/csv\")\n",
    "    assert len(df.columns) == 6\n",
    "\n",
    "\n",
    "def test_input_json_works_without_target_column():\n",
    "    input_data = json.dumps({\n",
    "        \"island\": \"Torgersen\",\n",
    "        \"culmen_length_mm\": 44.1,\n",
    "        \"culmen_depth_mm\": 18.0,\n",
    "        \"flipper_length_mm\": 210.0,\n",
    "        \"body_mass_g\": 4000.0,\n",
    "        \"sex\": \"MALE\"\n",
    "    })\n",
    "    \n",
    "    df = input_fn(input_data, \"application/json\")\n",
    "    assert len(df.columns) == 6\n",
    "\n",
    "\n",
    "def test_output_raises_exception_if_prediction_is_none():\n",
    "    with pytest.raises(Exception):\n",
    "        output_fn(None, \"application/json\")\n",
    "    \n",
    "    \n",
    "def test_output_returns_tensorflow_ready_input():\n",
    "    prediction = np.array([\n",
    "        [-1.3944109908736013,1.15488062669371,-0.7954340636549508,-0.5536447804097907,0.0,1.0,0.0],\n",
    "        [1.0557485835338234,0.5040085971987002,-0.5824506029515057,-0.5851840035995248,0.0,1.0,0.0]\n",
    "    ])\n",
    "    \n",
    "    response = output_fn(prediction, \"application/json\")\n",
    "    \n",
    "    assert response[0] == {\n",
    "        \"instances\": [\n",
    "            [-1.3944109908736013,1.15488062669371,-0.7954340636549508,-0.5536447804097907,0.0,1.0,0.0],\n",
    "            [1.0557485835338234,0.5040085971987002,-0.5824506029515057,-0.5851840035995248,0.0,1.0,0.0]\n",
    "        ]\n",
    "    }\n",
    "    \n",
    "    assert response[1] == \"application/json\"\n",
    "\n",
    "    \n",
    "def test_predict_transforms_data(directory):\n",
    "    input_data = \"\"\"\n",
    "    Torgersen, 39.1, 18.7, 181, 3750, MALE\n",
    "    \"\"\"\n",
    "    \n",
    "    model = model_fn(str(directory))\n",
    "    df = input_fn(input_data, \"text/csv\")\n",
    "    response = predict_fn(df, model)\n",
    "    assert type(response) is np.ndarray\n",
    "    \n",
    "\n",
    "def test_predict_returns_none_if_invalid_input(directory):\n",
    "    input_data = \"\"\"\n",
    "    Invalid, 39.1, 18.7, 181, 3750, MALE\n",
    "    \"\"\"\n",
    "    \n",
    "    model = model_fn(str(directory))\n",
    "    df = input_fn(input_data, \"text/csv\")\n",
    "    assert predict_fn(df, model) is None"
   ]
  },
  {
   "cell_type": "markdown",
   "id": "8eacf7aa",
   "metadata": {},
   "source": [
    "### Paso 3 - Creación del script de posprocesamiento\n",
    "\n",
    "El componente final de nuestro proceso de inferencia transformará el resultado del modelo a un formato legible por humanos. Usaremos el transformador de destino Scikit-Learn que guardamos cuando dividimos y transformamos los datos. Para implementar este componente como parte de un pipeline de inferencia, necesitamos escribir un script que cargue el transformador, lo use para modificar la salida del modelo y devuelva un formato legible por humanos.\n"
   ]
  },
  {
   "cell_type": "code",
   "execution_count": 409,
   "id": "48c69002",
   "metadata": {
    "tags": []
   },
   "outputs": [
    {
     "name": "stdout",
     "output_type": "stream",
     "text": [
      "Overwriting code/inference/postprocessing_component.py\n"
     ]
    }
   ],
   "source": [
    "%%writefile {INFERENCE_CODE_FOLDER}/postprocessing_component.py\n",
    "#| label: postprocessing-component\n",
    "#| echo: true\n",
    "#| output: false\n",
    "#| filename: postprocessing_component.py\n",
    "#| code-line-numbers: true\n",
    "\n",
    "import os\n",
    "import numpy as np\n",
    "import json\n",
    "import joblib\n",
    "\n",
    "\n",
    "try:\n",
    "    from sagemaker_containers.beta.framework import encoders, worker\n",
    "except ImportError:\n",
    "    # No tenemos acceso a la instancia `worker` cuando realizamos pruebas localmente.\n",
    "    # Lo configuraremos en None para que podamos cambiar la forma en \n",
    "    # que las funciones crean una respuesta.\n",
    "    worker = None\n",
    "\n",
    "\n",
    "def model_fn(model_dir):\n",
    "    \"\"\"\n",
    "    Deserializamos el model target y devuelve la lista de categorías ajustadas.\n",
    "    \"\"\"\n",
    "\n",
    "    model = joblib.load(os.path.join(model_dir, \"target.joblib\"))\n",
    "    return model.named_transformers_[\"species\"].categories_[0]\n",
    "\n",
    "\n",
    "def input_fn(input_data, content_type):\n",
    "    if content_type == \"application/json\":\n",
    "        predictions = json.loads(input_data)[\"predictions\"]\n",
    "        return predictions\n",
    "    \n",
    "    raise ValueError(f\"{content_type} is not supported.!\")\n",
    "\n",
    "\n",
    "def predict_fn(input_data, model):\n",
    "    \"\"\"\n",
    "    Transforma la predicción en su categoría correspondiente.\n",
    "    \"\"\"\n",
    "    predictions = np.argmax(input_data, axis=-1)\n",
    "    confidence = np.max(input_data, axis=-1)\n",
    "    return [\n",
    "        (model[prediction], confidence)\n",
    "        for confidence, prediction in zip(confidence, predictions)\n",
    "    ]\n",
    "\n",
    "def output_fn(prediction, accept):\n",
    "    if accept == \"text/csv\":\n",
    "        return (\n",
    "            worker.Response(encoders.encode(prediction, accept), mimetype=accept)\n",
    "            if worker\n",
    "            else (prediction, accept)\n",
    "        )\n",
    "\n",
    "    if accept == \"application/json\":\n",
    "        response = []\n",
    "        for p, c in prediction:\n",
    "            response.append({\"prediction\": p, \"confidence\": c})\n",
    "\n",
    "        # Si solo hay una predicción, la devolveremos como \n",
    "        # un único objeto.\n",
    "        if len(response) == 1:\n",
    "            response = response[0]\n",
    "\n",
    "        return (\n",
    "            worker.Response(json.dumps(response), mimetype=accept)\n",
    "            if worker\n",
    "            else (response, accept)\n",
    "        )\n",
    "\n",
    "    raise Exception(f\"{accept} accept type is not supported.\")"
   ]
  },
  {
   "cell_type": "markdown",
   "id": "86c421c7",
   "metadata": {},
   "source": [
    "Probemos el script para asegurarnos de que todo funcione como se esperaba:"
   ]
  },
  {
   "cell_type": "code",
   "execution_count": 410,
   "id": "741b8402",
   "metadata": {
    "tags": []
   },
   "outputs": [
    {
     "name": "stdout",
     "output_type": "stream",
     "text": [
      "\u001b[32m.\u001b[0m\u001b[32m.\u001b[0m\u001b[32m.\u001b[0m\u001b[32m                                                                                          [100%]\u001b[0m\n",
      "\u001b[32m\u001b[32m\u001b[1m3 passed\u001b[0m\u001b[32m in 0.01s\u001b[0m\u001b[0m\n"
     ]
    }
   ],
   "source": [
    "%%ipytest\n",
    "#| code-fold: true\n",
    "#| output: false\n",
    "\n",
    "import numpy as np\n",
    "\n",
    "from postprocessing_component import predict_fn, output_fn\n",
    "\n",
    "\n",
    "def test_predict_returns_prediction_as_first_column():\n",
    "    input_data = [\n",
    "        [0.6, 0.2, 0.2], \n",
    "        [0.1, 0.8, 0.1],\n",
    "        [0.2, 0.1, 0.7]\n",
    "    ]\n",
    "    \n",
    "    categories = [\"Adelie\", \"Gentoo\", \"Chinstrap\"]\n",
    "    \n",
    "    response = predict_fn(input_data, categories)\n",
    "    \n",
    "    assert response == [\n",
    "        (\"Adelie\", 0.6),\n",
    "        (\"Gentoo\", 0.8),\n",
    "        (\"Chinstrap\", 0.7)\n",
    "    ]\n",
    "\n",
    "\n",
    "def test_output_does_not_return_array_if_single_prediction():\n",
    "    prediction = [(\"Adelie\", 0.6)]\n",
    "    response, _ = output_fn(prediction, \"application/json\")\n",
    "\n",
    "    assert response[\"prediction\"] == \"Adelie\"\n",
    "\n",
    "\n",
    "def test_output_returns_array_if_multiple_predictions():\n",
    "    prediction = [(\"Adelie\", 0.6), (\"Gentoo\", 0.8)]\n",
    "    response, _ = output_fn(prediction, \"application/json\")\n",
    "\n",
    "    assert len(response) == 2\n",
    "    assert response[0][\"prediction\"] == \"Adelie\"\n",
    "    assert response[1][\"prediction\"] == \"Gentoo\"\n"
   ]
  },
  {
   "cell_type": "markdown",
   "id": "5e5526e5",
   "metadata": {},
   "source": [
    "### Paso 4 - Configuramos el pipeline de inferencia\n",
    "\n",
    "Ahora podemos crear un [PipelineModel](https://sagemaker.readthedocs.io/en/stable/api/inference/pipeline.html#sagemaker.pipeline.PipelineModel) para definir nuestra canalización de inferencia.\n"
   ]
  },
  {
   "cell_type": "markdown",
   "id": "2baf91d8",
   "metadata": {},
   "source": [
    "Usaremos el modelo que generamos en el primer paso del pipeline como entrada para el primer y último componente del pipeline de inferencia. Este archivo `model.tar.gz` contiene los dos transformadores que necesitamos para preprocesar y posprocesar los datos. Creemos una variable con el URI de este archivo:"
   ]
  },
  {
   "cell_type": "code",
   "execution_count": 411,
   "id": "53ea0ccf",
   "metadata": {},
   "outputs": [],
   "source": [
    "transformation_pipeline_model = Join(\n",
    "    on=\"/\",\n",
    "    values=[\n",
    "        preprocessing_step.properties.ProcessingOutputConfig.Outputs[\n",
    "            \"model\"\n",
    "        ].S3Output.S3Uri,\n",
    "        \"model.tar.gz\",\n",
    "    ],\n",
    ")"
   ]
  },
  {
   "cell_type": "markdown",
   "id": "1b7119a4",
   "metadata": {},
   "source": [
    "Aquí está el primer componente del proceso de inferencia. Preprocesará los datos antes de enviarlos al modelo de TensorFlow:"
   ]
  },
  {
   "cell_type": "code",
   "execution_count": 412,
   "id": "11a0effd",
   "metadata": {},
   "outputs": [],
   "source": [
    "from sagemaker.sklearn.model import SKLearnModel\n",
    "\n",
    "preprocessing_model = SKLearnModel(\n",
    "    model_data=transformation_pipeline_model,\n",
    "    entry_point=\"preprocessing_component.py\",\n",
    "    source_dir=str(INFERENCE_CODE_FOLDER),\n",
    "    framework_version=\"1.2-1\",\n",
    "    sagemaker_session=config[\"session\"],\n",
    "    role=role,\n",
    ")"
   ]
  },
  {
   "cell_type": "markdown",
   "id": "26a18bfb",
   "metadata": {},
   "source": [
    "Aquí está el último componente del pipeline de inferencia. Postprocesará la salida del modelo de TensorFlow antes de enviarla de vuelta al usuario:"
   ]
  },
  {
   "cell_type": "code",
   "execution_count": 413,
   "id": "5d7a5926",
   "metadata": {},
   "outputs": [],
   "source": [
    "post_processing_model = SKLearnModel(\n",
    "    model_data=transformation_pipeline_model,\n",
    "    entry_point=\"postprocessing_component.py\",\n",
    "    source_dir=str(INFERENCE_CODE_FOLDER),\n",
    "    framework_version=\"1.2-1\",\n",
    "    sagemaker_session=config[\"session\"],\n",
    "    role=role,\n",
    ")"
   ]
  },
  {
   "cell_type": "markdown",
   "id": "2918f505",
   "metadata": {},
   "source": [
    "Ahora podemos crear el pipeline de inferencia utilizando los tres modelos:"
   ]
  },
  {
   "cell_type": "code",
   "execution_count": 414,
   "id": "157b8858",
   "metadata": {
    "tags": []
   },
   "outputs": [],
   "source": [
    "from sagemaker.pipeline import PipelineModel\n",
    "\n",
    "pipeline_model = PipelineModel(\n",
    "    name=\"inference-model\",\n",
    "    models=[preprocessing_model, tensorflow_model, post_processing_model],\n",
    "    sagemaker_session=config[\"session\"],\n",
    "    role=role,\n",
    ")"
   ]
  },
  {
   "cell_type": "markdown",
   "id": "501cdaa1",
   "metadata": {},
   "source": [
    "### Step 5 - Registro del modelo\n",
    "\n",
    "Modificaremos el pipeline para registrar el Pipeline Model en el Model Registry. Usaremos un nombre de grupo diferente para mantener separados los modelos del pipeline.\n"
   ]
  },
  {
   "cell_type": "code",
   "execution_count": 415,
   "id": "aefe580a",
   "metadata": {},
   "outputs": [],
   "source": [
    "PIPELINE_MODEL_PACKAGE_GROUP = \"pipeline\""
   ]
  },
  {
   "cell_type": "markdown",
   "id": "77b2b06e",
   "metadata": {},
   "source": [
    "Registremos ahora el modelo. Tenga en cuenta que registraremos el modelo con el estado \"PendingManualApproval\" Esto significa que necesitaremos aprobar manualmente el modelo antes de poder implementarlo en un endpoint Consulte [Register a Model Version](https://docs.aws.amazon.com/sagemaker/latest/dg/model-registry-version.html) para obtener más información sobre el registro de modelos.\n"
   ]
  },
  {
   "cell_type": "code",
   "execution_count": 416,
   "id": "f84d2cd5",
   "metadata": {
    "tags": []
   },
   "outputs": [
    {
     "name": "stderr",
     "output_type": "stream",
     "text": [
      "/Users/svpino/dev/ml.school/.venv/lib/python3.9/site-packages/sagemaker/workflow/pipeline_context.py:297: UserWarning: Running within a PipelineSession, there will be No Wait, No Logs, and No Job being started.\n",
      "  warnings.warn(\n"
     ]
    }
   ],
   "source": [
    "# | code: true\n",
    "# | output: false\n",
    "\n",
    "register_model_step = ModelStep(\n",
    "    name=\"register\",\n",
    "    display_name=\"register-model\",\n",
    "    step_args=pipeline_model.register(\n",
    "        model_package_group_name=PIPELINE_MODEL_PACKAGE_GROUP,\n",
    "        model_metrics=model_metrics,\n",
    "        approval_status=\"PendingManualApproval\",\n",
    "        content_types=[\"text/csv\", \"application/json\"],\n",
    "        response_types=[\"text/csv\", \"application/json\"],\n",
    "        inference_instances=[config[\"instance_type\"]],\n",
    "        transform_instances=[config[\"instance_type\"]],\n",
    "        domain=\"MACHINE_LEARNING\",\n",
    "        task=\"CLASSIFICATION\",\n",
    "        framework=\"TENSORFLOW\",\n",
    "        framework_version=config[\"framework_version\"],\n",
    "    ),\n",
    ")"
   ]
  },
  {
   "cell_type": "markdown",
   "id": "c00a4ebb-fb21-4935-9d7b-9500e47e07f9",
   "metadata": {},
   "source": [
    "### Paso 6 - Modificación del Condition Step\n",
    "\n",
    "Dado que modificamos el paso de registro, también necesitamos modificar el Condition Step para usar el nuevo registro:\n"
   ]
  },
  {
   "cell_type": "code",
   "execution_count": 417,
   "id": "b9712905-9fe3-4148-ae6d-05b0a48e742e",
   "metadata": {
    "tags": []
   },
   "outputs": [],
   "source": [
    "condition_step = ConditionStep(\n",
    "    name=\"check-model-accuracy\",\n",
    "    conditions=[condition],\n",
    "    if_steps=[register_model_step] if not LOCAL_MODE else [],\n",
    "    else_steps=[fail_step],\n",
    ")"
   ]
  },
  {
   "cell_type": "markdown",
   "id": "0730a388",
   "metadata": {},
   "source": [
    "### Paso 7 - Creación del pipeline\n",
    "\n",
    "Ahora podemos definir SageMaker Pipeline y enviar su definición al servicio SageMaker Pipelines para crear el pipeline si no existe o actualizarla si existe."
   ]
  },
  {
   "cell_type": "code",
   "execution_count": 418,
   "id": "bad9f51d",
   "metadata": {
    "tags": []
   },
   "outputs": [
    {
     "name": "stderr",
     "output_type": "stream",
     "text": [
      "INFO:sagemaker.image_uris:image_uri is not presented, retrieving image_uri based on instance_type, framework etc.\n"
     ]
    },
    {
     "name": "stdout",
     "output_type": "stream",
     "text": [
      "Using provided s3_resource\n",
      "Using provided s3_resource\n"
     ]
    },
    {
     "name": "stderr",
     "output_type": "stream",
     "text": [
      "INFO:sagemaker.processing:Uploaded None to s3://mlschool/session4-pipeline/code/998d594dff31f9c79ccb20373bc59f36/sourcedir.tar.gz\n",
      "INFO:sagemaker.processing:runproc.sh uploaded to s3://mlschool/session4-pipeline/code/2c207c809cb0e0e9a1d77e5247f961f9/runproc.sh\n",
      "WARNING:sagemaker.workflow._utils:Popping out 'CertifyForMarketplace' from the pipeline definition since it will be overridden in pipeline execution time.\n",
      "INFO:sagemaker.image_uris:image_uri is not presented, retrieving image_uri based on instance_type, framework etc.\n"
     ]
    },
    {
     "name": "stdout",
     "output_type": "stream",
     "text": [
      "Using provided s3_resource\n",
      "Using provided s3_resource\n"
     ]
    },
    {
     "name": "stderr",
     "output_type": "stream",
     "text": [
      "INFO:sagemaker.processing:Uploaded None to s3://mlschool/session4-pipeline/code/998d594dff31f9c79ccb20373bc59f36/sourcedir.tar.gz\n",
      "INFO:sagemaker.processing:runproc.sh uploaded to s3://mlschool/session4-pipeline/code/2c207c809cb0e0e9a1d77e5247f961f9/runproc.sh\n"
     ]
    },
    {
     "data": {
      "text/plain": [
       "{'PipelineArn': 'arn:aws:sagemaker:us-east-1:325223348818:pipeline/session4-pipeline',\n",
       " 'ResponseMetadata': {'RequestId': '121827b2-333d-4bd6-a048-9eec85d5abb2',\n",
       "  'HTTPStatusCode': 200,\n",
       "  'HTTPHeaders': {'x-amzn-requestid': '121827b2-333d-4bd6-a048-9eec85d5abb2',\n",
       "   'content-type': 'application/x-amz-json-1.1',\n",
       "   'content-length': '85',\n",
       "   'date': 'Thu, 09 Nov 2023 20:32:32 GMT'},\n",
       "  'RetryAttempts': 0}}"
      ]
     },
     "execution_count": 418,
     "metadata": {},
     "output_type": "execute_result"
    }
   ],
   "source": [
    "# | code: true\n",
    "# | output: false\n",
    "\n",
    "session4_pipeline = Pipeline(\n",
    "    name=\"session4-pipeline\",\n",
    "    parameters=[dataset_location, accuracy_threshold],\n",
    "    steps=[\n",
    "        preprocessing_step,\n",
    "        tune_model_step if USE_TUNING_STEP else train_model_step,\n",
    "        evaluate_model_step,\n",
    "        condition_step,\n",
    "    ],\n",
    "    pipeline_definition_config=pipeline_definition_config,\n",
    "    sagemaker_session=config[\"session\"],\n",
    ")\n",
    "\n",
    "session4_pipeline.upsert(role_arn=role)"
   ]
  },
  {
   "cell_type": "markdown",
   "id": "20c71f91",
   "metadata": {},
   "source": [
    "Ahora podemos iniciar la el pipeline:"
   ]
  },
  {
   "cell_type": "markdown",
   "id": "34819536",
   "metadata": {},
   "source": [
    "#| hide\n",
    "\n",
    "<div class=\"alert\" style=\"background-color:#0066cc;\"><strong>Nota:</strong> \n",
    "    El <code>%%script</code> magic es una forma conveniente de evitar que el notebook ejecute una celda específica. Si desea ejecutar la celda, comente la línea que contiene el <code>%%script</code>  magic.\n",
    "</div>\n"
   ]
  },
  {
   "cell_type": "code",
   "execution_count": 419,
   "id": "20dfbd97",
   "metadata": {},
   "outputs": [],
   "source": [
    "%%script false --no-raise-error\n",
    "\n",
    "#| eval: false\n",
    "#| code: true\n",
    "#| output: false\n",
    "\n",
    "session4_pipeline.start()"
   ]
  },
  {
   "cell_type": "markdown",
   "id": "2c74cc70",
   "metadata": {},
   "source": [
    "### Paso 8 - Creación de la función Lambda\n",
    "\n",
    "Usaremos[Amazon EventBridge](https://aws.amazon.com/pm/eventbridge/) para activar una función Lambda que implementará el modelo cada vez que su estado cambie de \"PendingManualApproval\" a \"Approved.\" Comencemos escribiendo la función Lambda para tomar la información del modelo y crear un nuevo endpoint.\n",
    "\n",
    "Habilitaremos [Data Capture](https://docs.aws.amazon.com/sagemaker/latest/dg/model-monitor-data-capture.html) como parte de la configuración del endpoint.  Con Data Capture podemos registrar las entradas y salidas del endpoint para utilizarlas posteriormente en el monitoreo del modelo:\n",
    "\n",
    "-   `InitialSamplingPercentage` Representa el porcentaje de tráfico que queremos capturar.\n",
    "-   `DestinationS3Uri` Especifica la ubicación de S3 donde queremos almacenar los datos capturados.\n"
   ]
  },
  {
   "cell_type": "code",
   "execution_count": 420,
   "id": "998314a3",
   "metadata": {},
   "outputs": [
    {
     "name": "stdout",
     "output_type": "stream",
     "text": [
      "Overwriting code/lambda.py\n"
     ]
    }
   ],
   "source": [
    "%%writefile {CODE_FOLDER}/lambda.py\n",
    "\n",
    "import os\n",
    "import json\n",
    "import boto3\n",
    "import time\n",
    "\n",
    "sagemaker = boto3.client(\"sagemaker\")\n",
    "\n",
    "def lambda_handler(event, context):\n",
    "    model_package_arn = event[\"detail\"][\"ModelPackageArn\"]\n",
    "    approval_status = event[\"detail\"][\"ModelApprovalStatus\"]\n",
    "\n",
    "    print(f\"Model: {model_package_arn}\")\n",
    "    print(f\"Approval status: {approval_status}\")\n",
    "    \n",
    "   # Solo queremos implementar los modelos aprobados.\n",
    "    if approval_status != \"Approved\":\n",
    "        response = {\n",
    "            \"message\": \"Skipping deployment.\",\n",
    "            \"approval_status\": approval_status,\n",
    "        }\n",
    "\n",
    "        print(response)\n",
    "        return {\n",
    "            \"statusCode\": 200,\n",
    "            \"body\": json.dumps(response)\n",
    "        }    \n",
    "    \n",
    "    endpoint_name = os.environ[\"ENDPOINT\"]\n",
    "    data_capture_destination = os.environ[\"DATA_CAPTURE_DESTINATION\"]\n",
    "    role = os.environ[\"ROLE\"]\n",
    "    \n",
    "    timestamp = time.strftime(\"%m%d%H%M%S\", time.localtime())\n",
    "    model_name = f\"{endpoint_name}-model-{timestamp}\"\n",
    "    endpoint_config_name = f\"{endpoint_name}-config-{timestamp}\"\n",
    "\n",
    "    sagemaker.create_model(\n",
    "        ModelName=model_name, \n",
    "        ExecutionRoleArn=role, \n",
    "        Containers=[{\n",
    "            \"ModelPackageName\": model_package_arn\n",
    "        }] \n",
    "    )\n",
    "\n",
    "    sagemaker.create_endpoint_config(\n",
    "        EndpointConfigName=endpoint_config_name,\n",
    "        ProductionVariants=[{\n",
    "            \"ModelName\": model_name,\n",
    "            \"InstanceType\": \"ml.m5.xlarge\",\n",
    "            \"InitialVariantWeight\": 1,\n",
    "            \"InitialInstanceCount\": 1,\n",
    "            \"VariantName\": \"AllTraffic\",\n",
    "        }],\n",
    "\n",
    "        # Podemos habilitar Data Capture para registrar las entradas y salidas.\n",
    "        # del endpoint para usarlos más tarde para monitorear el modelo. \n",
    "        DataCaptureConfig={\n",
    "            \"EnableCapture\": True,\n",
    "            \"InitialSamplingPercentage\": 100,\n",
    "            \"DestinationS3Uri\": data_capture_destination,\n",
    "            \"CaptureOptions\": [\n",
    "                {\n",
    "                    \"CaptureMode\": \"Input\"\n",
    "                },\n",
    "                {\n",
    "                    \"CaptureMode\": \"Output\"\n",
    "                },\n",
    "            ],\n",
    "            \"CaptureContentTypeHeader\": {\n",
    "                \"CsvContentTypes\": [\n",
    "                    \"text/csv\",\n",
    "                    \"application/octect-stream\"\n",
    "                ],\n",
    "                \"JsonContentTypes\": [\n",
    "                    \"application/json\",\n",
    "                    \"application/octect-stream\"\n",
    "                ]\n",
    "            }\n",
    "        },\n",
    "    )\n",
    "    \n",
    "    response = sagemaker.list_endpoints(NameContains=endpoint_name, MaxResults=1)\n",
    "\n",
    "    if len(response[\"Endpoints\"]) == 0:\n",
    "        # Si el endpoint no existe, creémoslo.\n",
    "        sagemaker.create_endpoint(\n",
    "            EndpointName=endpoint_name, \n",
    "            EndpointConfigName=endpoint_config_name,\n",
    "        )\n",
    "    else:\n",
    "        # Si el endpoint ya existe, actualicémoslo con la nueva configuración\n",
    "        sagemaker.update_endpoint(\n",
    "            EndpointName=endpoint_name, \n",
    "            EndpointConfigName=endpoint_config_name,\n",
    "        )\n",
    "    \n",
    "    return {\n",
    "        \"statusCode\": 200,\n",
    "        \"body\": json.dumps(\"Endpoint deployed successfully\")\n",
    "    }"
   ]
  },
  {
   "cell_type": "markdown",
   "id": "5b582ace",
   "metadata": {},
   "source": [
    "Necesitamos asegurarnos de que nuestra función Lambda tenga permiso para interactuar con SageMaker, así que creemos un nueva rol y luego creemos la función lambda.\n"
   ]
  },
  {
   "cell_type": "code",
   "execution_count": 421,
   "id": "4ad4f1f2",
   "metadata": {
    "tags": []
   },
   "outputs": [
    {
     "name": "stdout",
     "output_type": "stream",
     "text": [
      "Role \"lambda-deployment-role\" already exists with ARN \"arn:aws:iam::325223348818:role/lambda-deployment-role\".\n"
     ]
    }
   ],
   "source": [
    "#| code: true\n",
    "#| output: false\n",
    "\n",
    "lambda_role_name = \"lambda-deployment-role\"\n",
    "lambda_role_arn = None\n",
    "\n",
    "try:\n",
    "    response = iam_client.create_role(\n",
    "        RoleName=lambda_role_name,\n",
    "        AssumeRolePolicyDocument=json.dumps(\n",
    "            {\n",
    "                \"Version\": \"2012-10-17\",\n",
    "                \"Statement\": [\n",
    "                    {\n",
    "                        \"Effect\": \"Allow\",\n",
    "                        \"Principal\": {\n",
    "                            \"Service\": [\"lambda.amazonaws.com\", \"events.amazonaws.com\"]\n",
    "                        },\n",
    "                        \"Action\": \"sts:AssumeRole\",\n",
    "                    }\n",
    "                ],\n",
    "            }\n",
    "        ),\n",
    "        Description=\"Lambda Endpoint Deployment\",\n",
    "    )\n",
    "\n",
    "    lambda_role_arn = response[\"Role\"][\"Arn\"]\n",
    "\n",
    "    iam_client.attach_role_policy(\n",
    "        PolicyArn=\"arn:aws:iam::aws:policy/service-role/AWSLambdaBasicExecutionRole\",\n",
    "        RoleName=lambda_role_name,\n",
    "    )\n",
    "\n",
    "    iam_client.attach_role_policy(\n",
    "        PolicyArn=\"arn:aws:iam::aws:policy/AmazonSageMakerFullAccess\",\n",
    "        RoleName=lambda_role_name,\n",
    "    )\n",
    "\n",
    "    print(f'Role \"{lambda_role_name}\" created with ARN \"{lambda_role_arn}\".')\n",
    "except iam_client.exceptions.EntityAlreadyExistsException:\n",
    "    response = iam_client.get_role(RoleName=lambda_role_name)\n",
    "    lambda_role_arn = response[\"Role\"][\"Arn\"]\n",
    "    print(f'Role \"{lambda_role_name}\" already exists with ARN \"{lambda_role_arn}\".')\n"
   ]
  },
  {
   "cell_type": "markdown",
   "id": "acef9d48",
   "metadata": {},
   "source": [
    "Ahora podemos crear la función Lambda:"
   ]
  },
  {
   "cell_type": "code",
   "execution_count": 422,
   "id": "ad8c8019",
   "metadata": {
    "tags": []
   },
   "outputs": [
    {
     "data": {
      "text/plain": [
       "{'ResponseMetadata': {'RequestId': '5397a0c9-be90-4dff-9e5a-18f52777a518',\n",
       "  'HTTPStatusCode': 200,\n",
       "  'HTTPHeaders': {'date': 'Thu, 09 Nov 2023 20:32:34 GMT',\n",
       "   'content-type': 'application/json',\n",
       "   'content-length': '1428',\n",
       "   'connection': 'keep-alive',\n",
       "   'x-amzn-requestid': '5397a0c9-be90-4dff-9e5a-18f52777a518'},\n",
       "  'RetryAttempts': 0},\n",
       " 'FunctionName': 'deploy_fn',\n",
       " 'FunctionArn': 'arn:aws:lambda:us-east-1:325223348818:function:deploy_fn',\n",
       " 'Runtime': 'python3.11',\n",
       " 'Role': 'arn:aws:iam::325223348818:role/lambda-deployment-role',\n",
       " 'Handler': 'lambda.lambda_handler',\n",
       " 'CodeSize': 3194,\n",
       " 'Description': '',\n",
       " 'Timeout': 600,\n",
       " 'MemorySize': 128,\n",
       " 'LastModified': '2023-11-09T20:32:34.000+0000',\n",
       " 'CodeSha256': 'i30HSb7bGh17GvfGk3KUwn0f8Pvwce9Lirq2cgQ9sMQ=',\n",
       " 'Version': '$LATEST',\n",
       " 'Environment': {'Variables': {'ROLE': 'arn:aws:iam::325223348818:role/service-role/AmazonSageMaker-ExecutionRole-20230312T160501',\n",
       "   'DATA_CAPTURE_DESTINATION': 's3://mlschool/penguins/monitoring/data-capture',\n",
       "   'ENDPOINT': 'penguins-endpoint'}},\n",
       " 'TracingConfig': {'Mode': 'PassThrough'},\n",
       " 'RevisionId': 'e90ced69-1326-4a25-aa18-13ebdb633e54',\n",
       " 'Layers': [],\n",
       " 'State': 'Active',\n",
       " 'LastUpdateStatus': 'InProgress',\n",
       " 'LastUpdateStatusReason': 'The function is being created.',\n",
       " 'LastUpdateStatusReasonCode': 'Creating',\n",
       " 'PackageType': 'Zip',\n",
       " 'Architectures': ['x86_64'],\n",
       " 'EphemeralStorage': {'Size': 512},\n",
       " 'SnapStart': {'ApplyOn': 'None', 'OptimizationStatus': 'Off'},\n",
       " 'RuntimeVersionConfig': {'RuntimeVersionArn': 'arn:aws:lambda:us-east-1::runtime:6cf63f1a78b5c5e19617d6b4b111370fdbda415ea91bdfdc5aacef9fee76b64a'}}"
      ]
     },
     "execution_count": 422,
     "metadata": {},
     "output_type": "execute_result"
    }
   ],
   "source": [
    "# | code: true\n",
    "# | output: false\n",
    "\n",
    "from sagemaker.lambda_helper import Lambda\n",
    "\n",
    "\n",
    "deploy_lambda_fn = Lambda(\n",
    "    function_name=\"deploy_fn\",\n",
    "    execution_role_arn=lambda_role_arn,\n",
    "    script=str(CODE_FOLDER / \"lambda.py\"),\n",
    "    handler=\"lambda.lambda_handler\",\n",
    "    timeout=600,\n",
    "    session=sagemaker_session,\n",
    "    runtime=\"python3.11\",\n",
    "    environment={\n",
    "        \"Variables\": {\n",
    "            \"ENDPOINT\": ENDPOINT,\n",
    "            \"DATA_CAPTURE_DESTINATION\": DATA_CAPTURE_DESTINATION,\n",
    "            \"ROLE\": role,\n",
    "        }\n",
    "    },\n",
    ")\n",
    "\n",
    "lambda_response = deploy_lambda_fn.upsert()\n",
    "lambda_response"
   ]
  },
  {
   "cell_type": "markdown",
   "id": "d4ad06ac",
   "metadata": {},
   "source": [
    "### Paso 9 - Configurar EventBridge\n",
    "\n",
    "Ahora podemos crear una regla de EventBridge que active el proceso de implementación cada vez que el estado de aprobación de un modelo pase a ser \"Approved\". Para hacer esto, definamos el patrón de evento que desencadenará el proceso de despliegue:"
   ]
  },
  {
   "cell_type": "code",
   "execution_count": 423,
   "id": "27ce7cc5",
   "metadata": {},
   "outputs": [],
   "source": [
    "event_pattern = f\"\"\"\n",
    "{{\n",
    "  \"source\": [\"aws.sagemaker\"],\n",
    "  \"detail-type\": [\"SageMaker Model Package State Change\"],\n",
    "  \"detail\": {{\n",
    "    \"ModelPackageGroupName\": [\"{PIPELINE_MODEL_PACKAGE_GROUP}\"],\n",
    "    \"ModelApprovalStatus\": [\"Approved\"]\n",
    "  }}\n",
    "}}\n",
    "\"\"\""
   ]
  },
  {
   "cell_type": "markdown",
   "id": "d1b23587",
   "metadata": {},
   "source": [
    "Ahora creemos la regla de EventBridge:"
   ]
  },
  {
   "cell_type": "code",
   "execution_count": 424,
   "id": "2a878179",
   "metadata": {},
   "outputs": [],
   "source": [
    "events_client = boto3.client(\"events\")\n",
    "rule_response = events_client.put_rule(\n",
    "    Name=\"PipelineModelApprovedRule\",\n",
    "    EventPattern=event_pattern,\n",
    "    State=\"ENABLED\",\n",
    "    RoleArn=role,\n",
    ")"
   ]
  },
  {
   "cell_type": "markdown",
   "id": "0b3ba782",
   "metadata": {},
   "source": [
    "Ahora necesitamos definir el objetivo de la regla. El objetivo se activará siempre que la regla coincida con un evento. En este caso, queremos activar la función Lambda que creamos antes:"
   ]
  },
  {
   "cell_type": "code",
   "execution_count": 425,
   "id": "dc714a97",
   "metadata": {
    "tags": []
   },
   "outputs": [],
   "source": [
    "response = events_client.put_targets(\n",
    "    Rule=\"PipelineModelApprovedRule\",\n",
    "    Targets=[\n",
    "        {\n",
    "            \"Id\": \"1\",\n",
    "            \"Arn\": lambda_response[\"FunctionArn\"],\n",
    "        }\n",
    "    ],\n",
    ")"
   ]
  },
  {
   "cell_type": "markdown",
   "id": "400585a1",
   "metadata": {},
   "source": [
    "Finalmente, debemos otorgar permiso a la función Lambda para que la regla EventBridge la active:"
   ]
  },
  {
   "cell_type": "code",
   "execution_count": 426,
   "id": "d74be86b",
   "metadata": {},
   "outputs": [
    {
     "name": "stdout",
     "output_type": "stream",
     "text": [
      "Function \"deploy_fn\" already has permissions.\n"
     ]
    }
   ],
   "source": [
    "lambda_client = boto3.client(\"lambda\")\n",
    "try:\n",
    "    response = lambda_client.add_permission(\n",
    "        Action=\"lambda:InvokeFunction\",\n",
    "        FunctionName=lambda_response[\"FunctionName\"],\n",
    "        Principal=\"events.amazonaws.com\",\n",
    "        SourceArn=rule_response[\"RuleArn\"],\n",
    "        StatementId=\"EventBridge\",\n",
    "    )\n",
    "except lambda_client.exceptions.ResourceConflictException as e:\n",
    "    print(f'Function \"{lambda_response[\"FunctionName\"]}\" already has permissions.')"
   ]
  },
  {
   "cell_type": "markdown",
   "id": "7dfe7356-53e8-4ac1-9a7f-3bd51bb739a5",
   "metadata": {},
   "source": [
    "### Paso 10 - Probar el endpoint\n",
    "\n",
    "Ahora probemos el endpoint que implementamos automáticamente con el pipeline. Usaremos la función para crear un predictor con un codificador y decodificador JSON."
   ]
  },
  {
   "cell_type": "code",
   "execution_count": 427,
   "id": "3cc966fb-b611-417f-a8b8-0c5d2f95252c",
   "metadata": {
    "tags": []
   },
   "outputs": [
    {
     "name": "stdout",
     "output_type": "stream",
     "text": [
      "Payload:\n",
      "Torgersen,39.1,18.7,181.0,3750.0,MALE\n",
      "Torgersen,39.5,17.4,186.0,3800.0,FEMALE\n",
      "Torgersen,40.3,18.0,195.0,3250.0,FEMALE\n",
      "\n",
      "An error occurred (ValidationError) when calling the InvokeEndpoint operation: Endpoint penguins-endpoint of account 325223348818 not found.\n"
     ]
    }
   ],
   "source": [
    "from sagemaker.serializers import CSVSerializer\n",
    "\n",
    "predictor = Predictor(\n",
    "    endpoint_name=ENDPOINT, \n",
    "    serializer=CSVSerializer(),\n",
    "    sagemaker_session=sagemaker_session\n",
    ")\n",
    "\n",
    "data = pd.read_csv(DATA_FILEPATH)\n",
    "data = data.drop(\"species\", axis=1)\n",
    "\n",
    "payload = data.iloc[:3].to_csv(header=False, index=False)\n",
    "print(f\"Payload:\\n{payload}\")\n",
    "\n",
    "try:\n",
    "    response = predictor.predict(payload, initial_args={\"ContentType\": \"text/csv\"})\n",
    "    response = json.loads(response.decode(\"utf-8\"))\n",
    "    print(json.dumps(response, indent=2))\n",
    "except Exception as e:\n",
    "    print(e)"
   ]
  },
  {
   "cell_type": "markdown",
   "id": "83fd85c2",
   "metadata": {},
   "source": [
    "Ahora probemos el endpoint enviando un payload JSON:"
   ]
  },
  {
   "cell_type": "code",
   "execution_count": 428,
   "id": "ce3d33f0",
   "metadata": {},
   "outputs": [
    {
     "name": "stdout",
     "output_type": "stream",
     "text": [
      "An error occurred (ValidationError) when calling the InvokeEndpoint operation: Endpoint penguins-endpoint of account 325223348818 not found.\n"
     ]
    }
   ],
   "source": [
    "from sagemaker.serializers import JSONSerializer\n",
    "\n",
    "sample = {\n",
    "    \"island\": \"Biscoe\",\n",
    "    \"culmen_length_mm\": 48.6,\n",
    "    \"culmen_depth_mm\": 16.0,\n",
    "    \"flipper_length_mm\": 230.0,\n",
    "    \"body_mass_g\": 5800.0,\n",
    "    \"sex\": \"MALE\"\n",
    "}\n",
    "\n",
    "predictor = Predictor(\n",
    "    endpoint_name=ENDPOINT, \n",
    "    serializer=JSONSerializer(),\n",
    "    sagemaker_session=sagemaker_session\n",
    ")\n",
    "\n",
    "try:\n",
    "    response = predictor.predict(sample)\n",
    "    print(json.loads(response.decode(\"utf-8\")))\n",
    "except Exception as e:\n",
    "    print(e)"
   ]
  },
  {
   "cell_type": "markdown",
   "id": "697dce40",
   "metadata": {},
   "source": [
    "Y ahora enviemos el mismo payload pero devolvamos la predicción en formato CSV:"
   ]
  },
  {
   "cell_type": "code",
   "execution_count": 429,
   "id": "240aaff2",
   "metadata": {},
   "outputs": [
    {
     "name": "stdout",
     "output_type": "stream",
     "text": [
      "An error occurred (ValidationError) when calling the InvokeEndpoint operation: Endpoint penguins-endpoint of account 325223348818 not found.\n"
     ]
    }
   ],
   "source": [
    "try:\n",
    "    response = predictor.predict(sample, initial_args={\"Accept\": \"text/csv\"})\n",
    "    print(response.decode(\"utf-8\"))\n",
    "except Exception as e:\n",
    "    print(e)"
   ]
  },
  {
   "cell_type": "markdown",
   "id": "67e883b0",
   "metadata": {},
   "source": [
    "Eliminemos el endpoint:"
   ]
  },
  {
   "cell_type": "markdown",
   "id": "6cffc2b5",
   "metadata": {},
   "source": [
    "#| hide\n",
    "\n",
    "<div class=\"alert\" style=\"background-color:#0066cc;\"><strong>Nota:</strong> \n",
    "    El <code>%%script</code> magic es una forma conveniente de evitar que el notebook ejecute una celda específica. Si desea ejecutar la celda, comente la línea que contiene el <code>%%script</code>  magic.\n",
    "</div>\n"
   ]
  },
  {
   "cell_type": "code",
   "execution_count": 430,
   "id": "8c3e851a-2416-4a0b-b8a1-c483cde3d776",
   "metadata": {
    "tags": []
   },
   "outputs": [],
   "source": [
    "%%script false --no-raise-error\n",
    "#| eval: false\n",
    "#| code: true\n",
    "#| output: false\n",
    "\n",
    "predictor.delete_endpoint()"
   ]
  },
  {
   "cell_type": "markdown",
   "id": "d2b2e88b-0740-4214-a92f-ceba981c7e9c",
   "metadata": {},
   "source": [
    "### Assignments\n",
    "\n",
    "* <span style=\"padding:4px; background-color: #f2a68a; color: #000;\"><strong>Assignment 4.1</strong></span> Cada Endpoint tiene una URL de invocación que puedes usar para generar predicciones con el modelo desde fuera de AWS. Como parte de esta tarea, escribe un script simple en Python que se ejecute en tu computadora local y ejecute algunas muestras a través del Endpoint. Necesitarás tu clave de acceso y secreto de AWS para conectarte al Endpoint.\n",
    "\n",
    "* <span style=\"padding:4px; background-color: #f2a68a; color: #000;\"><strong>Assignment 4.2</strong></span> Podemos usar variantes de modelos para realizar pruebas A/B entre un nuevo modelo y un modelo antiguo. Crea una función que, dada la ARN de dos modelos en el Model Registry, los despliegue en un Endpoint como variantes separadas. Cada variante debe recibir el 50% del tráfico. Escribe otra función que invoque el endpoint por defecto, pero permita al llamante invocar una variante específica si lo desean.\n",
    "\n",
    "* <span style=\"padding:4px; background-color: #f2a68a; color: #000;\"><strong>Assignment 4.3</strong></span> Podemos usar shadow deployments de modelos de SageMaker para crear variantes en shadowy validar una nueva versión del modelo antes de promoverlo a producción. Escribe una función que, dada la ARN de un modelo en el Registro de Modelos, actualice un Endpoint y despliegue el modelo como una variante en shadow. Consulta [Shadow variants](https://docs.aws.amazon.com/sagemaker/latest/dg/model-shadow-deployment.html) para obtener más información sobre este tema. Envía tráfico al Endpoint y compara los resultados del modelo principal con su variante en shadow.\n",
    "\n",
    "* <span style=\"padding:4px; background-color: #f2a68a; color: #000;\"><strong>Assignment 4.4</strong></span> SageMaker admite el escalado automático de tus modelos. El escalado automático ajusta dinámicamente el número de instancias asignadas a un modelo en respuesta a cambios en la carga de trabajo. Para esta tarea, define una política de escalado de seguimiento de objetivos para una variante de tu Endpoint y utiliza la métrica `SageMakerVariantInvocationsPerInstance`. `SageMakerVariantInvocationsPerInstance` es el número promedio de veces por minuto que se invoca la variante. Consulta [Automatically Scale Amazon SageMaker Models](https://docs.aws.amazon.com/sagemaker/latest/dg/endpoint-auto-scaling.html) para obtener más información sobre el escalado \n",
    "\n",
    "* <span style=\"padding:4px; background-color: #f2a68a; color: #000;\"><strong>Assignment 4.5</strong></span> Modifica el Pipeline de SageMaker agregando un Paso Lambda que despliegue el modelo directamente como parte del pipeline. Ya no necesitarás configurar Event Bridge, ya que tu pipeline desplegará automáticamente el modelo.\n"
   ]
  },
  {
   "cell_type": "markdown",
   "id": "e544ae36-00b3-4bde-b133-c3a59bb7f1d8",
   "metadata": {},
   "source": [
    "## Clase 5 - Cambios de distribución de datos y monitoreo de modelos\n",
    "\n",
    "En esta clase configuraremos un proceso de monitoreo para analizar la calidad de los datos que recibe nuestro endpoint y las predicciones del endpoint. Para ello, necesitamos verificar los datos recibidos por el punto final, generar etiquetas de verdad sobre el terreno y compararlas con un rendimiento de referencia.\n",
    "\n",
    "<a href=\"images/monitoring.png\" target=\"_blank\"> <img src=\"images/monitoring.png\" alt=\"Monitoring\" style=\"max-width: 750px;\" /></a>\n",
    "\n",
    "Para habilitar esta funcionalidad, necesitamos seguir un par de pasos:\n",
    "\n",
    "1. Crear baselines que podamos utilizar para comparar con el tráfico en tiempo real.\n",
    "2. Configurar un horario para evaluar y comparar de manera continua con respecto a los baselines.\n",
    "\n",
    "Puedes consultar [Amazon SageMaker Model Monitor](https://sagemaker.readthedocs.io/en/stable/amazon_sagemaker_model_monitoring.html) para obtener una breve explicación sobre cómo utilizar la funcionalidad de monitoreo de modelos de SageMaker.  [Monitor models for data and model quality, bias, and explainability](https://docs.aws.amazon.com/sagemaker/latest/dg/model-monitor.html) es una guía mucho más extensa para el monitoreo en Amazon SageMaker.\n"
   ]
  },
  {
   "cell_type": "markdown",
   "id": "0ef0ad20",
   "metadata": {},
   "source": [
    "Comencemos definiendo tres variables que usaremos a lo largo de la clase:"
   ]
  },
  {
   "cell_type": "code",
   "execution_count": 431,
   "id": "2bb846d0",
   "metadata": {},
   "outputs": [],
   "source": [
    "GROUND_TRUTH_LOCATION = f\"{S3_LOCATION}/monitoring/groundtruth\"\n",
    "DATA_QUALITY_LOCATION = f\"{S3_LOCATION}/monitoring/data-quality\"\n",
    "MODEL_QUALITY_LOCATION = f\"{S3_LOCATION}/monitoring/model-quality\""
   ]
  },
  {
   "cell_type": "markdown",
   "id": "24c26ac4-5d30-41e9-8952-e4deb39de819",
   "metadata": {},
   "source": [
    "### Paso 1 - Generar una línea base de calidad de datos\n",
    "\n",
    "Comencemos configurando un [Quality Check Step](https://docs.aws.amazon.com/sagemaker/latest/dg/build-and-manage-steps.html#step-type-quality-check) para calcular las estadísticas generales de los datos que utilizamos para construir nuestro modelo.\n",
    "\n",
    "Podemos configurar la instancia que ejecutará el control de calidad usando [CheckJobConfig](https://sagemaker.readthedocs.io/en/v2.73.0/workflows/pipelines/sagemaker.workflow.pipelines.html#sagemaker.workflow.check_job_config.CheckJobConfig) y podemos usar la clase `DataQualityCheckConfig` para configurar el trabajo.\n"
   ]
  },
  {
   "cell_type": "code",
   "execution_count": 432,
   "id": "0b80bcab-d2c5-437c-a1c8-8eea208c0e29",
   "metadata": {
    "tags": []
   },
   "outputs": [
    {
     "name": "stderr",
     "output_type": "stream",
     "text": [
      "INFO:sagemaker.image_uris:Defaulting to the only supported framework/algorithm version: .\n",
      "INFO:sagemaker.image_uris:Ignoring unnecessary instance type: None.\n"
     ]
    }
   ],
   "source": [
    "# | code: true\n",
    "# | output: false\n",
    "\n",
    "from sagemaker.workflow.quality_check_step import (\n",
    "    QualityCheckStep,\n",
    "    DataQualityCheckConfig,\n",
    ")\n",
    "from sagemaker.workflow.check_job_config import CheckJobConfig\n",
    "from sagemaker.model_monitor.dataset_format import DatasetFormat\n",
    "\n",
    "data_quality_baseline_step = QualityCheckStep(\n",
    "    name=\"generate-data-quality-baseline\",\n",
    "    check_job_config=CheckJobConfig(\n",
    "        instance_type=\"ml.c5.xlarge\",\n",
    "        instance_count=1,\n",
    "        volume_size_in_gb=20,\n",
    "        sagemaker_session=pipeline_session,\n",
    "        role=role,\n",
    "    ),\n",
    "    quality_check_config=DataQualityCheckConfig(\n",
    "        baseline_dataset=preprocessing_step.properties.ProcessingOutputConfig.Outputs[\n",
    "            \"train-baseline\"\n",
    "        ].S3Output.S3Uri,\n",
    "        dataset_format=DatasetFormat.csv(header=True, output_columns_position=\"START\"),\n",
    "        output_s3_uri=DATA_QUALITY_LOCATION,\n",
    "    ),\n",
    "    model_package_group_name=PIPELINE_MODEL_PACKAGE_GROUP,\n",
    "    skip_check=True,\n",
    "    register_new_baseline=True,\n",
    "    cache_config=cache_config,\n",
    ")"
   ]
  },
  {
   "cell_type": "markdown",
   "id": "81430dfd-2524-43e4-bfe9-c6545316005d",
   "metadata": {
    "tags": []
   },
   "source": [
    "### Paso 2 - Generar predicciones de prueba\n",
    "\n",
    "Para crear una línea base para comparar el rendimiento del modelo, debemos crear predicciones para el conjunto de pruebas y comparar las métricas del modelo con el rendimiento del modelo en los datos de producción. Podemos hacer esto ejecutando un [Batch Transform Job](https://docs.aws.amazon.com/sagemaker/latest/dg/batch-transform.html) para predecir cada muestra del conjunto de prueba. Podemos usar un [Transform Step](https://docs.aws.amazon.com/sagemaker/latest/dg/build-and-manage-steps.html#step-type-transform) como parte del proceso para ejecutar este trabajo. Este trabajo de transformación por lotes ejecutará cada muestra del conjunto de datos de entrenamiento a través del modelo para que podamos calcular las métricas de referencia.\n",
    "\n",
    "El paso de transformación requiere un modelo para generar predicciones, por lo que necesitamos un paso de modelo que cree un modelo:\n"
   ]
  },
  {
   "cell_type": "code",
   "execution_count": 433,
   "id": "8194b462",
   "metadata": {},
   "outputs": [
    {
     "name": "stderr",
     "output_type": "stream",
     "text": [
      "/Users/svpino/dev/ml.school/.venv/lib/python3.9/site-packages/sagemaker/workflow/pipeline_context.py:297: UserWarning: Running within a PipelineSession, there will be No Wait, No Logs, and No Job being started.\n",
      "  warnings.warn(\n"
     ]
    }
   ],
   "source": [
    "# | code: true\n",
    "# | output: false\n",
    "\n",
    "from sagemaker.workflow.model_step import ModelStep\n",
    "\n",
    "create_model_step = ModelStep(\n",
    "    name=\"create-model\",\n",
    "    step_args=pipeline_model.create(instance_type=config[\"instance_type\"]),\n",
    ")"
   ]
  },
  {
   "cell_type": "markdown",
   "id": "eddb6ac7",
   "metadata": {},
   "source": [
    "Configuremos el Batch Transform Job usando una instancia de la clase [Transformer](https://sagemaker.readthedocs.io/en/stable/api/inference/transformer.html):\n"
   ]
  },
  {
   "cell_type": "code",
   "execution_count": 434,
   "id": "bf6aa4f0",
   "metadata": {},
   "outputs": [],
   "source": [
    "from sagemaker.transformer import Transformer\n",
    "\n",
    "transformer = Transformer(\n",
    "    model_name=create_model_step.properties.ModelName,\n",
    "    instance_type=config[\"instance_type\"],\n",
    "    instance_count=1,\n",
    "    strategy=\"MultiRecord\",\n",
    "    accept=\"text/csv\",\n",
    "    assemble_with=\"Line\",\n",
    "    output_path=f\"{S3_LOCATION}/transform\",\n",
    "    sagemaker_session=pipeline_session,\n",
    ")"
   ]
  },
  {
   "cell_type": "markdown",
   "id": "a7f01fb9",
   "metadata": {},
   "source": [
    "Ahora podemos configurar el [Transform Step](https://docs.aws.amazon.com/sagemaker/latest/dg/build-and-manage-steps.html#step-type-transform) usando el transformador que configuramos antes.\n",
    "\n",
    "Observe lo siguiente:\n",
    "\n",
    "- Generaremos predicciones para el resultado de referencia que generamos cuando dividimos y transformamos los datos. Esta línea base son los mismos datos que usamos para probar el modelo, pero los guardamos en su formato original antes de transformarlo.\n",
    "- El resultado de este Batch Transform Job tendrá dos campos. La primera será la etiqueta de verdad fundamental y la segunda será la predicción del modelo.\n"
   ]
  },
  {
   "cell_type": "code",
   "execution_count": 435,
   "id": "1987a788-de7a-4f60-ac8d-819d9ffcdf8e",
   "metadata": {
    "tags": []
   },
   "outputs": [],
   "source": [
    "# | code: true\n",
    "# | output: false\n",
    "\n",
    "from sagemaker.workflow.steps import TransformStep\n",
    "\n",
    "generate_test_predictions_step = TransformStep(\n",
    "    name=\"generate-test-predictions\",\n",
    "    step_args=transformer.transform(\n",
    "        # Durante los pasos de monitoreo de calidad y datos, necesitaremos líneas de base para calcular restricciones y estadísticas.\n",
    "        #  Esta función guarda los datos no transformados en el disco para que podamos usarlos como líneas de base más adelante.\n",
    "        data=preprocessing_step.properties.ProcessingOutputConfig.Outputs[\n",
    "            \"test-baseline\"\n",
    "        ].S3Output.S3Uri,\n",
    "\n",
    "        join_source=\"Input\",\n",
    "        split_type=\"Line\",\n",
    "        content_type=\"text/csv\",\n",
    "        \n",
    "        # Queremos obtener el primer y el penúltimo campo de\n",
    "        # el conjunto combinado. El primer campo corresponde a la verdad de\n",
    "        # terreno, y el penúltimo campo corresponde a la predicción.\n",
    "        #\n",
    "        # Aquí tienes un ejemplo de los datos que generará el Transform Job\n",
    "        # después de combinar la entrada con la salida del modelo:\n",
    "        #\n",
    "        # Gentoo,39.1,18.7,181.0,3750.0,MALE,Gentoo,0.52\n",
    "        #\n",
    "        # Observa cómo el primer campo es la verdad de terreno que proviene de la\n",
    "        # conjunto de pruebas. El penúltimo campo es la predicción que proviene del\n",
    "        # modelo.\n",
    "\n",
    "        output_filter=\"$[0,-2]\",\n",
    "    ),\n",
    "    cache_config=cache_config,\n",
    ")\n"
   ]
  },
  {
   "cell_type": "markdown",
   "id": "2fafc7c4-6fef-4832-8b99-8c45d078fdd2",
   "metadata": {},
   "source": [
    "### Paso 3 - Generación de un Referencial de Calidad del Modelo\n",
    "\n",
    "Ahora configuremos el [Quality Check Step](https://docs.aws.amazon.com/sagemaker/latest/dg/build-and-manage-steps.html#step-type-quality-check) y proporciónale los datos que generamos en el Transform Step. Este paso calculará automáticamente las métricas de rendimiento del modelo en el conjunto de pruebas:\n"
   ]
  },
  {
   "cell_type": "code",
   "execution_count": 436,
   "id": "9aa3a284-8763-4000-a263-70314b530652",
   "metadata": {
    "tags": []
   },
   "outputs": [
    {
     "name": "stderr",
     "output_type": "stream",
     "text": [
      "INFO:sagemaker.image_uris:Defaulting to the only supported framework/algorithm version: .\n",
      "INFO:sagemaker.image_uris:Ignoring unnecessary instance type: None.\n"
     ]
    }
   ],
   "source": [
    "# | code: true\n",
    "# | output: false\n",
    "\n",
    "from sagemaker.workflow.quality_check_step import ModelQualityCheckConfig\n",
    "\n",
    "model_quality_baseline_step = QualityCheckStep(\n",
    "    name=\"generate-model-quality-baseline\",\n",
    "    check_job_config=CheckJobConfig(\n",
    "        instance_type=\"ml.c5.xlarge\",\n",
    "        instance_count=1,\n",
    "        volume_size_in_gb=20,\n",
    "        sagemaker_session=pipeline_session,\n",
    "        role=role,\n",
    "    ),\n",
    "    quality_check_config=ModelQualityCheckConfig(\n",
    "        # Vamos a utilizar la salida del Paso de Transformación para generar\n",
    "        # la referencia de calidad del modelo.\n",
    "        baseline_dataset=generate_test_predictions_step.properties.TransformOutput.S3OutputPath,\n",
    "        dataset_format=DatasetFormat.csv(header=False),\n",
    "\n",
    "        # Necesitamos especificar el tipo de problema y los campos donde se encuentran\n",
    "        # la predicción y la verdad de terreno para que el proceso sepa cómo interpretar los resultados.\n",
    "        problem_type=\"MulticlassClassification\",\n",
    "        \n",
    "        # Dado que los datos no tienen encabezados, SageMaker creará encabezados automáticamente.\n",
    "        # _c0 corresponde a la primera columna y _c1 corresponde a la segunda columna.\n",
    "        ground_truth_attribute=\"_c0\",\n",
    "        inference_attribute=\"_c1\",\n",
    "        output_s3_uri=MODEL_QUALITY_LOCATION,\n",
    "    ),\n",
    "    model_package_group_name=PIPELINE_MODEL_PACKAGE_GROUP,\n",
    "    skip_check=True,\n",
    "    register_new_baseline=True,\n",
    "    cache_config=cache_config,\n",
    ")"
   ]
  },
  {
   "cell_type": "markdown",
   "id": "693535ba-fca7-4e89-a4cb-b4f333fa2d03",
   "metadata": {},
   "source": [
    "Paso 4 - Configuración de Métricas del Modelo\n",
    "\n",
    "Podemos configurar un nuevo conjunto de [ModelMetrics](https://sagemaker.readthedocs.io/en/stable/api/inference/model_monitor.html#sagemaker.model_metrics.ModelMetrics) utilizando los resultados de Data and Model Quality Steps del Modelo. Consulta [Baseline and model version lifecycle and evolution with SageMaker Pipelines](https://docs.aws.amazon.com/sagemaker/latest/dg/pipelines-quality-clarify-baseline-lifecycle.html#pipelines-quality-clarify-baseline-evolution) para obtener una explicación de cómo SageMaker utiliza los `DriftCheckBaselines`.\n"
   ]
  },
  {
   "cell_type": "code",
   "execution_count": 437,
   "id": "a773f134-ac2f-4dba-976e-9b7f0b384b6e",
   "metadata": {
    "tags": []
   },
   "outputs": [],
   "source": [
    "from sagemaker.drift_check_baselines import DriftCheckBaselines\n",
    "\n",
    "model_metrics = ModelMetrics(\n",
    "    model_data_statistics=MetricsSource(\n",
    "        s3_uri=data_quality_baseline_step.properties.CalculatedBaselineStatistics,\n",
    "        content_type=\"application/json\",\n",
    "    ),\n",
    "    model_data_constraints=MetricsSource(\n",
    "        s3_uri=data_quality_baseline_step.properties.CalculatedBaselineConstraints,\n",
    "        content_type=\"application/json\",\n",
    "    ),\n",
    "    model_statistics=MetricsSource(\n",
    "        s3_uri=model_quality_baseline_step.properties.CalculatedBaselineStatistics,\n",
    "        content_type=\"application/json\",\n",
    "    ),\n",
    "    model_constraints=MetricsSource(\n",
    "        s3_uri=model_quality_baseline_step.properties.CalculatedBaselineConstraints,\n",
    "        content_type=\"application/json\",\n",
    "    ),\n",
    ")\n",
    "\n",
    "drift_check_baselines = DriftCheckBaselines(\n",
    "    model_data_statistics=MetricsSource(\n",
    "        s3_uri=data_quality_baseline_step.properties.BaselineUsedForDriftCheckStatistics,\n",
    "        content_type=\"application/json\",\n",
    "    ),\n",
    "    model_data_constraints=MetricsSource(\n",
    "        s3_uri=data_quality_baseline_step.properties.BaselineUsedForDriftCheckConstraints,\n",
    "        content_type=\"application/json\",\n",
    "    ),\n",
    "    model_statistics=MetricsSource(\n",
    "        s3_uri=model_quality_baseline_step.properties.BaselineUsedForDriftCheckStatistics,\n",
    "        content_type=\"application/json\",\n",
    "    ),\n",
    "    model_constraints=MetricsSource(\n",
    "        s3_uri=model_quality_baseline_step.properties.BaselineUsedForDriftCheckConstraints,\n",
    "        content_type=\"application/json\",\n",
    "    ),\n",
    ")"
   ]
  },
  {
   "cell_type": "markdown",
   "id": "ba3487a0-05ad-4f3a-8f50-9884dc2aef64",
   "metadata": {},
   "source": [
    "### Paso 5 - Modificación del Paso de Registro\n",
    "\n",
    "Dado que deseamos registrar el modelo utilizando las nuevas métricas, debemos modificar el Paso de Registro para utilizar las nuevas métricas:\n"
   ]
  },
  {
   "cell_type": "code",
   "execution_count": 438,
   "id": "7056a009-91c0-4955-90dd-b90ef8cab149",
   "metadata": {
    "tags": []
   },
   "outputs": [],
   "source": [
    "# | code: true\n",
    "# | output: false\n",
    "\n",
    "register_model_step = ModelStep(\n",
    "    name=\"register\",\n",
    "    display_name=\"register-model\",\n",
    "    step_args=pipeline_model.register(\n",
    "        model_package_group_name=PIPELINE_MODEL_PACKAGE_GROUP,\n",
    "        model_metrics=model_metrics,\n",
    "        drift_check_baselines=drift_check_baselines,\n",
    "        approval_status=\"PendingManualApproval\",\n",
    "        content_types=[\"text/csv\", \"application/json\"],\n",
    "        response_types=[\"text/csv\", \"application/json\"],\n",
    "        inference_instances=[config[\"instance_type\"]],\n",
    "        transform_instances=[config[\"instance_type\"]],\n",
    "        domain=\"MACHINE_LEARNING\",\n",
    "        task=\"CLASSIFICATION\",\n",
    "        framework=\"TENSORFLOW\",\n",
    "        framework_version=config[\"framework_version\"],\n",
    "    ),\n",
    ")"
   ]
  },
  {
   "cell_type": "markdown",
   "id": "0d00b5e6-9858-4acc-bbfe-a2ce24ec20e0",
   "metadata": {},
   "source": [
    "### Paso 6 - Modificación del Paso de Condición\n",
    "\n",
    "Dado que hemos modificado el paso de registro y agregado algunos pasos adicionales, debemos modificar el Condition Step. Ahora, queremos generar las predicciones de prueba y calcular el referencial de calidad del modelo si la condición es exitosa:"
   ]
  },
  {
   "cell_type": "code",
   "execution_count": 439,
   "id": "bacaa9c6-22b0-48df-b138-95b6422fe834",
   "metadata": {
    "tags": []
   },
   "outputs": [],
   "source": [
    "condition_step = ConditionStep(\n",
    "    name=\"check-model-accuracy\",\n",
    "    conditions=[condition],\n",
    "    if_steps=[\n",
    "        create_model_step,\n",
    "        generate_test_predictions_step,\n",
    "        model_quality_baseline_step,\n",
    "        register_model_step,\n",
    "    ]\n",
    "    if not LOCAL_MODE\n",
    "    else [],\n",
    "    else_steps=[fail_step],\n",
    ")"
   ]
  },
  {
   "cell_type": "markdown",
   "id": "c95a7905-2550-4979-b885-f2daabb5d45e",
   "metadata": {},
   "source": [
    "### Paso 7 - Creación del Pipeline\n",
    "\n",
    "Ahora podemos definir el Pipeline de SageMaker y enviar su definición al servicio de SageMaker Pipelines para crear el pipeline si no existe o actualizarlo si ya existe.\n"
   ]
  },
  {
   "cell_type": "code",
   "execution_count": 440,
   "id": "4da5e453-acd8-47a0-a39f-264d05dd93d0",
   "metadata": {
    "tags": []
   },
   "outputs": [
    {
     "name": "stderr",
     "output_type": "stream",
     "text": [
      "INFO:sagemaker.image_uris:image_uri is not presented, retrieving image_uri based on instance_type, framework etc.\n"
     ]
    },
    {
     "name": "stdout",
     "output_type": "stream",
     "text": [
      "Using provided s3_resource\n",
      "Using provided s3_resource\n"
     ]
    },
    {
     "name": "stderr",
     "output_type": "stream",
     "text": [
      "INFO:sagemaker.processing:Uploaded None to s3://mlschool/session5-pipeline/code/998d594dff31f9c79ccb20373bc59f36/sourcedir.tar.gz\n",
      "INFO:sagemaker.processing:runproc.sh uploaded to s3://mlschool/session5-pipeline/code/2c207c809cb0e0e9a1d77e5247f961f9/runproc.sh\n",
      "WARNING:sagemaker.workflow._utils:Popping out 'CertifyForMarketplace' from the pipeline definition since it will be overridden in pipeline execution time.\n",
      "INFO:sagemaker.image_uris:image_uri is not presented, retrieving image_uri based on instance_type, framework etc.\n"
     ]
    },
    {
     "name": "stdout",
     "output_type": "stream",
     "text": [
      "Using provided s3_resource\n"
     ]
    },
    {
     "name": "stderr",
     "output_type": "stream",
     "text": [
      "INFO:sagemaker.processing:Uploaded None to s3://mlschool/session5-pipeline/code/998d594dff31f9c79ccb20373bc59f36/sourcedir.tar.gz\n"
     ]
    },
    {
     "name": "stdout",
     "output_type": "stream",
     "text": [
      "Using provided s3_resource\n"
     ]
    },
    {
     "name": "stderr",
     "output_type": "stream",
     "text": [
      "INFO:sagemaker.processing:runproc.sh uploaded to s3://mlschool/session5-pipeline/code/2c207c809cb0e0e9a1d77e5247f961f9/runproc.sh\n"
     ]
    },
    {
     "data": {
      "text/plain": [
       "{'PipelineArn': 'arn:aws:sagemaker:us-east-1:325223348818:pipeline/session5-pipeline',\n",
       " 'ResponseMetadata': {'RequestId': 'aa6fa2a3-38aa-45cd-97ea-5aaebee48f1a',\n",
       "  'HTTPStatusCode': 200,\n",
       "  'HTTPHeaders': {'x-amzn-requestid': 'aa6fa2a3-38aa-45cd-97ea-5aaebee48f1a',\n",
       "   'content-type': 'application/x-amz-json-1.1',\n",
       "   'content-length': '85',\n",
       "   'date': 'Thu, 09 Nov 2023 20:32:39 GMT'},\n",
       "  'RetryAttempts': 0}}"
      ]
     },
     "execution_count": 440,
     "metadata": {},
     "output_type": "execute_result"
    }
   ],
   "source": [
    "# | code: true\n",
    "# | output: false\n",
    "\n",
    "session5_pipeline = Pipeline(\n",
    "    name=\"session5-pipeline\",\n",
    "    parameters=[dataset_location, accuracy_threshold],\n",
    "    steps=[\n",
    "        preprocessing_step,\n",
    "        tune_model_step if USE_TUNING_STEP else train_model_step,\n",
    "        evaluate_model_step,\n",
    "        data_quality_baseline_step,\n",
    "        condition_step,\n",
    "    ],\n",
    "    pipeline_definition_config=pipeline_definition_config,\n",
    "    sagemaker_session=config[\"session\"],\n",
    ")\n",
    "\n",
    "session5_pipeline.upsert(role_arn=role)"
   ]
  },
  {
   "cell_type": "markdown",
   "id": "9e6b1b39",
   "metadata": {},
   "source": [
    "Ahora podemos iniciar el pipeline."
   ]
  },
  {
   "cell_type": "markdown",
   "id": "9d6e5995",
   "metadata": {},
   "source": [
    "#| hide\n",
    "\n",
    "<div class=\"alert\" style=\"background-color:#0066cc;\"><strong>Nota:</strong> \n",
    "    El <code>%%script</code> magic es una forma conveniente de evitar que el notebook ejecute una celda específica. Si desea ejecutar la celda, comente la línea que contiene el <code>%%script</code>  magic.\n",
    "</div>\n"
   ]
  },
  {
   "cell_type": "code",
   "execution_count": 441,
   "id": "10ba9909",
   "metadata": {},
   "outputs": [
    {
     "data": {
      "text/plain": [
       "_PipelineExecution(arn='arn:aws:sagemaker:us-east-1:325223348818:pipeline/session5-pipeline/execution/334yt2m3hn22', sagemaker_session=<sagemaker.workflow.pipeline_context.PipelineSession object at 0x33297c8b0>)"
      ]
     },
     "execution_count": 441,
     "metadata": {},
     "output_type": "execute_result"
    }
   ],
   "source": [
    "%%script false --no-raise-error\n",
    "\n",
    "#| eval: false\n",
    "#| code: true\n",
    "#| output: false\n",
    "\n",
    "session5_pipeline.start()"
   ]
  },
  {
   "cell_type": "markdown",
   "id": "6fd182a9",
   "metadata": {},
   "source": [
    "### Verificación de Restricciones y Estadísticas\n",
    "\n",
    "Nuestro pipeline generó estadísticas y restricciones de referencia de datos. Podemos ver cómo se ven estos valores descargándolos desde S3. Debes esperar a que el pipeline termine de ejecutarse antes de que estos archivos estén disponibles.\n",
    "\n",
    "Aquí están las estadísticas de calidad de los datos:"
   ]
  },
  {
   "cell_type": "code",
   "execution_count": 347,
   "id": "42daa82b",
   "metadata": {},
   "outputs": [
    {
     "name": "stdout",
     "output_type": "stream",
     "text": [
      "{\n",
      "  \"name\": \"island\",\n",
      "  \"inferred_type\": \"String\",\n",
      "  \"string_statistics\": {\n",
      "    \"common\": {\n",
      "      \"num_present\": 235,\n",
      "      \"num_missing\": 0\n",
      "    },\n",
      "    \"distinct_count\": 3.0,\n",
      "    \"distribution\": {\n",
      "      \"categorical\": {\n",
      "        \"buckets\": [\n",
      "          {\n",
      "            \"value\": \"Dream\",\n",
      "            \"count\": 86\n",
      "          },\n",
      "          {\n",
      "            \"value\": \"Torgersen\",\n",
      "            \"count\": 34\n",
      "          },\n",
      "          {\n",
      "            \"value\": \"Biscoe\",\n",
      "            \"count\": 115\n",
      "          }\n",
      "        ]\n",
      "      }\n",
      "    }\n",
      "  }\n",
      "}\n"
     ]
    }
   ],
   "source": [
    "from sagemaker.s3 import S3Downloader\n",
    "\n",
    "try:\n",
    "    response = json.loads(\n",
    "        S3Downloader.read_file(f\"{DATA_QUALITY_LOCATION}/statistics.json\")\n",
    "    )\n",
    "    print(json.dumps(response[\"features\"][1], indent=2))\n",
    "except Exception as e:\n",
    "    pass"
   ]
  },
  {
   "cell_type": "markdown",
   "id": "8104ad3c",
   "metadata": {},
   "source": [
    "Aquí están las restricciones de calidad de los datos:"
   ]
  },
  {
   "cell_type": "code",
   "execution_count": 498,
   "id": "898d9626",
   "metadata": {},
   "outputs": [
    {
     "name": "stdout",
     "output_type": "stream",
     "text": [
      "{\n",
      "  \"version\": 0.0,\n",
      "  \"features\": [\n",
      "    {\n",
      "      \"name\": \"species\",\n",
      "      \"inferred_type\": \"String\",\n",
      "      \"completeness\": 1.0,\n",
      "      \"string_constraints\": {\n",
      "        \"domains\": [\n",
      "          \"Adelie\",\n",
      "          \"Chinstrap\",\n",
      "          \"Gentoo\"\n",
      "        ]\n",
      "      }\n",
      "    },\n",
      "    {\n",
      "      \"name\": \"island\",\n",
      "      \"inferred_type\": \"String\",\n",
      "      \"completeness\": 1.0,\n",
      "      \"string_constraints\": {\n",
      "        \"domains\": [\n",
      "          \"Dream\",\n",
      "          \"Torgersen\",\n",
      "          \"Biscoe\"\n",
      "        ]\n",
      "      }\n",
      "    },\n",
      "    {\n",
      "      \"name\": \"culmen_length_mm\",\n",
      "      \"inferred_type\": \"Fractional\",\n",
      "      \"completeness\": 1.0,\n",
      "      \"num_constraints\": {\n",
      "        \"is_non_negative\": true\n",
      "      }\n",
      "    },\n",
      "    {\n",
      "      \"name\": \"culmen_depth_mm\",\n",
      "      \"inferred_type\": \"Fractional\",\n",
      "      \"completeness\": 1.0,\n",
      "      \"num_constraints\": {\n",
      "        \"is_non_negative\": true\n",
      "      }\n",
      "    },\n",
      "    {\n",
      "      \"name\": \"flipper_length_mm\",\n",
      "      \"inferred_type\": \"Fractional\",\n",
      "      \"completeness\": 1.0,\n",
      "      \"num_constraints\": {\n",
      "        \"is_non_negative\": true\n",
      "      }\n",
      "    },\n",
      "    {\n",
      "      \"name\": \"body_mass_g\",\n",
      "      \"inferred_type\": \"Fractional\",\n",
      "      \"completeness\": 1.0,\n",
      "      \"num_constraints\": {\n",
      "        \"is_non_negative\": true\n",
      "      }\n",
      "    },\n",
      "    {\n",
      "      \"name\": \"sex\",\n",
      "      \"inferred_type\": \"String\",\n",
      "      \"completeness\": 1.0,\n",
      "      \"string_constraints\": {\n",
      "        \"domains\": [\n",
      "          \"FEMALE\",\n",
      "          \"MALE\"\n",
      "        ]\n",
      "      }\n",
      "    }\n",
      "  ],\n",
      "  \"monitoring_config\": {\n",
      "    \"evaluate_constraints\": \"Enabled\",\n",
      "    \"emit_metrics\": \"Enabled\",\n",
      "    \"datatype_check_threshold\": 1.0,\n",
      "    \"domain_content_threshold\": 1.0,\n",
      "    \"distribution_constraints\": {\n",
      "      \"perform_comparison\": \"Enabled\",\n",
      "      \"comparison_threshold\": 0.1,\n",
      "      \"comparison_method\": \"Robust\",\n",
      "      \"categorical_comparison_threshold\": 0.1,\n",
      "      \"categorical_drift_method\": \"LInfinity\"\n",
      "    }\n",
      "  }\n",
      "}\n"
     ]
    }
   ],
   "source": [
    "try:\n",
    "    response = json.loads(S3Downloader.read_file(f\"{DATA_QUALITY_LOCATION}/constraints.json\"))\n",
    "    print(json.dumps(response, indent=2))\n",
    "except Exception as e:\n",
    "    pass"
   ]
  },
  {
   "cell_type": "markdown",
   "id": "35eaf9af",
   "metadata": {},
   "source": [
    "Y aquí están las restricciones de calidad del modelo:"
   ]
  },
  {
   "cell_type": "code",
   "execution_count": 499,
   "id": "2df52332",
   "metadata": {},
   "outputs": [
    {
     "name": "stdout",
     "output_type": "stream",
     "text": [
      "{\n",
      "  \"version\": 0.0,\n",
      "  \"multiclass_classification_constraints\": {\n",
      "    \"accuracy\": {\n",
      "      \"threshold\": 0.88,\n",
      "      \"comparison_operator\": \"LessThanThreshold\"\n",
      "    },\n",
      "    \"weighted_recall\": {\n",
      "      \"threshold\": 0.88,\n",
      "      \"comparison_operator\": \"LessThanThreshold\"\n",
      "    },\n",
      "    \"weighted_precision\": {\n",
      "      \"threshold\": 0.8940711462450592,\n",
      "      \"comparison_operator\": \"LessThanThreshold\"\n",
      "    },\n",
      "    \"weighted_f0_5\": {\n",
      "      \"threshold\": 0.8763227513227512,\n",
      "      \"comparison_operator\": \"LessThanThreshold\"\n",
      "    },\n",
      "    \"weighted_f1\": {\n",
      "      \"threshold\": 0.8677740863787375,\n",
      "      \"comparison_operator\": \"LessThanThreshold\"\n",
      "    },\n",
      "    \"weighted_f2\": {\n",
      "      \"threshold\": 0.8722000126911604,\n",
      "      \"comparison_operator\": \"LessThanThreshold\"\n",
      "    }\n",
      "  }\n",
      "}\n"
     ]
    }
   ],
   "source": [
    "try:\n",
    "    response = json.loads(S3Downloader.read_file(f\"{MODEL_QUALITY_LOCATION}/constraints.json\"))\n",
    "    print(json.dumps(response, indent=2))\n",
    "except Exception as e:\n",
    "    pass"
   ]
  },
  {
   "cell_type": "markdown",
   "id": "b948aa92-8064-4f03-af08-0f6a8fc329cf",
   "metadata": {},
   "source": [
    "### Paso 9 - Generación de Tráfico Falso\n",
    "\n",
    "Para probar la funcionalidad de monitoreo, necesitamos generar tráfico hacia el endpoint. Para generar tráfico, enviaremos cada muestra del conjunto de datos al endpoint para simular solicitudes de predicción reales:"
   ]
  },
  {
   "cell_type": "code",
   "execution_count": 542,
   "id": "c658bad0",
   "metadata": {},
   "outputs": [],
   "source": [
    "# | code: true\n",
    "# | output: false\n",
    "\n",
    "from sagemaker.serializers import JSONSerializer\n",
    "\n",
    "data = penguins.drop([\"species\"], axis=1)\n",
    "data = data.dropna()\n",
    "\n",
    "predictor = Predictor(\n",
    "    endpoint_name=ENDPOINT,\n",
    "    serializer=JSONSerializer(),\n",
    "    sagemaker_session=sagemaker_session,\n",
    ")\n",
    "\n",
    "for index, row in data.iterrows():\n",
    "    try:\n",
    "        predictor.predict(row.to_dict(), inference_id=str(index))\n",
    "    except Exception as e:\n",
    "        print(e)\n",
    "        break"
   ]
  },
  {
   "cell_type": "markdown",
   "id": "0d3f61b9",
   "metadata": {},
   "source": [
    "Podemos verificar la ubicación donde el endpoint almacena los datos capturados, descargar un archivo y mostrar su contenido. Puede tomar unos minutos para que los primeros archivos aparezcan en S3.\n",
    "\n",
    "Estos archivos contienen los datos capturados por el endpoint en un formato específico de SageMaker en línea JSON. Cada solicitud de inferencia se captura en una sola línea en el archivo jsonl. La línea contiene tanto la entrada como la salida fusionadas juntas:"
   ]
  },
  {
   "cell_type": "code",
   "execution_count": 543,
   "id": "3f35e8db-24d7-4d4b-9264-78ee5070cf27",
   "metadata": {
    "tags": []
   },
   "outputs": [
    {
     "name": "stdout",
     "output_type": "stream",
     "text": [
      "{\n",
      "  \"captureData\": {\n",
      "    \"endpointInput\": {\n",
      "      \"observedContentType\": \"application/json\",\n",
      "      \"mode\": \"INPUT\",\n",
      "      \"data\": \"{\\\"island\\\": \\\"Torgersen\\\", \\\"culmen_length_mm\\\": 39.1, \\\"culmen_depth_mm\\\": 18.7, \\\"flipper_length_mm\\\": 181.0, \\\"body_mass_g\\\": 3750.0, \\\"sex\\\": \\\"MALE\\\"}\",\n",
      "      \"encoding\": \"JSON\"\n",
      "    },\n",
      "    \"endpointOutput\": {\n",
      "      \"observedContentType\": \"application/json\",\n",
      "      \"mode\": \"OUTPUT\",\n",
      "      \"data\": \"{\\\"prediction\\\": \\\"Adelie\\\", \\\"confidence\\\": 0.962092221}\",\n",
      "      \"encoding\": \"JSON\"\n",
      "    }\n",
      "  },\n",
      "  \"eventMetadata\": {\n",
      "    \"eventId\": \"952c2752-29a4-4c45-b4f3-02298278ec65\",\n",
      "    \"inferenceId\": \"0\",\n",
      "    \"inferenceTime\": \"2023-11-09T22:21:44Z\"\n",
      "  },\n",
      "  \"eventVersion\": \"0\"\n",
      "}\n"
     ]
    }
   ],
   "source": [
    "files = S3Downloader.list(DATA_CAPTURE_DESTINATION)[:3]\n",
    "if len(files):\n",
    "    lines = S3Downloader.read_file(files[0])\n",
    "    print(json.dumps(json.loads(lines.split(\"\\n\")[0]), indent=2))"
   ]
  },
  {
   "cell_type": "markdown",
   "id": "59e53138",
   "metadata": {},
   "source": [
    "Estos archivos contienen los datos capturados por el endpoint en un formato específico de SageMaker en línea JSON. Cada solicitud de inferencia se captura en una sola línea en el archivo `jsonl`. La línea contiene tanto la entrada como la salida fusionadas juntas:"
   ]
  },
  {
   "cell_type": "markdown",
   "id": "5754a314-3bc0-4b41-8767-e9f06d96d250",
   "metadata": {},
   "source": [
    "### Paso 10 - Generación de Etiquetas Falsas\n",
    "\n",
    "Para probar el rendimiento del modelo, necesitamos etiquetar las muestras capturadas por el endpoint. Podemos simular el proceso de etiquetado generando una etiqueta aleatoria para cada muestra. Consulta [Ingest Ground Truth Labels and Merge Them With Predictions](https://docs.aws.amazon.com/sagemaker/latest/dg/model-monitor-model-quality-merge.html) para obtener más información al respecto.\n"
   ]
  },
  {
   "cell_type": "code",
   "execution_count": 544,
   "id": "bb999995",
   "metadata": {},
   "outputs": [
    {
     "data": {
      "text/plain": [
       "'s3://mlschool/penguins/monitoring/groundtruth/2023/11/10/17/2324.jsonl'"
      ]
     },
     "execution_count": 544,
     "metadata": {},
     "output_type": "execute_result"
    }
   ],
   "source": [
    "#| code: true\n",
    "#| output: false\n",
    "\n",
    "import random\n",
    "from datetime import datetime\n",
    "from sagemaker.s3 import S3Uploader\n",
    "\n",
    "records = []\n",
    "for inference_id in range(len(data)):\n",
    "    random.seed(inference_id)\n",
    "\n",
    "    records.append(json.dumps({\n",
    "        \"groundTruthData\": {\n",
    "            \"data\": random.choice([\"Adelie\", \"Chinstrap\", \"Gentoo\"]),\n",
    "            \"encoding\": \"CSV\",\n",
    "        },\n",
    "        \"eventMetadata\": {\n",
    "            \"eventId\": str(inference_id),\n",
    "        },\n",
    "        \"eventVersion\": \"0\",\n",
    "    }))\n",
    "\n",
    "groundtruth_payload = \"\\n\".join(records)\n",
    "upload_time = datetime.utcnow()\n",
    "uri = f\"{GROUND_TRUTH_LOCATION}/{upload_time:%Y/%m/%d/%H/%M%S}.jsonl\"\n",
    "S3Uploader.upload_string_as_file_body(groundtruth_payload, uri)"
   ]
  },
  {
   "cell_type": "markdown",
   "id": "a65bd669",
   "metadata": {},
   "source": [
    "### Paso 11 - Preparación de Funciones de Monitoreo\n",
    "\n",
    "Creemos algunas funciones que nos ayudarán a trabajar con programaciones de monitoreo más adelante:"
   ]
  },
  {
   "cell_type": "code",
   "execution_count": 485,
   "id": "da145ba1-4966-4dab-8a73-281db364cbc7",
   "metadata": {
    "tags": []
   },
   "outputs": [],
   "source": [
    "from time import sleep\n",
    "from sagemaker.model_monitor import MonitoringExecution\n",
    "\n",
    "\n",
    "def describe_monitoring_schedules(endpoint_name):\n",
    "    schedules = []\n",
    "    response = sagemaker_client.list_monitoring_schedules(EndpointName=endpoint_name)[\n",
    "        \"MonitoringScheduleSummaries\"\n",
    "    ]\n",
    "    for item in response:\n",
    "        name = item[\"MonitoringScheduleName\"]\n",
    "        schedule = {\n",
    "            \"Name\": name,\n",
    "            \"Type\": item[\"MonitoringType\"],\n",
    "        }\n",
    "\n",
    "        description = sagemaker_client.describe_monitoring_schedule(\n",
    "            MonitoringScheduleName=name\n",
    "        )\n",
    "\n",
    "        schedule[\"Status\"] = description[\"MonitoringScheduleStatus\"]\n",
    "\n",
    "        last_execution_status = description[\"LastMonitoringExecutionSummary\"][\n",
    "            \"MonitoringExecutionStatus\"\n",
    "        ]\n",
    "\n",
    "        schedule[\"Last Execution Status\"] = last_execution_status\n",
    "        schedule[\"Last Execution Date\"] = str(description[\"LastMonitoringExecutionSummary\"][\"LastModifiedTime\"])\n",
    "\n",
    "        if last_execution_status == \"Failed\":\n",
    "            schedule[\"Failure Reason\"] = description[\"LastMonitoringExecutionSummary\"][\n",
    "                \"FailureReason\"\n",
    "            ]\n",
    "        elif last_execution_status == \"CompletedWithViolations\":\n",
    "            processing_job_arn = description[\"LastMonitoringExecutionSummary\"][\n",
    "                \"ProcessingJobArn\"\n",
    "            ]\n",
    "            execution = MonitoringExecution.from_processing_arn(\n",
    "                sagemaker_session=sagemaker_session,\n",
    "                processing_job_arn=processing_job_arn,\n",
    "            )\n",
    "            execution_destination = execution.output.destination\n",
    "\n",
    "            violations_filepath = os.path.join(\n",
    "                execution_destination, \"constraint_violations.json\"\n",
    "            )\n",
    "            violations = json.loads(S3Downloader.read_file(violations_filepath))[\n",
    "                \"violations\"\n",
    "            ]\n",
    "\n",
    "            schedule[\"Violations\"] = violations\n",
    "\n",
    "        schedules.append(schedule)\n",
    "\n",
    "    return schedules\n",
    "\n",
    "\n",
    "def describe_monitoring_schedule(endpoint_name, monitoring_type):\n",
    "    found = False\n",
    "\n",
    "    schedules = describe_monitoring_schedules(endpoint_name)\n",
    "    for schedule in schedules:\n",
    "        if schedule[\"Type\"] == monitoring_type:\n",
    "            found = True\n",
    "            print(json.dumps(schedule, indent=2))\n",
    "\n",
    "    if not found:\n",
    "        print(f\"There's no {monitoring_type} Monitoring Schedule.\")\n",
    "\n",
    "\n",
    "def describe_data_monitoring_schedule(endpoint_name):\n",
    "    describe_monitoring_schedule(endpoint_name, \"DataQuality\")\n",
    "\n",
    "\n",
    "def describe_model_monitoring_schedule(endpoint_name):\n",
    "    describe_monitoring_schedule(endpoint_name, \"ModelQuality\")\n",
    "\n",
    "\n",
    "def delete_monitoring_schedule(endpoint_name, monitoring_type):\n",
    "    attempts = 30\n",
    "    found = False\n",
    "\n",
    "    response = sagemaker_client.list_monitoring_schedules(EndpointName=endpoint_name)[\n",
    "        \"MonitoringScheduleSummaries\"\n",
    "    ]\n",
    "    for item in response:\n",
    "        if item[\"MonitoringType\"] == monitoring_type:\n",
    "            found = True\n",
    "            \n",
    "            summary = sagemaker_client.describe_monitoring_schedule(\n",
    "                MonitoringScheduleName=item[\"MonitoringScheduleName\"]\n",
    "            )\n",
    "            status = summary[\"MonitoringScheduleStatus\"]\n",
    "\n",
    "            if status == \"Scheduled\" and \"LastMonitoringExecutionSummary\" in summary and \"MonitoringExecutionStatus\" in summary[\"LastMonitoringExecutionSummary\"]:\n",
    "                status = summary[\"LastMonitoringExecutionSummary\"][\"MonitoringExecutionStatus\"]\n",
    "\n",
    "            while status in (\"Pending\", \"InProgress\") and attempts > 0:\n",
    "                attempts -= 1\n",
    "                print(\n",
    "                    f\"Monitoring schedule status: {status}. Waiting for it to finish.\"\n",
    "                )\n",
    "                sleep(30)\n",
    "\n",
    "                status = sagemaker_client.describe_monitoring_schedule(\n",
    "                    MonitoringScheduleName=item[\"MonitoringScheduleName\"]\n",
    "                )[\"MonitoringScheduleStatus\"]\n",
    "\n",
    "            if status not in (\"Pending\", \"InProgress\"):\n",
    "                sagemaker_client.delete_monitoring_schedule(\n",
    "                    MonitoringScheduleName=item[\"MonitoringScheduleName\"]\n",
    "                )\n",
    "                print(\"Monitoring schedule deleted.\")\n",
    "            else:\n",
    "                print(\"Waiting for monitoring schedule timed out\")\n",
    "\n",
    "    if not found:\n",
    "        print(f\"There's no {monitoring_type} Monitoring Schedule.\")\n",
    "\n",
    "\n",
    "def delete_data_monitoring_schedule(endpoint_name):\n",
    "    delete_monitoring_schedule(endpoint_name, \"DataQuality\")\n",
    "\n",
    "\n",
    "def delete_model_monitoring_schedule(endpoint_name):\n",
    "    delete_monitoring_schedule(endpoint_name, \"ModelQuality\")"
   ]
  },
  {
   "cell_type": "markdown",
   "id": "d936df76-e0b8-4dad-a04f-ef77ce2a2df1",
   "metadata": {},
   "source": [
    "### Paso 12 - Configuración del Data Monitoring Job\n",
    "\n",
    "SageMaker busca violaciones en los datos capturados por el endpoint. De forma predeterminada, combina los datos de entrada con la salida del endpoint y compara el resultado con el referencial que generamos. Si permitimos que SageMaker haga esto, obtendremos algunas violaciones, como una violación de \"extra column check\" porque el campo  `confidence` no existe en los datos de referencia.\n",
    "\n",
    "Podemos solucionar estas violaciones creando un script de preprocesamiento que configure los datos que queremos que el trabajo de monitoreo utilice. Consulta [Preprocessing and Postprocessing](https://docs.aws.amazon.com/sagemaker/latest/dg/model-monitor-pre-and-post-processing.html) para obtener más información sobre cómo configurar estos scripts.\n",
    "\n",
    "Definamos el nombre del script de preprocesamiento:"
   ]
  },
  {
   "cell_type": "code",
   "execution_count": 481,
   "id": "cc119422-2e85-4e8c-86cd-6d59e353d09d",
   "metadata": {
    "tags": []
   },
   "outputs": [],
   "source": [
    "DATA_QUALITY_PREPROCESSOR = \"data_quality_preprocessor.py\""
   ]
  },
  {
   "cell_type": "markdown",
   "id": "72c1023e",
   "metadata": {},
   "source": [
    "Ahora podemos definir el script de preprocesamiento. Observa que este script devolverá los datos de entrada que recibe el endpoint con una nueva columna `species` que contendrá la predicción del modelo:"
   ]
  },
  {
   "cell_type": "code",
   "execution_count": 538,
   "id": "083b0bd0-4035-43fe-9b2c-946b12a5e266",
   "metadata": {
    "tags": []
   },
   "outputs": [
    {
     "name": "stdout",
     "output_type": "stream",
     "text": [
      "Overwriting code/data_quality_preprocessor.py\n"
     ]
    }
   ],
   "source": [
    "%%writefile {CODE_FOLDER}/{DATA_QUALITY_PREPROCESSOR}\n",
    "#| code: true\n",
    "#| output: false\n",
    "\n",
    "import json\n",
    "\n",
    "def preprocess_handler(inference_record):\n",
    "    input_data = json.loads(inference_record.endpoint_input.data)\n",
    "    output_data = json.loads(inference_record.endpoint_output.data)\n",
    "    \n",
    "    response = input_data\n",
    "    response[\"species\"] = output_data[\"prediction\"]\n",
    "\n",
    "    # The `response` variable contains the data that we want the\n",
    "    # monitoring job to use to compare with the baseline.\n",
    "    return response"
   ]
  },
  {
   "cell_type": "markdown",
   "id": "840d54c5-f09c-4559-a1d2-63587da0ad14",
   "metadata": {},
   "source": [
    "El schedule de monitoreo espera una ubicación de S3 que apunte al script de preprocesamiento. Subamos el script al bucket predeterminado."
   ]
  },
  {
   "cell_type": "code",
   "execution_count": 539,
   "id": "96e5c0c1-7e40-47df-8f40-1d891db13875",
   "metadata": {
    "tags": []
   },
   "outputs": [
    {
     "name": "stderr",
     "output_type": "stream",
     "text": [
      "INFO:botocore.credentials:Found credentials in shared credentials file: ~/.aws/credentials\n"
     ]
    }
   ],
   "source": [
    "#| code: true\n",
    "#| output: false\n",
    "\n",
    "bucket = boto3.Session().resource(\"s3\").Bucket(pipeline_session.default_bucket())\n",
    "prefix = \"penguins/monitoring\"\n",
    "bucket.Object(os.path.join(prefix, DATA_QUALITY_PREPROCESSOR)).upload_file(\n",
    "    str(CODE_FOLDER / DATA_QUALITY_PREPROCESSOR)\n",
    ")\n",
    "data_quality_preprocessor = (\n",
    "    f\"s3://{os.path.join(bucket.name, prefix, DATA_QUALITY_PREPROCESSOR)}\"\n",
    ")"
   ]
  },
  {
   "cell_type": "markdown",
   "id": "56e107eb-546d-431c-b74d-1bfd412711b7",
   "metadata": {},
   "source": [
    "hora podemos configurar el Data Quality Monitoring Job utilizando la clase [DefaultModelMonitor](https://sagemaker.readthedocs.io/en/stable/api/inference/model_monitor.html#sagemaker.model_monitor.model_monitoring.DefaultModelMonitor) Observa cómo especificamos el `record_preprocessor_script` utilizando la ubicación de S3 donde cargamos nuestro script."
   ]
  },
  {
   "cell_type": "markdown",
   "id": "e653b628",
   "metadata": {},
   "source": [
    "#| hide\n",
    "\n",
    "<div class=\"alert\" style=\"background-color:#0066cc;\"><strong>Nota:</strong> \n",
    "    El <code>%%script</code> magic es una forma conveniente de evitar que el notebook ejecute una celda específica. Si desea ejecutar la celda, comente la línea que contiene el <code>%%script</code>  magic.\n",
    "</div>\n"
   ]
  },
  {
   "cell_type": "code",
   "execution_count": 540,
   "id": "15caf9e1-97fc-4379-893b-6062d4bd876e",
   "metadata": {
    "tags": []
   },
   "outputs": [
    {
     "name": "stderr",
     "output_type": "stream",
     "text": [
      "INFO:sagemaker.image_uris:Defaulting to the only supported framework/algorithm version: .\n",
      "INFO:sagemaker.image_uris:Ignoring unnecessary instance type: None.\n",
      "INFO:sagemaker.model_monitor.model_monitoring:Creating Monitoring Schedule with name: penguins-data-monitoring-schedule\n"
     ]
    }
   ],
   "source": [
    "%%script false --no-raise-error\n",
    "#| code: true\n",
    "#| output: false\n",
    "#| eval: false\n",
    "\n",
    "from sagemaker.model_monitor import CronExpressionGenerator, DefaultModelMonitor\n",
    "\n",
    "data_monitor = DefaultModelMonitor(\n",
    "    instance_type=config[\"instance_type\"],\n",
    "    instance_count=1,\n",
    "    max_runtime_in_seconds=3600,\n",
    "    role=role,\n",
    ")\n",
    "\n",
    "data_monitor.create_monitoring_schedule(\n",
    "    monitor_schedule_name=\"penguins-data-monitoring-schedule\",\n",
    "    endpoint_input=ENDPOINT,\n",
    "    record_preprocessor_script=data_quality_preprocessor,\n",
    "    statistics=f\"{DATA_QUALITY_LOCATION}/statistics.json\",\n",
    "    constraints=f\"{DATA_QUALITY_LOCATION}/constraints.json\",\n",
    "    schedule_cron_expression=CronExpressionGenerator.hourly(),\n",
    "    output_s3_uri=DATA_QUALITY_LOCATION,\n",
    "    enable_cloudwatch_metrics=True,\n",
    ")"
   ]
  },
  {
   "cell_type": "markdown",
   "id": "018800f7-315f-4f5e-b082-ba94bbde91ad",
   "metadata": {},
   "source": [
    "Podemos verificar los resultados del trabajo de monitoreo al observar si generó alguna violación:"
   ]
  },
  {
   "cell_type": "code",
   "execution_count": 545,
   "id": "2c04fdd4-cc03-496c-a0a1-405854505c46",
   "metadata": {
    "tags": []
   },
   "outputs": [
    {
     "name": "stdout",
     "output_type": "stream",
     "text": [
      "{\n",
      "  \"Name\": \"penguins-data-monitoring-schedule\",\n",
      "  \"Type\": \"DataQuality\",\n",
      "  \"Status\": \"Scheduled\",\n",
      "  \"Last Execution Status\": \"Failed\",\n",
      "  \"Last Execution Date\": \"2023-11-10 15:01:08.656000-05:00\",\n",
      "  \"Failure Reason\": \"Job inputs had no data\"\n",
      "}\n"
     ]
    }
   ],
   "source": [
    "describe_data_monitoring_schedule(ENDPOINT)"
   ]
  },
  {
   "cell_type": "markdown",
   "id": "3a9d201d-f60f-49f2-b4e9-eb0a0159ecfd",
   "metadata": {},
   "source": [
    "### Paso 13 - Configurando el Model Monitoring Job\n",
    "\n",
    "Para configurar un Trabajo de Monitoreo de Calidad del Modelo, podemos utilizar la clase [ModelQualityMonitor](https://sagemaker.readthedocs.io/en/stable/api/inference/model_monitor.html#sagemaker.model_monitor.model_monitoring.ModelQualityMonitor). La instancia de [EndpointInput](https://sagemaker.readthedocs.io/en/v2.24.2/api/inference/model_monitor.html#sagemaker.model_monitor.model_monitoring.EndpointInput) configura el atributo que el trabajo de monitoreo debe utilizar para determinar la predicción del modelo.\n",
    "\n",
    "Consulta [Amazon SageMaker Model Quality Monitor](https://sagemaker-examples.readthedocs.io/en/latest/sagemaker_model_monitor/model_quality/model_quality_churn_sdk.html) para obtener un tutorial completo sobre cómo ejecutar un Trabajo de Monitoreo de Calidad del Modelo en SageMaker."
   ]
  },
  {
   "cell_type": "markdown",
   "id": "9d217afd",
   "metadata": {},
   "source": [
    "Ahora podemos iniciarl el Model Quality Monitoring Job:"
   ]
  },
  {
   "cell_type": "markdown",
   "id": "cd771884",
   "metadata": {},
   "source": [
    "#| hide\n",
    "\n",
    "<div class=\"alert\" style=\"background-color:#0066cc;\"><strong>Nota:</strong> \n",
    "    El <code>%%script</code> magic es una forma conveniente de evitar que el notebook ejecute una celda específica. Si desea ejecutar la celda, comente la línea que contiene el <code>%%script</code>  magic.\n",
    "</div>\n"
   ]
  },
  {
   "cell_type": "code",
   "execution_count": 460,
   "id": "070e0d73-5375-4fc3-b94c-da0574600c05",
   "metadata": {},
   "outputs": [
    {
     "name": "stderr",
     "output_type": "stream",
     "text": [
      "INFO:sagemaker.image_uris:Defaulting to the only supported framework/algorithm version: .\n",
      "INFO:sagemaker.image_uris:Ignoring unnecessary instance type: None.\n",
      "INFO:sagemaker.model_monitor.model_monitoring:Creating Monitoring Schedule with name: penguins-model-monitoring-schedule\n"
     ]
    }
   ],
   "source": [
    "%%script false --no-raise-error\n",
    "#| code: true\n",
    "#| output: false\n",
    "#| eval: false\n",
    "from sagemaker.model_monitor import ModelQualityMonitor, EndpointInput\n",
    "\n",
    "model_monitor = ModelQualityMonitor(\n",
    "    instance_type=config[\"instance_type\"],\n",
    "    instance_count=1,\n",
    "    max_runtime_in_seconds=1800,\n",
    "    role=role\n",
    ")\n",
    "\n",
    "model_monitor.create_monitoring_schedule(\n",
    "    monitor_schedule_name=\"penguins-model-monitoring-schedule\",\n",
    "    \n",
    "    endpoint_input = EndpointInput(\n",
    "        endpoint_name=ENDPOINT,\n",
    "        inference_attribute=\"prediction\",\n",
    "        destination=\"/opt/ml/processing/input_data\",\n",
    "    ),\n",
    "    \n",
    "    problem_type=\"MulticlassClassification\",\n",
    "    ground_truth_input=GROUND_TRUTH_LOCATION,\n",
    "    constraints=f\"{MODEL_QUALITY_LOCATION}/constraints.json\",\n",
    "    schedule_cron_expression=CronExpressionGenerator.hourly(),\n",
    "    output_s3_uri=MODEL_QUALITY_LOCATION,\n",
    "    enable_cloudwatch_metrics=True,\n",
    ")"
   ]
  },
  {
   "cell_type": "markdown",
   "id": "8d9e523e-49c5-4382-b28a-cdbece9bd0e0",
   "metadata": {},
   "source": [
    "Podemos verificar los resultados del trabajo de monitoreo al observar si generó alguna violación.\n",
    "\n",
    "Aquí tienes un ejemplo de algunas violaciones generadas por el trabajo de monitoreo:\n",
    "\n",
    "```\n",
    "{\n",
    "  \"Name\": \"penguins-model-monitoring-schedule\",\n",
    "  \"Type\": \"ModelQuality\",\n",
    "  \"Status\": \"Scheduled\",\n",
    "  \"Last Execution Status\": \"CompletedWithViolations\",\n",
    "  \"Last Execution Date\": \"2023-11-10 07:15:38.870000-05:00\",\n",
    "  \"Violations\": [\n",
    "    {\n",
    "      \"constraint_check_type\": \"LessThanThreshold\",\n",
    "      \"description\": \"Metric weightedF2 with 0.35599535646931135 +/- 0.014588104295968964 was LessThanThreshold '0.8722000126911604'\",\n",
    "      \"metric_name\": \"weightedF2\"\n",
    "    },\n",
    "    {\n",
    "      \"constraint_check_type\": \"LessThanThreshold\",\n",
    "      \"description\": \"Metric accuracy with 0.3691860465116279 +/- 0.01318589816003266 was LessThanThreshold '0.88'\",\n",
    "      \"metric_name\": \"accuracy\"\n",
    "    },\n",
    "    {\n",
    "      \"constraint_check_type\": \"LessThanThreshold\",\n",
    "      \"description\": \"Metric weightedRecall with 0.3691860465116279 +/- 0.013185898160032667 was LessThanThreshold '0.88'\",\n",
    "      \"metric_name\": \"weightedRecall\"\n",
    "    },\n",
    "    {\n",
    "      \"constraint_check_type\": \"LessThanThreshold\",\n",
    "      \"description\": \"Metric weightedPrecision with 0.3723930543404764 +/- 0.026898711106593986 was LessThanThreshold '0.8940711462450592'\",\n",
    "      \"metric_name\": \"weightedPrecision\"\n",
    "    },\n",
    "    {\n",
    "      \"constraint_check_type\": \"LessThanThreshold\",\n",
    "      \"description\": \"Metric weightedF1 with 0.34565734045211405 +/- 0.01766811466802452 was LessThanThreshold '0.8677740863787375'\",\n",
    "      \"metric_name\": \"weightedF1\"\n",
    "    }\n",
    "  ]\n",
    "}\n",
    "```\n"
   ]
  },
  {
   "cell_type": "code",
   "execution_count": 493,
   "id": "347de298-16f2-42e0-85c4-dfc916080020",
   "metadata": {
    "tags": []
   },
   "outputs": [
    {
     "name": "stdout",
     "output_type": "stream",
     "text": [
      "{\n",
      "  \"Name\": \"penguins-model-monitoring-schedule\",\n",
      "  \"Type\": \"ModelQuality\",\n",
      "  \"Status\": \"Scheduled\",\n",
      "  \"Last Execution Status\": \"CompletedWithViolations\",\n",
      "  \"Last Execution Date\": \"2023-11-10 07:15:38.870000-05:00\",\n",
      "  \"Violations\": [\n",
      "    {\n",
      "      \"constraint_check_type\": \"LessThanThreshold\",\n",
      "      \"description\": \"Metric weightedF2 with 0.35599535646931135 +/- 0.014588104295968964 was LessThanThreshold '0.8722000126911604'\",\n",
      "      \"metric_name\": \"weightedF2\"\n",
      "    },\n",
      "    {\n",
      "      \"constraint_check_type\": \"LessThanThreshold\",\n",
      "      \"description\": \"Metric accuracy with 0.3691860465116279 +/- 0.01318589816003266 was LessThanThreshold '0.88'\",\n",
      "      \"metric_name\": \"accuracy\"\n",
      "    },\n",
      "    {\n",
      "      \"constraint_check_type\": \"LessThanThreshold\",\n",
      "      \"description\": \"Metric weightedRecall with 0.3691860465116279 +/- 0.013185898160032667 was LessThanThreshold '0.88'\",\n",
      "      \"metric_name\": \"weightedRecall\"\n",
      "    },\n",
      "    {\n",
      "      \"constraint_check_type\": \"LessThanThreshold\",\n",
      "      \"description\": \"Metric weightedPrecision with 0.3723930543404764 +/- 0.026898711106593986 was LessThanThreshold '0.8940711462450592'\",\n",
      "      \"metric_name\": \"weightedPrecision\"\n",
      "    },\n",
      "    {\n",
      "      \"constraint_check_type\": \"LessThanThreshold\",\n",
      "      \"description\": \"Metric weightedF1 with 0.34565734045211405 +/- 0.01766811466802452 was LessThanThreshold '0.8677740863787375'\",\n",
      "      \"metric_name\": \"weightedF1\"\n",
      "    }\n",
      "  ]\n",
      "}\n"
     ]
    }
   ],
   "source": [
    "describe_model_monitoring_schedule(ENDPOINT)"
   ]
  },
  {
   "cell_type": "markdown",
   "id": "38c3d9f6",
   "metadata": {},
   "source": [
    "### Paso 14 - Desmantelamiento de los recursos\n",
    "\n",
    "El siguiente código detendrá los trabajos de monitoreo y eliminará el endpoint."
   ]
  },
  {
   "cell_type": "code",
   "execution_count": 546,
   "id": "bb74dc04-54a1-4a3f-854f-4877f7f0b4a1",
   "metadata": {
    "tags": []
   },
   "outputs": [
    {
     "name": "stdout",
     "output_type": "stream",
     "text": [
      "Monitoring schedule deleted.\n",
      "There's no ModelQuality Monitoring Schedule.\n"
     ]
    }
   ],
   "source": [
    "#| code: true\n",
    "#| output: false\n",
    "\n",
    "delete_data_monitoring_schedule(ENDPOINT)\n",
    "delete_model_monitoring_schedule(ENDPOINT)"
   ]
  },
  {
   "cell_type": "markdown",
   "id": "c97e5419",
   "metadata": {},
   "source": [
    "Vamos a eliminar el endpoint:"
   ]
  },
  {
   "cell_type": "markdown",
   "id": "307f5062",
   "metadata": {},
   "source": [
    "#| hide\n",
    "\n",
    "<div class=\"alert\" style=\"background-color:#0066cc;\"><strong>Nota:</strong> \n",
    "    El <code>%%script</code> magic es una forma conveniente de evitar que el notebook ejecute una celda específica. Si desea ejecutar la celda, comente la línea que contiene el <code>%%script</code>  magic.\n",
    "</div>\n"
   ]
  },
  {
   "cell_type": "code",
   "execution_count": null,
   "id": "9eabe84e",
   "metadata": {},
   "outputs": [],
   "source": [
    "%%script false --no-raise-error\n",
    "#| eval: false\n",
    "#| code: true\n",
    "#| output: false\n",
    "\n",
    "predictor.delete_endpoint()"
   ]
  },
  {
   "cell_type": "markdown",
   "id": "db0d6d8d-791c-4ae0-ba79-e0da33d0ece2",
   "metadata": {},
   "source": [
    "### Assignments\n",
    "\n",
    "* <span style=\"padding:4px; background-color: #f2a68a; color: #000;\"><strong>Assignment 5.1</strong></span> Puedes visualizar los resultados de tus trabajos de monitoreo en Amazon SageMaker Studio. Ve a tu endpoint y visita las pestañas de  Data quality and Model quality. Observa los detalles de tus trabajos de monitoreo y crea algunos gráficos para explorar el referencial y los valores capturados para cualquier métrica que el trabajo de monitoreo calcule.\n",
    "\n",
    "* <span style=\"padding:4px; background-color: #f2a68a; color: #000;\"><strong>Assignment 5.2</strong></span> The QualityCheck Step ejecuta un trabajo de procesamiento para calcular estadísticas de referencia y restricciones a partir del conjunto de datos de entrada. Configuramos el pipeline para generar las baselines iniciales cada vez que se ejecuta. Modifica el código para evitar que el pipeline registre una nueva versión del modelo si el conjunto de datos viola la baseline de la versión anterior del modelo. Puedes configurar el QualityCheck Step para lograr esto.\n",
    "\n",
    "* <span style=\"padding:4px; background-color: #f2a68a; color: #000;\"><strong>Assignment 5.3</strong></span> Estamos generando predicciones para el conjunto de pruebas dos veces durante la ejecución de nuestro pipeline. Primero, durante el Evaluation Step, y luego utilizando un Transform Step en previsión de generar la baseline para monitorear el modelo. Modifica el Evaluation Step para que reutilice el rendimiento del modelo calculado por el QualityCheck Step en lugar de generar predicciones nuevamente.\n",
    "\n",
    "* <span style=\"padding:4px; background-color: #f2a68a; color: #000;\"><strong>Assignment 5.4</strong></span> [Evidently AI](https://evidentlyai.com/) es una plataforma de observación de aprendizaje automático de código abierto que puedes utilizar para evaluar, probar y monitorear modelos. Para esta tarea, integra el endpoint que construimos con Evidently AI para utilizar sus capacidades de monitoreo del modelo.\n",
    "\n",
    "* <span style=\"padding:4px; background-color: #f2a68a; color: #000;\"><strong>Assignment 5.5</strong></span> En lugar de ejecutar todo el pipeline de principio a fin, a veces solo necesitas iterar sobre pasos específicos. SageMaker Pipelines admite [Selective Execution for Pipeline Steps](https://docs.aws.amazon.com/sagemaker/latest/dg/pipelines-selective-ex.html). IEn esta tarea, utilizarás la Ejecución Selectiva para ejecutar solo un paso específico del pipeline. [Unlocking efficiency: Harnessing the power of Selective Execution in Amazon SageMaker Pipelines](https://aws.amazon.com/blogs/machine-learning/unlocking-efficiency-harnessing-the-power-of-selective-execution-in-amazon-sagemaker-pipelines/) es un excelente artículo que explica esta función."
   ]
  }
 ],
 "metadata": {
  "availableInstances": [
   {
    "_defaultOrder": 0,
    "_isFastLaunch": true,
    "category": "General purpose",
    "gpuNum": 0,
    "hideHardwareSpecs": false,
    "memoryGiB": 4,
    "name": "ml.t3.medium",
    "vcpuNum": 2
   },
   {
    "_defaultOrder": 1,
    "_isFastLaunch": false,
    "category": "General purpose",
    "gpuNum": 0,
    "hideHardwareSpecs": false,
    "memoryGiB": 8,
    "name": "ml.t3.large",
    "vcpuNum": 2
   },
   {
    "_defaultOrder": 2,
    "_isFastLaunch": false,
    "category": "General purpose",
    "gpuNum": 0,
    "hideHardwareSpecs": false,
    "memoryGiB": 16,
    "name": "ml.t3.xlarge",
    "vcpuNum": 4
   },
   {
    "_defaultOrder": 3,
    "_isFastLaunch": false,
    "category": "General purpose",
    "gpuNum": 0,
    "hideHardwareSpecs": false,
    "memoryGiB": 32,
    "name": "ml.t3.2xlarge",
    "vcpuNum": 8
   },
   {
    "_defaultOrder": 4,
    "_isFastLaunch": true,
    "category": "General purpose",
    "gpuNum": 0,
    "hideHardwareSpecs": false,
    "memoryGiB": 8,
    "name": "ml.m5.large",
    "vcpuNum": 2
   },
   {
    "_defaultOrder": 5,
    "_isFastLaunch": false,
    "category": "General purpose",
    "gpuNum": 0,
    "hideHardwareSpecs": false,
    "memoryGiB": 16,
    "name": "ml.m5.xlarge",
    "vcpuNum": 4
   },
   {
    "_defaultOrder": 6,
    "_isFastLaunch": false,
    "category": "General purpose",
    "gpuNum": 0,
    "hideHardwareSpecs": false,
    "memoryGiB": 32,
    "name": "ml.m5.2xlarge",
    "vcpuNum": 8
   },
   {
    "_defaultOrder": 7,
    "_isFastLaunch": false,
    "category": "General purpose",
    "gpuNum": 0,
    "hideHardwareSpecs": false,
    "memoryGiB": 64,
    "name": "ml.m5.4xlarge",
    "vcpuNum": 16
   },
   {
    "_defaultOrder": 8,
    "_isFastLaunch": false,
    "category": "General purpose",
    "gpuNum": 0,
    "hideHardwareSpecs": false,
    "memoryGiB": 128,
    "name": "ml.m5.8xlarge",
    "vcpuNum": 32
   },
   {
    "_defaultOrder": 9,
    "_isFastLaunch": false,
    "category": "General purpose",
    "gpuNum": 0,
    "hideHardwareSpecs": false,
    "memoryGiB": 192,
    "name": "ml.m5.12xlarge",
    "vcpuNum": 48
   },
   {
    "_defaultOrder": 10,
    "_isFastLaunch": false,
    "category": "General purpose",
    "gpuNum": 0,
    "hideHardwareSpecs": false,
    "memoryGiB": 256,
    "name": "ml.m5.16xlarge",
    "vcpuNum": 64
   },
   {
    "_defaultOrder": 11,
    "_isFastLaunch": false,
    "category": "General purpose",
    "gpuNum": 0,
    "hideHardwareSpecs": false,
    "memoryGiB": 384,
    "name": "ml.m5.24xlarge",
    "vcpuNum": 96
   },
   {
    "_defaultOrder": 12,
    "_isFastLaunch": false,
    "category": "General purpose",
    "gpuNum": 0,
    "hideHardwareSpecs": false,
    "memoryGiB": 8,
    "name": "ml.m5d.large",
    "vcpuNum": 2
   },
   {
    "_defaultOrder": 13,
    "_isFastLaunch": false,
    "category": "General purpose",
    "gpuNum": 0,
    "hideHardwareSpecs": false,
    "memoryGiB": 16,
    "name": "ml.m5d.xlarge",
    "vcpuNum": 4
   },
   {
    "_defaultOrder": 14,
    "_isFastLaunch": false,
    "category": "General purpose",
    "gpuNum": 0,
    "hideHardwareSpecs": false,
    "memoryGiB": 32,
    "name": "ml.m5d.2xlarge",
    "vcpuNum": 8
   },
   {
    "_defaultOrder": 15,
    "_isFastLaunch": false,
    "category": "General purpose",
    "gpuNum": 0,
    "hideHardwareSpecs": false,
    "memoryGiB": 64,
    "name": "ml.m5d.4xlarge",
    "vcpuNum": 16
   },
   {
    "_defaultOrder": 16,
    "_isFastLaunch": false,
    "category": "General purpose",
    "gpuNum": 0,
    "hideHardwareSpecs": false,
    "memoryGiB": 128,
    "name": "ml.m5d.8xlarge",
    "vcpuNum": 32
   },
   {
    "_defaultOrder": 17,
    "_isFastLaunch": false,
    "category": "General purpose",
    "gpuNum": 0,
    "hideHardwareSpecs": false,
    "memoryGiB": 192,
    "name": "ml.m5d.12xlarge",
    "vcpuNum": 48
   },
   {
    "_defaultOrder": 18,
    "_isFastLaunch": false,
    "category": "General purpose",
    "gpuNum": 0,
    "hideHardwareSpecs": false,
    "memoryGiB": 256,
    "name": "ml.m5d.16xlarge",
    "vcpuNum": 64
   },
   {
    "_defaultOrder": 19,
    "_isFastLaunch": false,
    "category": "General purpose",
    "gpuNum": 0,
    "hideHardwareSpecs": false,
    "memoryGiB": 384,
    "name": "ml.m5d.24xlarge",
    "vcpuNum": 96
   },
   {
    "_defaultOrder": 20,
    "_isFastLaunch": false,
    "category": "General purpose",
    "gpuNum": 0,
    "hideHardwareSpecs": true,
    "memoryGiB": 0,
    "name": "ml.geospatial.interactive",
    "supportedImageNames": [
     "sagemaker-geospatial-v1-0"
    ],
    "vcpuNum": 0
   },
   {
    "_defaultOrder": 21,
    "_isFastLaunch": true,
    "category": "Compute optimized",
    "gpuNum": 0,
    "hideHardwareSpecs": false,
    "memoryGiB": 4,
    "name": "ml.c5.large",
    "vcpuNum": 2
   },
   {
    "_defaultOrder": 22,
    "_isFastLaunch": false,
    "category": "Compute optimized",
    "gpuNum": 0,
    "hideHardwareSpecs": false,
    "memoryGiB": 8,
    "name": "ml.c5.xlarge",
    "vcpuNum": 4
   },
   {
    "_defaultOrder": 23,
    "_isFastLaunch": false,
    "category": "Compute optimized",
    "gpuNum": 0,
    "hideHardwareSpecs": false,
    "memoryGiB": 16,
    "name": "ml.c5.2xlarge",
    "vcpuNum": 8
   },
   {
    "_defaultOrder": 24,
    "_isFastLaunch": false,
    "category": "Compute optimized",
    "gpuNum": 0,
    "hideHardwareSpecs": false,
    "memoryGiB": 32,
    "name": "ml.c5.4xlarge",
    "vcpuNum": 16
   },
   {
    "_defaultOrder": 25,
    "_isFastLaunch": false,
    "category": "Compute optimized",
    "gpuNum": 0,
    "hideHardwareSpecs": false,
    "memoryGiB": 72,
    "name": "ml.c5.9xlarge",
    "vcpuNum": 36
   },
   {
    "_defaultOrder": 26,
    "_isFastLaunch": false,
    "category": "Compute optimized",
    "gpuNum": 0,
    "hideHardwareSpecs": false,
    "memoryGiB": 96,
    "name": "ml.c5.12xlarge",
    "vcpuNum": 48
   },
   {
    "_defaultOrder": 27,
    "_isFastLaunch": false,
    "category": "Compute optimized",
    "gpuNum": 0,
    "hideHardwareSpecs": false,
    "memoryGiB": 144,
    "name": "ml.c5.18xlarge",
    "vcpuNum": 72
   },
   {
    "_defaultOrder": 28,
    "_isFastLaunch": false,
    "category": "Compute optimized",
    "gpuNum": 0,
    "hideHardwareSpecs": false,
    "memoryGiB": 192,
    "name": "ml.c5.24xlarge",
    "vcpuNum": 96
   },
   {
    "_defaultOrder": 29,
    "_isFastLaunch": true,
    "category": "Accelerated computing",
    "gpuNum": 1,
    "hideHardwareSpecs": false,
    "memoryGiB": 16,
    "name": "ml.g4dn.xlarge",
    "vcpuNum": 4
   },
   {
    "_defaultOrder": 30,
    "_isFastLaunch": false,
    "category": "Accelerated computing",
    "gpuNum": 1,
    "hideHardwareSpecs": false,
    "memoryGiB": 32,
    "name": "ml.g4dn.2xlarge",
    "vcpuNum": 8
   },
   {
    "_defaultOrder": 31,
    "_isFastLaunch": false,
    "category": "Accelerated computing",
    "gpuNum": 1,
    "hideHardwareSpecs": false,
    "memoryGiB": 64,
    "name": "ml.g4dn.4xlarge",
    "vcpuNum": 16
   },
   {
    "_defaultOrder": 32,
    "_isFastLaunch": false,
    "category": "Accelerated computing",
    "gpuNum": 1,
    "hideHardwareSpecs": false,
    "memoryGiB": 128,
    "name": "ml.g4dn.8xlarge",
    "vcpuNum": 32
   },
   {
    "_defaultOrder": 33,
    "_isFastLaunch": false,
    "category": "Accelerated computing",
    "gpuNum": 4,
    "hideHardwareSpecs": false,
    "memoryGiB": 192,
    "name": "ml.g4dn.12xlarge",
    "vcpuNum": 48
   },
   {
    "_defaultOrder": 34,
    "_isFastLaunch": false,
    "category": "Accelerated computing",
    "gpuNum": 1,
    "hideHardwareSpecs": false,
    "memoryGiB": 256,
    "name": "ml.g4dn.16xlarge",
    "vcpuNum": 64
   },
   {
    "_defaultOrder": 35,
    "_isFastLaunch": false,
    "category": "Accelerated computing",
    "gpuNum": 1,
    "hideHardwareSpecs": false,
    "memoryGiB": 61,
    "name": "ml.p3.2xlarge",
    "vcpuNum": 8
   },
   {
    "_defaultOrder": 36,
    "_isFastLaunch": false,
    "category": "Accelerated computing",
    "gpuNum": 4,
    "hideHardwareSpecs": false,
    "memoryGiB": 244,
    "name": "ml.p3.8xlarge",
    "vcpuNum": 32
   },
   {
    "_defaultOrder": 37,
    "_isFastLaunch": false,
    "category": "Accelerated computing",
    "gpuNum": 8,
    "hideHardwareSpecs": false,
    "memoryGiB": 488,
    "name": "ml.p3.16xlarge",
    "vcpuNum": 64
   },
   {
    "_defaultOrder": 38,
    "_isFastLaunch": false,
    "category": "Accelerated computing",
    "gpuNum": 8,
    "hideHardwareSpecs": false,
    "memoryGiB": 768,
    "name": "ml.p3dn.24xlarge",
    "vcpuNum": 96
   },
   {
    "_defaultOrder": 39,
    "_isFastLaunch": false,
    "category": "Memory Optimized",
    "gpuNum": 0,
    "hideHardwareSpecs": false,
    "memoryGiB": 16,
    "name": "ml.r5.large",
    "vcpuNum": 2
   },
   {
    "_defaultOrder": 40,
    "_isFastLaunch": false,
    "category": "Memory Optimized",
    "gpuNum": 0,
    "hideHardwareSpecs": false,
    "memoryGiB": 32,
    "name": "ml.r5.xlarge",
    "vcpuNum": 4
   },
   {
    "_defaultOrder": 41,
    "_isFastLaunch": false,
    "category": "Memory Optimized",
    "gpuNum": 0,
    "hideHardwareSpecs": false,
    "memoryGiB": 64,
    "name": "ml.r5.2xlarge",
    "vcpuNum": 8
   },
   {
    "_defaultOrder": 42,
    "_isFastLaunch": false,
    "category": "Memory Optimized",
    "gpuNum": 0,
    "hideHardwareSpecs": false,
    "memoryGiB": 128,
    "name": "ml.r5.4xlarge",
    "vcpuNum": 16
   },
   {
    "_defaultOrder": 43,
    "_isFastLaunch": false,
    "category": "Memory Optimized",
    "gpuNum": 0,
    "hideHardwareSpecs": false,
    "memoryGiB": 256,
    "name": "ml.r5.8xlarge",
    "vcpuNum": 32
   },
   {
    "_defaultOrder": 44,
    "_isFastLaunch": false,
    "category": "Memory Optimized",
    "gpuNum": 0,
    "hideHardwareSpecs": false,
    "memoryGiB": 384,
    "name": "ml.r5.12xlarge",
    "vcpuNum": 48
   },
   {
    "_defaultOrder": 45,
    "_isFastLaunch": false,
    "category": "Memory Optimized",
    "gpuNum": 0,
    "hideHardwareSpecs": false,
    "memoryGiB": 512,
    "name": "ml.r5.16xlarge",
    "vcpuNum": 64
   },
   {
    "_defaultOrder": 46,
    "_isFastLaunch": false,
    "category": "Memory Optimized",
    "gpuNum": 0,
    "hideHardwareSpecs": false,
    "memoryGiB": 768,
    "name": "ml.r5.24xlarge",
    "vcpuNum": 96
   },
   {
    "_defaultOrder": 47,
    "_isFastLaunch": false,
    "category": "Accelerated computing",
    "gpuNum": 1,
    "hideHardwareSpecs": false,
    "memoryGiB": 16,
    "name": "ml.g5.xlarge",
    "vcpuNum": 4
   },
   {
    "_defaultOrder": 48,
    "_isFastLaunch": false,
    "category": "Accelerated computing",
    "gpuNum": 1,
    "hideHardwareSpecs": false,
    "memoryGiB": 32,
    "name": "ml.g5.2xlarge",
    "vcpuNum": 8
   },
   {
    "_defaultOrder": 49,
    "_isFastLaunch": false,
    "category": "Accelerated computing",
    "gpuNum": 1,
    "hideHardwareSpecs": false,
    "memoryGiB": 64,
    "name": "ml.g5.4xlarge",
    "vcpuNum": 16
   },
   {
    "_defaultOrder": 50,
    "_isFastLaunch": false,
    "category": "Accelerated computing",
    "gpuNum": 1,
    "hideHardwareSpecs": false,
    "memoryGiB": 128,
    "name": "ml.g5.8xlarge",
    "vcpuNum": 32
   },
   {
    "_defaultOrder": 51,
    "_isFastLaunch": false,
    "category": "Accelerated computing",
    "gpuNum": 1,
    "hideHardwareSpecs": false,
    "memoryGiB": 256,
    "name": "ml.g5.16xlarge",
    "vcpuNum": 64
   },
   {
    "_defaultOrder": 52,
    "_isFastLaunch": false,
    "category": "Accelerated computing",
    "gpuNum": 4,
    "hideHardwareSpecs": false,
    "memoryGiB": 192,
    "name": "ml.g5.12xlarge",
    "vcpuNum": 48
   },
   {
    "_defaultOrder": 53,
    "_isFastLaunch": false,
    "category": "Accelerated computing",
    "gpuNum": 4,
    "hideHardwareSpecs": false,
    "memoryGiB": 384,
    "name": "ml.g5.24xlarge",
    "vcpuNum": 96
   },
   {
    "_defaultOrder": 54,
    "_isFastLaunch": false,
    "category": "Accelerated computing",
    "gpuNum": 8,
    "hideHardwareSpecs": false,
    "memoryGiB": 768,
    "name": "ml.g5.48xlarge",
    "vcpuNum": 192
   },
   {
    "_defaultOrder": 55,
    "_isFastLaunch": false,
    "category": "Accelerated computing",
    "gpuNum": 8,
    "hideHardwareSpecs": false,
    "memoryGiB": 1152,
    "name": "ml.p4d.24xlarge",
    "vcpuNum": 96
   },
   {
    "_defaultOrder": 56,
    "_isFastLaunch": false,
    "category": "Accelerated computing",
    "gpuNum": 8,
    "hideHardwareSpecs": false,
    "memoryGiB": 1152,
    "name": "ml.p4de.24xlarge",
    "vcpuNum": 96
   }
  ],
  "instance_type": "ml.t3.medium",
  "kernelspec": {
   "display_name": ".venv",
   "language": "python",
   "name": "python3"
  },
  "language_info": {
   "codemirror_mode": {
    "name": "ipython",
    "version": 3
   },
   "file_extension": ".py",
   "mimetype": "text/x-python",
   "name": "python",
   "nbconvert_exporter": "python",
   "pygments_lexer": "ipython3",
   "version": "3.9.13"
  },
  "lcc_arn": "arn:aws:sagemaker:us-east-1:325223348818:studio-lifecycle-config/packages",
  "toc-autonumbering": false,
  "toc-showcode": false,
  "toc-showmarkdowntxt": false
 },
 "nbformat": 4,
 "nbformat_minor": 5
}
